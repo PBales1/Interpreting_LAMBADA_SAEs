{
  "nbformat": 4,
  "nbformat_minor": 0,
  "metadata": {
    "colab": {
      "provenance": [],
      "collapsed_sections": [
        "4DOBXtKv2PCg"
      ],
      "toc_visible": true,
      "gpuType": "T4"
    },
    "kernelspec": {
      "name": "python3",
      "display_name": "Python 3"
    },
    "language_info": {
      "name": "python"
    },
    "accelerator": "GPU"
  },
  "cells": [
    {
      "cell_type": "markdown",
      "source": [
        "# Steering Hallucinations in Language Models: Extending the Linear Representation Hypothesis with Sparse Autoencoders and Transcoders\n",
        "\n",
        "This notebook contains code for visualising steered vs unsteered GPT-2 Small outputs on LAMBADA prompts.  Please run SAE_Hallucination_Interpretability.ipynb to generate the list of top-ranked hallucination-causing features.  Paste this list below to save runtime (so the same calculations generating the feature ranking don't have to be run again)."
      ],
      "metadata": {
        "id": "HKD8dolMgrKs"
      }
    },
    {
      "cell_type": "markdown",
      "source": [
        "## Setup"
      ],
      "metadata": {
        "id": "JL4W_Y_thWgC"
      }
    },
    {
      "cell_type": "markdown",
      "source": [
        "### Environment Setup"
      ],
      "metadata": {
        "id": "1b83EA3DhaSn"
      }
    },
    {
      "cell_type": "markdown",
      "source": [
        "**Note**: Be sure to switch runtime to use a GPU for faster compute (e.g. T4 GPU).  If you have access to a high-RAM GPU (i.e. if you have Colab Pro), switching to use it will enable much better performance and allow for faster calculations"
      ],
      "metadata": {
        "id": "XnglHYcZhf-n"
      }
    },
    {
      "cell_type": "code",
      "execution_count": 1,
      "metadata": {
        "colab": {
          "base_uri": "https://localhost:8080/"
        },
        "id": "eHnlNZFOgYff",
        "outputId": "fd519718-4a64-4f54-baab-4a6670b70576"
      },
      "outputs": [
        {
          "output_type": "stream",
          "name": "stdout",
          "text": [
            "Your runtime has 13.6 gigabytes of available RAM\n",
            "\n",
            "Not using a high-RAM runtime\n"
          ]
        }
      ],
      "source": [
        "from psutil import virtual_memory\n",
        "ram_gb = virtual_memory().total / 1e9\n",
        "print('Your runtime has {:.1f} gigabytes of available RAM\\n'.format(ram_gb))\n",
        "HIGH_RAM = True\n",
        "\n",
        "if ram_gb < 20:\n",
        "  HIGH_RAM = False\n",
        "  print('Not using a high-RAM runtime')\n",
        "else:\n",
        "  print('You are using a high-RAM runtime!')"
      ]
    },
    {
      "cell_type": "code",
      "source": [
        "!pip install transformer_lens\n",
        "!pip install circuitsvis\n",
        "!pip install sae-lens\n",
        "!pip install pandas\n",
        "!pip uninstall -y numpy\n",
        "!pip install numpy==1.26.4 # Newer numpy versions have dependency conflicts with pandas\n",
        "# Install a faster Node version\n",
        "!curl -fsSL https://deb.nodesource.com/setup_21.x | sudo -E bash -; sudo apt-get install -y nodejs  # noqa"
      ],
      "metadata": {
        "colab": {
          "base_uri": "https://localhost:8080/"
        },
        "id": "zxHYJBd7gonM",
        "outputId": "e3b55af6-2825-479d-9a66-1dc616bab498"
      },
      "execution_count": 2,
      "outputs": [
        {
          "output_type": "stream",
          "name": "stdout",
          "text": [
            "Requirement already satisfied: transformer_lens in /usr/local/lib/python3.11/dist-packages (2.15.0)\n",
            "Requirement already satisfied: accelerate>=0.23.0 in /usr/local/lib/python3.11/dist-packages (from transformer_lens) (1.6.0)\n",
            "Requirement already satisfied: beartype<0.15.0,>=0.14.1 in /usr/local/lib/python3.11/dist-packages (from transformer_lens) (0.14.1)\n",
            "Requirement already satisfied: better-abc<0.0.4,>=0.0.3 in /usr/local/lib/python3.11/dist-packages (from transformer_lens) (0.0.3)\n",
            "Requirement already satisfied: datasets>=2.7.1 in /usr/local/lib/python3.11/dist-packages (from transformer_lens) (2.21.0)\n",
            "Requirement already satisfied: einops>=0.6.0 in /usr/local/lib/python3.11/dist-packages (from transformer_lens) (0.8.1)\n",
            "Requirement already satisfied: fancy-einsum>=0.0.3 in /usr/local/lib/python3.11/dist-packages (from transformer_lens) (0.0.3)\n",
            "Requirement already satisfied: jaxtyping>=0.2.11 in /usr/local/lib/python3.11/dist-packages (from transformer_lens) (0.3.2)\n",
            "Requirement already satisfied: numpy>=1.24 in /usr/local/lib/python3.11/dist-packages (from transformer_lens) (1.26.4)\n",
            "Requirement already satisfied: pandas>=1.1.5 in /usr/local/lib/python3.11/dist-packages (from transformer_lens) (2.2.2)\n",
            "Requirement already satisfied: rich>=12.6.0 in /usr/local/lib/python3.11/dist-packages (from transformer_lens) (13.9.4)\n",
            "Requirement already satisfied: sentencepiece in /usr/local/lib/python3.11/dist-packages (from transformer_lens) (0.2.0)\n",
            "Requirement already satisfied: torch>=2.2 in /usr/local/lib/python3.11/dist-packages (from transformer_lens) (2.6.0+cu124)\n",
            "Requirement already satisfied: tqdm>=4.64.1 in /usr/local/lib/python3.11/dist-packages (from transformer_lens) (4.67.1)\n",
            "Requirement already satisfied: transformers>=4.43 in /usr/local/lib/python3.11/dist-packages (from transformer_lens) (4.51.3)\n",
            "Requirement already satisfied: transformers-stream-generator<0.0.6,>=0.0.5 in /usr/local/lib/python3.11/dist-packages (from transformer_lens) (0.0.5)\n",
            "Requirement already satisfied: typeguard<5.0,>=4.2 in /usr/local/lib/python3.11/dist-packages (from transformer_lens) (4.4.2)\n",
            "Requirement already satisfied: typing-extensions in /usr/local/lib/python3.11/dist-packages (from transformer_lens) (4.13.2)\n",
            "Requirement already satisfied: wandb>=0.13.5 in /usr/local/lib/python3.11/dist-packages (from transformer_lens) (0.19.10)\n",
            "Requirement already satisfied: packaging>=20.0 in /usr/local/lib/python3.11/dist-packages (from accelerate>=0.23.0->transformer_lens) (24.2)\n",
            "Requirement already satisfied: psutil in /usr/local/lib/python3.11/dist-packages (from accelerate>=0.23.0->transformer_lens) (5.9.5)\n",
            "Requirement already satisfied: pyyaml in /usr/local/lib/python3.11/dist-packages (from accelerate>=0.23.0->transformer_lens) (6.0.2)\n",
            "Requirement already satisfied: huggingface-hub>=0.21.0 in /usr/local/lib/python3.11/dist-packages (from accelerate>=0.23.0->transformer_lens) (0.30.2)\n",
            "Requirement already satisfied: safetensors>=0.4.3 in /usr/local/lib/python3.11/dist-packages (from accelerate>=0.23.0->transformer_lens) (0.4.5)\n",
            "Requirement already satisfied: filelock in /usr/local/lib/python3.11/dist-packages (from datasets>=2.7.1->transformer_lens) (3.18.0)\n",
            "Requirement already satisfied: pyarrow>=15.0.0 in /usr/local/lib/python3.11/dist-packages (from datasets>=2.7.1->transformer_lens) (18.1.0)\n",
            "Requirement already satisfied: dill<0.3.9,>=0.3.0 in /usr/local/lib/python3.11/dist-packages (from datasets>=2.7.1->transformer_lens) (0.3.8)\n",
            "Requirement already satisfied: requests>=2.32.2 in /usr/local/lib/python3.11/dist-packages (from datasets>=2.7.1->transformer_lens) (2.32.3)\n",
            "Requirement already satisfied: xxhash in /usr/local/lib/python3.11/dist-packages (from datasets>=2.7.1->transformer_lens) (3.5.0)\n",
            "Requirement already satisfied: multiprocess in /usr/local/lib/python3.11/dist-packages (from datasets>=2.7.1->transformer_lens) (0.70.16)\n",
            "Requirement already satisfied: fsspec<=2024.6.1,>=2023.1.0 in /usr/local/lib/python3.11/dist-packages (from fsspec[http]<=2024.6.1,>=2023.1.0->datasets>=2.7.1->transformer_lens) (2024.6.1)\n",
            "Requirement already satisfied: aiohttp in /usr/local/lib/python3.11/dist-packages (from datasets>=2.7.1->transformer_lens) (3.11.15)\n",
            "Requirement already satisfied: wadler-lindig>=0.1.3 in /usr/local/lib/python3.11/dist-packages (from jaxtyping>=0.2.11->transformer_lens) (0.1.5)\n",
            "Requirement already satisfied: python-dateutil>=2.8.2 in /usr/local/lib/python3.11/dist-packages (from pandas>=1.1.5->transformer_lens) (2.9.0.post0)\n",
            "Requirement already satisfied: pytz>=2020.1 in /usr/local/lib/python3.11/dist-packages (from pandas>=1.1.5->transformer_lens) (2025.2)\n",
            "Requirement already satisfied: tzdata>=2022.7 in /usr/local/lib/python3.11/dist-packages (from pandas>=1.1.5->transformer_lens) (2025.2)\n",
            "Requirement already satisfied: markdown-it-py>=2.2.0 in /usr/local/lib/python3.11/dist-packages (from rich>=12.6.0->transformer_lens) (3.0.0)\n",
            "Requirement already satisfied: pygments<3.0.0,>=2.13.0 in /usr/local/lib/python3.11/dist-packages (from rich>=12.6.0->transformer_lens) (2.19.1)\n",
            "Requirement already satisfied: networkx in /usr/local/lib/python3.11/dist-packages (from torch>=2.2->transformer_lens) (3.4.2)\n",
            "Requirement already satisfied: jinja2 in /usr/local/lib/python3.11/dist-packages (from torch>=2.2->transformer_lens) (3.1.6)\n",
            "Requirement already satisfied: nvidia-cuda-nvrtc-cu12==12.4.127 in /usr/local/lib/python3.11/dist-packages (from torch>=2.2->transformer_lens) (12.4.127)\n",
            "Requirement already satisfied: nvidia-cuda-runtime-cu12==12.4.127 in /usr/local/lib/python3.11/dist-packages (from torch>=2.2->transformer_lens) (12.4.127)\n",
            "Requirement already satisfied: nvidia-cuda-cupti-cu12==12.4.127 in /usr/local/lib/python3.11/dist-packages (from torch>=2.2->transformer_lens) (12.4.127)\n",
            "Requirement already satisfied: nvidia-cudnn-cu12==9.1.0.70 in /usr/local/lib/python3.11/dist-packages (from torch>=2.2->transformer_lens) (9.1.0.70)\n",
            "Requirement already satisfied: nvidia-cublas-cu12==12.4.5.8 in /usr/local/lib/python3.11/dist-packages (from torch>=2.2->transformer_lens) (12.4.5.8)\n",
            "Requirement already satisfied: nvidia-cufft-cu12==11.2.1.3 in /usr/local/lib/python3.11/dist-packages (from torch>=2.2->transformer_lens) (11.2.1.3)\n",
            "Requirement already satisfied: nvidia-curand-cu12==10.3.5.147 in /usr/local/lib/python3.11/dist-packages (from torch>=2.2->transformer_lens) (10.3.5.147)\n",
            "Requirement already satisfied: nvidia-cusolver-cu12==11.6.1.9 in /usr/local/lib/python3.11/dist-packages (from torch>=2.2->transformer_lens) (11.6.1.9)\n",
            "Requirement already satisfied: nvidia-cusparse-cu12==12.3.1.170 in /usr/local/lib/python3.11/dist-packages (from torch>=2.2->transformer_lens) (12.3.1.170)\n",
            "Requirement already satisfied: nvidia-cusparselt-cu12==0.6.2 in /usr/local/lib/python3.11/dist-packages (from torch>=2.2->transformer_lens) (0.6.2)\n",
            "Requirement already satisfied: nvidia-nccl-cu12==2.21.5 in /usr/local/lib/python3.11/dist-packages (from torch>=2.2->transformer_lens) (2.21.5)\n",
            "Requirement already satisfied: nvidia-nvtx-cu12==12.4.127 in /usr/local/lib/python3.11/dist-packages (from torch>=2.2->transformer_lens) (12.4.127)\n",
            "Requirement already satisfied: nvidia-nvjitlink-cu12==12.4.127 in /usr/local/lib/python3.11/dist-packages (from torch>=2.2->transformer_lens) (12.4.127)\n",
            "Requirement already satisfied: triton==3.2.0 in /usr/local/lib/python3.11/dist-packages (from torch>=2.2->transformer_lens) (3.2.0)\n",
            "Requirement already satisfied: sympy==1.13.1 in /usr/local/lib/python3.11/dist-packages (from torch>=2.2->transformer_lens) (1.13.1)\n",
            "Requirement already satisfied: mpmath<1.4,>=1.1.0 in /usr/local/lib/python3.11/dist-packages (from sympy==1.13.1->torch>=2.2->transformer_lens) (1.3.0)\n",
            "Requirement already satisfied: regex!=2019.12.17 in /usr/local/lib/python3.11/dist-packages (from transformers>=4.43->transformer_lens) (2024.11.6)\n",
            "Requirement already satisfied: tokenizers<0.22,>=0.21 in /usr/local/lib/python3.11/dist-packages (from transformers>=4.43->transformer_lens) (0.21.1)\n",
            "Requirement already satisfied: click!=8.0.0,>=7.1 in /usr/local/lib/python3.11/dist-packages (from wandb>=0.13.5->transformer_lens) (8.1.8)\n",
            "Requirement already satisfied: docker-pycreds>=0.4.0 in /usr/local/lib/python3.11/dist-packages (from wandb>=0.13.5->transformer_lens) (0.4.0)\n",
            "Requirement already satisfied: gitpython!=3.1.29,>=1.0.0 in /usr/local/lib/python3.11/dist-packages (from wandb>=0.13.5->transformer_lens) (3.1.44)\n",
            "Requirement already satisfied: platformdirs in /usr/local/lib/python3.11/dist-packages (from wandb>=0.13.5->transformer_lens) (4.3.7)\n",
            "Requirement already satisfied: protobuf!=4.21.0,!=5.28.0,<7,>=3.19.0 in /usr/local/lib/python3.11/dist-packages (from wandb>=0.13.5->transformer_lens) (5.29.4)\n",
            "Requirement already satisfied: pydantic<3 in /usr/local/lib/python3.11/dist-packages (from wandb>=0.13.5->transformer_lens) (2.11.4)\n",
            "Requirement already satisfied: sentry-sdk>=2.0.0 in /usr/local/lib/python3.11/dist-packages (from wandb>=0.13.5->transformer_lens) (2.27.0)\n",
            "Requirement already satisfied: setproctitle in /usr/local/lib/python3.11/dist-packages (from wandb>=0.13.5->transformer_lens) (1.3.6)\n",
            "Requirement already satisfied: setuptools in /usr/local/lib/python3.11/dist-packages (from wandb>=0.13.5->transformer_lens) (75.2.0)\n",
            "Requirement already satisfied: six>=1.4.0 in /usr/local/lib/python3.11/dist-packages (from docker-pycreds>=0.4.0->wandb>=0.13.5->transformer_lens) (1.17.0)\n",
            "Requirement already satisfied: aiohappyeyeballs>=2.3.0 in /usr/local/lib/python3.11/dist-packages (from aiohttp->datasets>=2.7.1->transformer_lens) (2.6.1)\n",
            "Requirement already satisfied: aiosignal>=1.1.2 in /usr/local/lib/python3.11/dist-packages (from aiohttp->datasets>=2.7.1->transformer_lens) (1.3.2)\n",
            "Requirement already satisfied: attrs>=17.3.0 in /usr/local/lib/python3.11/dist-packages (from aiohttp->datasets>=2.7.1->transformer_lens) (25.3.0)\n",
            "Requirement already satisfied: frozenlist>=1.1.1 in /usr/local/lib/python3.11/dist-packages (from aiohttp->datasets>=2.7.1->transformer_lens) (1.6.0)\n",
            "Requirement already satisfied: multidict<7.0,>=4.5 in /usr/local/lib/python3.11/dist-packages (from aiohttp->datasets>=2.7.1->transformer_lens) (6.4.3)\n",
            "Requirement already satisfied: propcache>=0.2.0 in /usr/local/lib/python3.11/dist-packages (from aiohttp->datasets>=2.7.1->transformer_lens) (0.3.1)\n",
            "Requirement already satisfied: yarl<2.0,>=1.17.0 in /usr/local/lib/python3.11/dist-packages (from aiohttp->datasets>=2.7.1->transformer_lens) (1.20.0)\n",
            "Requirement already satisfied: gitdb<5,>=4.0.1 in /usr/local/lib/python3.11/dist-packages (from gitpython!=3.1.29,>=1.0.0->wandb>=0.13.5->transformer_lens) (4.0.12)\n",
            "Requirement already satisfied: mdurl~=0.1 in /usr/local/lib/python3.11/dist-packages (from markdown-it-py>=2.2.0->rich>=12.6.0->transformer_lens) (0.1.2)\n",
            "Requirement already satisfied: annotated-types>=0.6.0 in /usr/local/lib/python3.11/dist-packages (from pydantic<3->wandb>=0.13.5->transformer_lens) (0.7.0)\n",
            "Requirement already satisfied: pydantic-core==2.33.2 in /usr/local/lib/python3.11/dist-packages (from pydantic<3->wandb>=0.13.5->transformer_lens) (2.33.2)\n",
            "Requirement already satisfied: typing-inspection>=0.4.0 in /usr/local/lib/python3.11/dist-packages (from pydantic<3->wandb>=0.13.5->transformer_lens) (0.4.0)\n",
            "Requirement already satisfied: charset-normalizer<4,>=2 in /usr/local/lib/python3.11/dist-packages (from requests>=2.32.2->datasets>=2.7.1->transformer_lens) (3.4.1)\n",
            "Requirement already satisfied: idna<4,>=2.5 in /usr/local/lib/python3.11/dist-packages (from requests>=2.32.2->datasets>=2.7.1->transformer_lens) (3.10)\n",
            "Requirement already satisfied: urllib3<3,>=1.21.1 in /usr/local/lib/python3.11/dist-packages (from requests>=2.32.2->datasets>=2.7.1->transformer_lens) (2.4.0)\n",
            "Requirement already satisfied: certifi>=2017.4.17 in /usr/local/lib/python3.11/dist-packages (from requests>=2.32.2->datasets>=2.7.1->transformer_lens) (2025.4.26)\n",
            "Requirement already satisfied: MarkupSafe>=2.0 in /usr/local/lib/python3.11/dist-packages (from jinja2->torch>=2.2->transformer_lens) (3.0.2)\n",
            "Requirement already satisfied: smmap<6,>=3.0.1 in /usr/local/lib/python3.11/dist-packages (from gitdb<5,>=4.0.1->gitpython!=3.1.29,>=1.0.0->wandb>=0.13.5->transformer_lens) (5.0.2)\n",
            "Requirement already satisfied: circuitsvis in /usr/local/lib/python3.11/dist-packages (1.43.3)\n",
            "Requirement already satisfied: importlib-metadata>=5.1.0 in /usr/local/lib/python3.11/dist-packages (from circuitsvis) (8.7.0)\n",
            "Requirement already satisfied: numpy>=1.24 in /usr/local/lib/python3.11/dist-packages (from circuitsvis) (1.26.4)\n",
            "Requirement already satisfied: torch>=2.1.1 in /usr/local/lib/python3.11/dist-packages (from circuitsvis) (2.6.0+cu124)\n",
            "Requirement already satisfied: zipp>=3.20 in /usr/local/lib/python3.11/dist-packages (from importlib-metadata>=5.1.0->circuitsvis) (3.21.0)\n",
            "Requirement already satisfied: filelock in /usr/local/lib/python3.11/dist-packages (from torch>=2.1.1->circuitsvis) (3.18.0)\n",
            "Requirement already satisfied: typing-extensions>=4.10.0 in /usr/local/lib/python3.11/dist-packages (from torch>=2.1.1->circuitsvis) (4.13.2)\n",
            "Requirement already satisfied: networkx in /usr/local/lib/python3.11/dist-packages (from torch>=2.1.1->circuitsvis) (3.4.2)\n",
            "Requirement already satisfied: jinja2 in /usr/local/lib/python3.11/dist-packages (from torch>=2.1.1->circuitsvis) (3.1.6)\n",
            "Requirement already satisfied: fsspec in /usr/local/lib/python3.11/dist-packages (from torch>=2.1.1->circuitsvis) (2024.6.1)\n",
            "Requirement already satisfied: nvidia-cuda-nvrtc-cu12==12.4.127 in /usr/local/lib/python3.11/dist-packages (from torch>=2.1.1->circuitsvis) (12.4.127)\n",
            "Requirement already satisfied: nvidia-cuda-runtime-cu12==12.4.127 in /usr/local/lib/python3.11/dist-packages (from torch>=2.1.1->circuitsvis) (12.4.127)\n",
            "Requirement already satisfied: nvidia-cuda-cupti-cu12==12.4.127 in /usr/local/lib/python3.11/dist-packages (from torch>=2.1.1->circuitsvis) (12.4.127)\n",
            "Requirement already satisfied: nvidia-cudnn-cu12==9.1.0.70 in /usr/local/lib/python3.11/dist-packages (from torch>=2.1.1->circuitsvis) (9.1.0.70)\n",
            "Requirement already satisfied: nvidia-cublas-cu12==12.4.5.8 in /usr/local/lib/python3.11/dist-packages (from torch>=2.1.1->circuitsvis) (12.4.5.8)\n",
            "Requirement already satisfied: nvidia-cufft-cu12==11.2.1.3 in /usr/local/lib/python3.11/dist-packages (from torch>=2.1.1->circuitsvis) (11.2.1.3)\n",
            "Requirement already satisfied: nvidia-curand-cu12==10.3.5.147 in /usr/local/lib/python3.11/dist-packages (from torch>=2.1.1->circuitsvis) (10.3.5.147)\n",
            "Requirement already satisfied: nvidia-cusolver-cu12==11.6.1.9 in /usr/local/lib/python3.11/dist-packages (from torch>=2.1.1->circuitsvis) (11.6.1.9)\n",
            "Requirement already satisfied: nvidia-cusparse-cu12==12.3.1.170 in /usr/local/lib/python3.11/dist-packages (from torch>=2.1.1->circuitsvis) (12.3.1.170)\n",
            "Requirement already satisfied: nvidia-cusparselt-cu12==0.6.2 in /usr/local/lib/python3.11/dist-packages (from torch>=2.1.1->circuitsvis) (0.6.2)\n",
            "Requirement already satisfied: nvidia-nccl-cu12==2.21.5 in /usr/local/lib/python3.11/dist-packages (from torch>=2.1.1->circuitsvis) (2.21.5)\n",
            "Requirement already satisfied: nvidia-nvtx-cu12==12.4.127 in /usr/local/lib/python3.11/dist-packages (from torch>=2.1.1->circuitsvis) (12.4.127)\n",
            "Requirement already satisfied: nvidia-nvjitlink-cu12==12.4.127 in /usr/local/lib/python3.11/dist-packages (from torch>=2.1.1->circuitsvis) (12.4.127)\n",
            "Requirement already satisfied: triton==3.2.0 in /usr/local/lib/python3.11/dist-packages (from torch>=2.1.1->circuitsvis) (3.2.0)\n",
            "Requirement already satisfied: sympy==1.13.1 in /usr/local/lib/python3.11/dist-packages (from torch>=2.1.1->circuitsvis) (1.13.1)\n",
            "Requirement already satisfied: mpmath<1.4,>=1.1.0 in /usr/local/lib/python3.11/dist-packages (from sympy==1.13.1->torch>=2.1.1->circuitsvis) (1.3.0)\n",
            "Requirement already satisfied: MarkupSafe>=2.0 in /usr/local/lib/python3.11/dist-packages (from jinja2->torch>=2.1.1->circuitsvis) (3.0.2)\n",
            "Requirement already satisfied: sae-lens in /usr/local/lib/python3.11/dist-packages (5.10.1)\n",
            "Requirement already satisfied: automated-interpretability<1.0.0,>=0.0.5 in /usr/local/lib/python3.11/dist-packages (from sae-lens) (0.0.9)\n",
            "Requirement already satisfied: babe<0.0.8,>=0.0.7 in /usr/local/lib/python3.11/dist-packages (from sae-lens) (0.0.7)\n",
            "Requirement already satisfied: datasets<3.0.0,>=2.17.1 in /usr/local/lib/python3.11/dist-packages (from sae-lens) (2.21.0)\n",
            "Requirement already satisfied: matplotlib<4.0.0,>=3.8.3 in /usr/local/lib/python3.11/dist-packages (from sae-lens) (3.10.0)\n",
            "Requirement already satisfied: matplotlib-inline<0.2.0,>=0.1.6 in /usr/local/lib/python3.11/dist-packages (from sae-lens) (0.1.7)\n",
            "Requirement already satisfied: nltk<4.0.0,>=3.8.1 in /usr/local/lib/python3.11/dist-packages (from sae-lens) (3.9.1)\n",
            "Requirement already satisfied: plotly<6.0.0,>=5.19.0 in /usr/local/lib/python3.11/dist-packages (from sae-lens) (5.24.1)\n",
            "Requirement already satisfied: plotly-express<0.5.0,>=0.4.1 in /usr/local/lib/python3.11/dist-packages (from sae-lens) (0.4.1)\n",
            "Requirement already satisfied: pytest-profiling<2.0.0,>=1.7.0 in /usr/local/lib/python3.11/dist-packages (from sae-lens) (1.8.1)\n",
            "Requirement already satisfied: python-dotenv<2.0.0,>=1.0.1 in /usr/local/lib/python3.11/dist-packages (from sae-lens) (1.1.0)\n",
            "Requirement already satisfied: pyyaml<7.0.0,>=6.0.1 in /usr/local/lib/python3.11/dist-packages (from sae-lens) (6.0.2)\n",
            "Requirement already satisfied: pyzmq==26.0.0 in /usr/local/lib/python3.11/dist-packages (from sae-lens) (26.0.0)\n",
            "Requirement already satisfied: safetensors<0.5.0,>=0.4.2 in /usr/local/lib/python3.11/dist-packages (from sae-lens) (0.4.5)\n",
            "Requirement already satisfied: simple-parsing<0.2.0,>=0.1.6 in /usr/local/lib/python3.11/dist-packages (from sae-lens) (0.1.7)\n",
            "Requirement already satisfied: transformer-lens<3.0.0,>=2.0.0 in /usr/local/lib/python3.11/dist-packages (from sae-lens) (2.15.0)\n",
            "Requirement already satisfied: transformers<5.0.0,>=4.38.1 in /usr/local/lib/python3.11/dist-packages (from sae-lens) (4.51.3)\n",
            "Requirement already satisfied: typer<0.13.0,>=0.12.3 in /usr/local/lib/python3.11/dist-packages (from sae-lens) (0.12.5)\n",
            "Requirement already satisfied: typing-extensions<5.0.0,>=4.10.0 in /usr/local/lib/python3.11/dist-packages (from sae-lens) (4.13.2)\n",
            "Requirement already satisfied: zstandard<0.23.0,>=0.22.0 in /usr/local/lib/python3.11/dist-packages (from sae-lens) (0.22.0)\n",
            "Requirement already satisfied: blobfile<3.0.0,>=2.1.1 in /usr/local/lib/python3.11/dist-packages (from automated-interpretability<1.0.0,>=0.0.5->sae-lens) (2.1.1)\n",
            "Requirement already satisfied: boostedblob<0.16.0,>=0.15.3 in /usr/local/lib/python3.11/dist-packages (from automated-interpretability<1.0.0,>=0.0.5->sae-lens) (0.15.6)\n",
            "Requirement already satisfied: httpx<0.28.0,>=0.27.0 in /usr/local/lib/python3.11/dist-packages (from automated-interpretability<1.0.0,>=0.0.5->sae-lens) (0.27.2)\n",
            "Requirement already satisfied: numpy<2.0.0,>=1.24.0 in /usr/local/lib/python3.11/dist-packages (from automated-interpretability<1.0.0,>=0.0.5->sae-lens) (1.26.4)\n",
            "Requirement already satisfied: orjson<4.0.0,>=3.10.1 in /usr/local/lib/python3.11/dist-packages (from automated-interpretability<1.0.0,>=0.0.5->sae-lens) (3.10.18)\n",
            "Requirement already satisfied: scikit-learn<2.0.0,>=1.2.0 in /usr/local/lib/python3.11/dist-packages (from automated-interpretability<1.0.0,>=0.0.5->sae-lens) (1.6.1)\n",
            "Requirement already satisfied: tiktoken>=0.6.0 in /usr/local/lib/python3.11/dist-packages (from automated-interpretability<1.0.0,>=0.0.5->sae-lens) (0.9.0)\n",
            "Requirement already satisfied: pandas in /usr/local/lib/python3.11/dist-packages (from babe<0.0.8,>=0.0.7->sae-lens) (2.2.2)\n",
            "Requirement already satisfied: py2store in /usr/local/lib/python3.11/dist-packages (from babe<0.0.8,>=0.0.7->sae-lens) (0.1.20)\n",
            "Requirement already satisfied: graze in /usr/local/lib/python3.11/dist-packages (from babe<0.0.8,>=0.0.7->sae-lens) (0.1.29)\n",
            "Requirement already satisfied: filelock in /usr/local/lib/python3.11/dist-packages (from datasets<3.0.0,>=2.17.1->sae-lens) (3.18.0)\n",
            "Requirement already satisfied: pyarrow>=15.0.0 in /usr/local/lib/python3.11/dist-packages (from datasets<3.0.0,>=2.17.1->sae-lens) (18.1.0)\n",
            "Requirement already satisfied: dill<0.3.9,>=0.3.0 in /usr/local/lib/python3.11/dist-packages (from datasets<3.0.0,>=2.17.1->sae-lens) (0.3.8)\n",
            "Requirement already satisfied: requests>=2.32.2 in /usr/local/lib/python3.11/dist-packages (from datasets<3.0.0,>=2.17.1->sae-lens) (2.32.3)\n",
            "Requirement already satisfied: tqdm>=4.66.3 in /usr/local/lib/python3.11/dist-packages (from datasets<3.0.0,>=2.17.1->sae-lens) (4.67.1)\n",
            "Requirement already satisfied: xxhash in /usr/local/lib/python3.11/dist-packages (from datasets<3.0.0,>=2.17.1->sae-lens) (3.5.0)\n",
            "Requirement already satisfied: multiprocess in /usr/local/lib/python3.11/dist-packages (from datasets<3.0.0,>=2.17.1->sae-lens) (0.70.16)\n",
            "Requirement already satisfied: fsspec<=2024.6.1,>=2023.1.0 in /usr/local/lib/python3.11/dist-packages (from fsspec[http]<=2024.6.1,>=2023.1.0->datasets<3.0.0,>=2.17.1->sae-lens) (2024.6.1)\n",
            "Requirement already satisfied: aiohttp in /usr/local/lib/python3.11/dist-packages (from datasets<3.0.0,>=2.17.1->sae-lens) (3.11.15)\n",
            "Requirement already satisfied: huggingface-hub>=0.21.2 in /usr/local/lib/python3.11/dist-packages (from datasets<3.0.0,>=2.17.1->sae-lens) (0.30.2)\n",
            "Requirement already satisfied: packaging in /usr/local/lib/python3.11/dist-packages (from datasets<3.0.0,>=2.17.1->sae-lens) (24.2)\n",
            "Requirement already satisfied: contourpy>=1.0.1 in /usr/local/lib/python3.11/dist-packages (from matplotlib<4.0.0,>=3.8.3->sae-lens) (1.3.2)\n",
            "Requirement already satisfied: cycler>=0.10 in /usr/local/lib/python3.11/dist-packages (from matplotlib<4.0.0,>=3.8.3->sae-lens) (0.12.1)\n",
            "Requirement already satisfied: fonttools>=4.22.0 in /usr/local/lib/python3.11/dist-packages (from matplotlib<4.0.0,>=3.8.3->sae-lens) (4.57.0)\n",
            "Requirement already satisfied: kiwisolver>=1.3.1 in /usr/local/lib/python3.11/dist-packages (from matplotlib<4.0.0,>=3.8.3->sae-lens) (1.4.8)\n",
            "Requirement already satisfied: pillow>=8 in /usr/local/lib/python3.11/dist-packages (from matplotlib<4.0.0,>=3.8.3->sae-lens) (11.2.1)\n",
            "Requirement already satisfied: pyparsing>=2.3.1 in /usr/local/lib/python3.11/dist-packages (from matplotlib<4.0.0,>=3.8.3->sae-lens) (3.2.3)\n",
            "Requirement already satisfied: python-dateutil>=2.7 in /usr/local/lib/python3.11/dist-packages (from matplotlib<4.0.0,>=3.8.3->sae-lens) (2.9.0.post0)\n",
            "Requirement already satisfied: traitlets in /usr/local/lib/python3.11/dist-packages (from matplotlib-inline<0.2.0,>=0.1.6->sae-lens) (5.7.1)\n",
            "Requirement already satisfied: click in /usr/local/lib/python3.11/dist-packages (from nltk<4.0.0,>=3.8.1->sae-lens) (8.1.8)\n",
            "Requirement already satisfied: joblib in /usr/local/lib/python3.11/dist-packages (from nltk<4.0.0,>=3.8.1->sae-lens) (1.4.2)\n",
            "Requirement already satisfied: regex>=2021.8.3 in /usr/local/lib/python3.11/dist-packages (from nltk<4.0.0,>=3.8.1->sae-lens) (2024.11.6)\n",
            "Requirement already satisfied: tenacity>=6.2.0 in /usr/local/lib/python3.11/dist-packages (from plotly<6.0.0,>=5.19.0->sae-lens) (9.1.2)\n",
            "Requirement already satisfied: statsmodels>=0.9.0 in /usr/local/lib/python3.11/dist-packages (from plotly-express<0.5.0,>=0.4.1->sae-lens) (0.14.4)\n",
            "Requirement already satisfied: scipy>=0.18 in /usr/local/lib/python3.11/dist-packages (from plotly-express<0.5.0,>=0.4.1->sae-lens) (1.15.2)\n",
            "Requirement already satisfied: patsy>=0.5 in /usr/local/lib/python3.11/dist-packages (from plotly-express<0.5.0,>=0.4.1->sae-lens) (1.0.1)\n",
            "Requirement already satisfied: six in /usr/local/lib/python3.11/dist-packages (from pytest-profiling<2.0.0,>=1.7.0->sae-lens) (1.17.0)\n",
            "Requirement already satisfied: pytest in /usr/local/lib/python3.11/dist-packages (from pytest-profiling<2.0.0,>=1.7.0->sae-lens) (8.3.5)\n",
            "Requirement already satisfied: gprof2dot in /usr/local/lib/python3.11/dist-packages (from pytest-profiling<2.0.0,>=1.7.0->sae-lens) (2025.4.14)\n",
            "Requirement already satisfied: docstring-parser<1.0,>=0.15 in /usr/local/lib/python3.11/dist-packages (from simple-parsing<0.2.0,>=0.1.6->sae-lens) (0.16)\n",
            "Requirement already satisfied: accelerate>=0.23.0 in /usr/local/lib/python3.11/dist-packages (from transformer-lens<3.0.0,>=2.0.0->sae-lens) (1.6.0)\n",
            "Requirement already satisfied: beartype<0.15.0,>=0.14.1 in /usr/local/lib/python3.11/dist-packages (from transformer-lens<3.0.0,>=2.0.0->sae-lens) (0.14.1)\n",
            "Requirement already satisfied: better-abc<0.0.4,>=0.0.3 in /usr/local/lib/python3.11/dist-packages (from transformer-lens<3.0.0,>=2.0.0->sae-lens) (0.0.3)\n",
            "Requirement already satisfied: einops>=0.6.0 in /usr/local/lib/python3.11/dist-packages (from transformer-lens<3.0.0,>=2.0.0->sae-lens) (0.8.1)\n",
            "Requirement already satisfied: fancy-einsum>=0.0.3 in /usr/local/lib/python3.11/dist-packages (from transformer-lens<3.0.0,>=2.0.0->sae-lens) (0.0.3)\n",
            "Requirement already satisfied: jaxtyping>=0.2.11 in /usr/local/lib/python3.11/dist-packages (from transformer-lens<3.0.0,>=2.0.0->sae-lens) (0.3.2)\n",
            "Requirement already satisfied: rich>=12.6.0 in /usr/local/lib/python3.11/dist-packages (from transformer-lens<3.0.0,>=2.0.0->sae-lens) (13.9.4)\n",
            "Requirement already satisfied: sentencepiece in /usr/local/lib/python3.11/dist-packages (from transformer-lens<3.0.0,>=2.0.0->sae-lens) (0.2.0)\n",
            "Requirement already satisfied: torch>=2.2 in /usr/local/lib/python3.11/dist-packages (from transformer-lens<3.0.0,>=2.0.0->sae-lens) (2.6.0+cu124)\n",
            "Requirement already satisfied: transformers-stream-generator<0.0.6,>=0.0.5 in /usr/local/lib/python3.11/dist-packages (from transformer-lens<3.0.0,>=2.0.0->sae-lens) (0.0.5)\n",
            "Requirement already satisfied: typeguard<5.0,>=4.2 in /usr/local/lib/python3.11/dist-packages (from transformer-lens<3.0.0,>=2.0.0->sae-lens) (4.4.2)\n",
            "Requirement already satisfied: wandb>=0.13.5 in /usr/local/lib/python3.11/dist-packages (from transformer-lens<3.0.0,>=2.0.0->sae-lens) (0.19.10)\n",
            "Requirement already satisfied: tokenizers<0.22,>=0.21 in /usr/local/lib/python3.11/dist-packages (from transformers<5.0.0,>=4.38.1->sae-lens) (0.21.1)\n",
            "Requirement already satisfied: shellingham>=1.3.0 in /usr/local/lib/python3.11/dist-packages (from typer<0.13.0,>=0.12.3->sae-lens) (1.5.4)\n",
            "Requirement already satisfied: psutil in /usr/local/lib/python3.11/dist-packages (from accelerate>=0.23.0->transformer-lens<3.0.0,>=2.0.0->sae-lens) (5.9.5)\n",
            "Requirement already satisfied: pycryptodomex~=3.8 in /usr/local/lib/python3.11/dist-packages (from blobfile<3.0.0,>=2.1.1->automated-interpretability<1.0.0,>=0.0.5->sae-lens) (3.22.0)\n",
            "Requirement already satisfied: urllib3<3,>=1.25.3 in /usr/local/lib/python3.11/dist-packages (from blobfile<3.0.0,>=2.1.1->automated-interpretability<1.0.0,>=0.0.5->sae-lens) (2.4.0)\n",
            "Requirement already satisfied: lxml~=4.9 in /usr/local/lib/python3.11/dist-packages (from blobfile<3.0.0,>=2.1.1->automated-interpretability<1.0.0,>=0.0.5->sae-lens) (4.9.4)\n",
            "Requirement already satisfied: uvloop>=0.16.0 in /usr/local/lib/python3.11/dist-packages (from boostedblob<0.16.0,>=0.15.3->automated-interpretability<1.0.0,>=0.0.5->sae-lens) (0.21.0)\n",
            "Requirement already satisfied: aiohappyeyeballs>=2.3.0 in /usr/local/lib/python3.11/dist-packages (from aiohttp->datasets<3.0.0,>=2.17.1->sae-lens) (2.6.1)\n",
            "Requirement already satisfied: aiosignal>=1.1.2 in /usr/local/lib/python3.11/dist-packages (from aiohttp->datasets<3.0.0,>=2.17.1->sae-lens) (1.3.2)\n",
            "Requirement already satisfied: attrs>=17.3.0 in /usr/local/lib/python3.11/dist-packages (from aiohttp->datasets<3.0.0,>=2.17.1->sae-lens) (25.3.0)\n",
            "Requirement already satisfied: frozenlist>=1.1.1 in /usr/local/lib/python3.11/dist-packages (from aiohttp->datasets<3.0.0,>=2.17.1->sae-lens) (1.6.0)\n",
            "Requirement already satisfied: multidict<7.0,>=4.5 in /usr/local/lib/python3.11/dist-packages (from aiohttp->datasets<3.0.0,>=2.17.1->sae-lens) (6.4.3)\n",
            "Requirement already satisfied: propcache>=0.2.0 in /usr/local/lib/python3.11/dist-packages (from aiohttp->datasets<3.0.0,>=2.17.1->sae-lens) (0.3.1)\n",
            "Requirement already satisfied: yarl<2.0,>=1.17.0 in /usr/local/lib/python3.11/dist-packages (from aiohttp->datasets<3.0.0,>=2.17.1->sae-lens) (1.20.0)\n",
            "Requirement already satisfied: anyio in /usr/local/lib/python3.11/dist-packages (from httpx<0.28.0,>=0.27.0->automated-interpretability<1.0.0,>=0.0.5->sae-lens) (4.9.0)\n",
            "Requirement already satisfied: certifi in /usr/local/lib/python3.11/dist-packages (from httpx<0.28.0,>=0.27.0->automated-interpretability<1.0.0,>=0.0.5->sae-lens) (2025.4.26)\n",
            "Requirement already satisfied: httpcore==1.* in /usr/local/lib/python3.11/dist-packages (from httpx<0.28.0,>=0.27.0->automated-interpretability<1.0.0,>=0.0.5->sae-lens) (1.0.9)\n",
            "Requirement already satisfied: idna in /usr/local/lib/python3.11/dist-packages (from httpx<0.28.0,>=0.27.0->automated-interpretability<1.0.0,>=0.0.5->sae-lens) (3.10)\n",
            "Requirement already satisfied: sniffio in /usr/local/lib/python3.11/dist-packages (from httpx<0.28.0,>=0.27.0->automated-interpretability<1.0.0,>=0.0.5->sae-lens) (1.3.1)\n",
            "Requirement already satisfied: h11>=0.16 in /usr/local/lib/python3.11/dist-packages (from httpcore==1.*->httpx<0.28.0,>=0.27.0->automated-interpretability<1.0.0,>=0.0.5->sae-lens) (0.16.0)\n",
            "Requirement already satisfied: wadler-lindig>=0.1.3 in /usr/local/lib/python3.11/dist-packages (from jaxtyping>=0.2.11->transformer-lens<3.0.0,>=2.0.0->sae-lens) (0.1.5)\n",
            "Requirement already satisfied: pytz>=2020.1 in /usr/local/lib/python3.11/dist-packages (from pandas->babe<0.0.8,>=0.0.7->sae-lens) (2025.2)\n",
            "Requirement already satisfied: tzdata>=2022.7 in /usr/local/lib/python3.11/dist-packages (from pandas->babe<0.0.8,>=0.0.7->sae-lens) (2025.2)\n",
            "Requirement already satisfied: charset-normalizer<4,>=2 in /usr/local/lib/python3.11/dist-packages (from requests>=2.32.2->datasets<3.0.0,>=2.17.1->sae-lens) (3.4.1)\n",
            "Requirement already satisfied: markdown-it-py>=2.2.0 in /usr/local/lib/python3.11/dist-packages (from rich>=12.6.0->transformer-lens<3.0.0,>=2.0.0->sae-lens) (3.0.0)\n",
            "Requirement already satisfied: pygments<3.0.0,>=2.13.0 in /usr/local/lib/python3.11/dist-packages (from rich>=12.6.0->transformer-lens<3.0.0,>=2.0.0->sae-lens) (2.19.1)\n",
            "Requirement already satisfied: threadpoolctl>=3.1.0 in /usr/local/lib/python3.11/dist-packages (from scikit-learn<2.0.0,>=1.2.0->automated-interpretability<1.0.0,>=0.0.5->sae-lens) (3.6.0)\n",
            "Requirement already satisfied: networkx in /usr/local/lib/python3.11/dist-packages (from torch>=2.2->transformer-lens<3.0.0,>=2.0.0->sae-lens) (3.4.2)\n",
            "Requirement already satisfied: jinja2 in /usr/local/lib/python3.11/dist-packages (from torch>=2.2->transformer-lens<3.0.0,>=2.0.0->sae-lens) (3.1.6)\n",
            "Requirement already satisfied: nvidia-cuda-nvrtc-cu12==12.4.127 in /usr/local/lib/python3.11/dist-packages (from torch>=2.2->transformer-lens<3.0.0,>=2.0.0->sae-lens) (12.4.127)\n",
            "Requirement already satisfied: nvidia-cuda-runtime-cu12==12.4.127 in /usr/local/lib/python3.11/dist-packages (from torch>=2.2->transformer-lens<3.0.0,>=2.0.0->sae-lens) (12.4.127)\n",
            "Requirement already satisfied: nvidia-cuda-cupti-cu12==12.4.127 in /usr/local/lib/python3.11/dist-packages (from torch>=2.2->transformer-lens<3.0.0,>=2.0.0->sae-lens) (12.4.127)\n",
            "Requirement already satisfied: nvidia-cudnn-cu12==9.1.0.70 in /usr/local/lib/python3.11/dist-packages (from torch>=2.2->transformer-lens<3.0.0,>=2.0.0->sae-lens) (9.1.0.70)\n",
            "Requirement already satisfied: nvidia-cublas-cu12==12.4.5.8 in /usr/local/lib/python3.11/dist-packages (from torch>=2.2->transformer-lens<3.0.0,>=2.0.0->sae-lens) (12.4.5.8)\n",
            "Requirement already satisfied: nvidia-cufft-cu12==11.2.1.3 in /usr/local/lib/python3.11/dist-packages (from torch>=2.2->transformer-lens<3.0.0,>=2.0.0->sae-lens) (11.2.1.3)\n",
            "Requirement already satisfied: nvidia-curand-cu12==10.3.5.147 in /usr/local/lib/python3.11/dist-packages (from torch>=2.2->transformer-lens<3.0.0,>=2.0.0->sae-lens) (10.3.5.147)\n",
            "Requirement already satisfied: nvidia-cusolver-cu12==11.6.1.9 in /usr/local/lib/python3.11/dist-packages (from torch>=2.2->transformer-lens<3.0.0,>=2.0.0->sae-lens) (11.6.1.9)\n",
            "Requirement already satisfied: nvidia-cusparse-cu12==12.3.1.170 in /usr/local/lib/python3.11/dist-packages (from torch>=2.2->transformer-lens<3.0.0,>=2.0.0->sae-lens) (12.3.1.170)\n",
            "Requirement already satisfied: nvidia-cusparselt-cu12==0.6.2 in /usr/local/lib/python3.11/dist-packages (from torch>=2.2->transformer-lens<3.0.0,>=2.0.0->sae-lens) (0.6.2)\n",
            "Requirement already satisfied: nvidia-nccl-cu12==2.21.5 in /usr/local/lib/python3.11/dist-packages (from torch>=2.2->transformer-lens<3.0.0,>=2.0.0->sae-lens) (2.21.5)\n",
            "Requirement already satisfied: nvidia-nvtx-cu12==12.4.127 in /usr/local/lib/python3.11/dist-packages (from torch>=2.2->transformer-lens<3.0.0,>=2.0.0->sae-lens) (12.4.127)\n",
            "Requirement already satisfied: nvidia-nvjitlink-cu12==12.4.127 in /usr/local/lib/python3.11/dist-packages (from torch>=2.2->transformer-lens<3.0.0,>=2.0.0->sae-lens) (12.4.127)\n",
            "Requirement already satisfied: triton==3.2.0 in /usr/local/lib/python3.11/dist-packages (from torch>=2.2->transformer-lens<3.0.0,>=2.0.0->sae-lens) (3.2.0)\n",
            "Requirement already satisfied: sympy==1.13.1 in /usr/local/lib/python3.11/dist-packages (from torch>=2.2->transformer-lens<3.0.0,>=2.0.0->sae-lens) (1.13.1)\n",
            "Requirement already satisfied: mpmath<1.4,>=1.1.0 in /usr/local/lib/python3.11/dist-packages (from sympy==1.13.1->torch>=2.2->transformer-lens<3.0.0,>=2.0.0->sae-lens) (1.3.0)\n",
            "Requirement already satisfied: docker-pycreds>=0.4.0 in /usr/local/lib/python3.11/dist-packages (from wandb>=0.13.5->transformer-lens<3.0.0,>=2.0.0->sae-lens) (0.4.0)\n",
            "Requirement already satisfied: gitpython!=3.1.29,>=1.0.0 in /usr/local/lib/python3.11/dist-packages (from wandb>=0.13.5->transformer-lens<3.0.0,>=2.0.0->sae-lens) (3.1.44)\n",
            "Requirement already satisfied: platformdirs in /usr/local/lib/python3.11/dist-packages (from wandb>=0.13.5->transformer-lens<3.0.0,>=2.0.0->sae-lens) (4.3.7)\n",
            "Requirement already satisfied: protobuf!=4.21.0,!=5.28.0,<7,>=3.19.0 in /usr/local/lib/python3.11/dist-packages (from wandb>=0.13.5->transformer-lens<3.0.0,>=2.0.0->sae-lens) (5.29.4)\n",
            "Requirement already satisfied: pydantic<3 in /usr/local/lib/python3.11/dist-packages (from wandb>=0.13.5->transformer-lens<3.0.0,>=2.0.0->sae-lens) (2.11.4)\n",
            "Requirement already satisfied: sentry-sdk>=2.0.0 in /usr/local/lib/python3.11/dist-packages (from wandb>=0.13.5->transformer-lens<3.0.0,>=2.0.0->sae-lens) (2.27.0)\n",
            "Requirement already satisfied: setproctitle in /usr/local/lib/python3.11/dist-packages (from wandb>=0.13.5->transformer-lens<3.0.0,>=2.0.0->sae-lens) (1.3.6)\n",
            "Requirement already satisfied: setuptools in /usr/local/lib/python3.11/dist-packages (from wandb>=0.13.5->transformer-lens<3.0.0,>=2.0.0->sae-lens) (75.2.0)\n",
            "Requirement already satisfied: dol in /usr/local/lib/python3.11/dist-packages (from graze->babe<0.0.8,>=0.0.7->sae-lens) (0.3.16)\n",
            "Requirement already satisfied: config2py in /usr/local/lib/python3.11/dist-packages (from py2store->babe<0.0.8,>=0.0.7->sae-lens) (0.1.37)\n",
            "Requirement already satisfied: importlib-resources in /usr/local/lib/python3.11/dist-packages (from py2store->babe<0.0.8,>=0.0.7->sae-lens) (6.5.2)\n",
            "Requirement already satisfied: iniconfig in /usr/local/lib/python3.11/dist-packages (from pytest->pytest-profiling<2.0.0,>=1.7.0->sae-lens) (2.1.0)\n",
            "Requirement already satisfied: pluggy<2,>=1.5 in /usr/local/lib/python3.11/dist-packages (from pytest->pytest-profiling<2.0.0,>=1.7.0->sae-lens) (1.5.0)\n",
            "Requirement already satisfied: gitdb<5,>=4.0.1 in /usr/local/lib/python3.11/dist-packages (from gitpython!=3.1.29,>=1.0.0->wandb>=0.13.5->transformer-lens<3.0.0,>=2.0.0->sae-lens) (4.0.12)\n",
            "Requirement already satisfied: mdurl~=0.1 in /usr/local/lib/python3.11/dist-packages (from markdown-it-py>=2.2.0->rich>=12.6.0->transformer-lens<3.0.0,>=2.0.0->sae-lens) (0.1.2)\n",
            "Requirement already satisfied: annotated-types>=0.6.0 in /usr/local/lib/python3.11/dist-packages (from pydantic<3->wandb>=0.13.5->transformer-lens<3.0.0,>=2.0.0->sae-lens) (0.7.0)\n",
            "Requirement already satisfied: pydantic-core==2.33.2 in /usr/local/lib/python3.11/dist-packages (from pydantic<3->wandb>=0.13.5->transformer-lens<3.0.0,>=2.0.0->sae-lens) (2.33.2)\n",
            "Requirement already satisfied: typing-inspection>=0.4.0 in /usr/local/lib/python3.11/dist-packages (from pydantic<3->wandb>=0.13.5->transformer-lens<3.0.0,>=2.0.0->sae-lens) (0.4.0)\n",
            "Requirement already satisfied: i2 in /usr/local/lib/python3.11/dist-packages (from config2py->py2store->babe<0.0.8,>=0.0.7->sae-lens) (0.1.46)\n",
            "Requirement already satisfied: MarkupSafe>=2.0 in /usr/local/lib/python3.11/dist-packages (from jinja2->torch>=2.2->transformer-lens<3.0.0,>=2.0.0->sae-lens) (3.0.2)\n",
            "Requirement already satisfied: smmap<6,>=3.0.1 in /usr/local/lib/python3.11/dist-packages (from gitdb<5,>=4.0.1->gitpython!=3.1.29,>=1.0.0->wandb>=0.13.5->transformer-lens<3.0.0,>=2.0.0->sae-lens) (5.0.2)\n",
            "Requirement already satisfied: pandas in /usr/local/lib/python3.11/dist-packages (2.2.2)\n",
            "Requirement already satisfied: numpy>=1.23.2 in /usr/local/lib/python3.11/dist-packages (from pandas) (1.26.4)\n",
            "Requirement already satisfied: python-dateutil>=2.8.2 in /usr/local/lib/python3.11/dist-packages (from pandas) (2.9.0.post0)\n",
            "Requirement already satisfied: pytz>=2020.1 in /usr/local/lib/python3.11/dist-packages (from pandas) (2025.2)\n",
            "Requirement already satisfied: tzdata>=2022.7 in /usr/local/lib/python3.11/dist-packages (from pandas) (2025.2)\n",
            "Requirement already satisfied: six>=1.5 in /usr/local/lib/python3.11/dist-packages (from python-dateutil>=2.8.2->pandas) (1.17.0)\n",
            "Found existing installation: numpy 1.26.4\n",
            "Uninstalling numpy-1.26.4:\n",
            "  Successfully uninstalled numpy-1.26.4\n",
            "Collecting numpy==1.26.4\n",
            "  Using cached numpy-1.26.4-cp311-cp311-manylinux_2_17_x86_64.manylinux2014_x86_64.whl.metadata (61 kB)\n",
            "Using cached numpy-1.26.4-cp311-cp311-manylinux_2_17_x86_64.manylinux2014_x86_64.whl (18.3 MB)\n",
            "Installing collected packages: numpy\n",
            "\u001b[31mERROR: pip's dependency resolver does not currently take into account all the packages that are installed. This behaviour is the source of the following dependency conflicts.\n",
            "thinc 8.3.6 requires numpy<3.0.0,>=2.0.0, but you have numpy 1.26.4 which is incompatible.\u001b[0m\u001b[31m\n",
            "\u001b[0mSuccessfully installed numpy-1.26.4\n",
            "\u001b[38;5;79m2025-05-11 23:11:25 - Installing pre-requisites\u001b[0m\n",
            "Hit:1 http://security.ubuntu.com/ubuntu jammy-security InRelease\n",
            "Hit:2 https://developer.download.nvidia.com/compute/cuda/repos/ubuntu2204/x86_64  InRelease\n",
            "Hit:3 https://cloud.r-project.org/bin/linux/ubuntu jammy-cran40/ InRelease\n",
            "Hit:4 https://deb.nodesource.com/node_21.x nodistro InRelease\n",
            "Hit:5 https://ppa.launchpadcontent.net/deadsnakes/ppa/ubuntu jammy InRelease\n",
            "Hit:6 https://ppa.launchpadcontent.net/graphics-drivers/ppa/ubuntu jammy InRelease\n",
            "Hit:7 https://ppa.launchpadcontent.net/ubuntugis/ppa/ubuntu jammy InRelease\n",
            "Hit:8 http://archive.ubuntu.com/ubuntu jammy InRelease\n",
            "Hit:9 http://archive.ubuntu.com/ubuntu jammy-updates InRelease\n",
            "Hit:10 http://archive.ubuntu.com/ubuntu jammy-backports InRelease\n",
            "Hit:11 https://r2u.stat.illinois.edu/ubuntu jammy InRelease\n",
            "Reading package lists... Done\n",
            "W: Skipping acquire of configured file 'main/source/Sources' as repository 'https://r2u.stat.illinois.edu/ubuntu jammy InRelease' does not seem to provide it (sources.list entry misspelt?)\n",
            "Reading package lists... Done\n",
            "Building dependency tree... Done\n",
            "Reading state information... Done\n",
            "ca-certificates is already the newest version (20240203~22.04.1).\n",
            "curl is already the newest version (7.81.0-1ubuntu1.20).\n",
            "gnupg is already the newest version (2.2.27-3ubuntu2.3).\n",
            "apt-transport-https is already the newest version (2.4.13).\n",
            "0 upgraded, 0 newly installed, 0 to remove and 35 not upgraded.\n",
            "Hit:1 http://security.ubuntu.com/ubuntu jammy-security InRelease\n",
            "Hit:2 https://cloud.r-project.org/bin/linux/ubuntu jammy-cran40/ InRelease\n",
            "Hit:3 https://developer.download.nvidia.com/compute/cuda/repos/ubuntu2204/x86_64  InRelease\n",
            "Hit:4 https://deb.nodesource.com/node_21.x nodistro InRelease\n",
            "Hit:5 https://ppa.launchpadcontent.net/deadsnakes/ppa/ubuntu jammy InRelease\n",
            "Hit:6 https://ppa.launchpadcontent.net/graphics-drivers/ppa/ubuntu jammy InRelease\n",
            "Hit:7 https://ppa.launchpadcontent.net/ubuntugis/ppa/ubuntu jammy InRelease\n",
            "Hit:8 http://archive.ubuntu.com/ubuntu jammy InRelease\n",
            "Hit:9 http://archive.ubuntu.com/ubuntu jammy-updates InRelease\n",
            "Hit:10 http://archive.ubuntu.com/ubuntu jammy-backports InRelease\n",
            "Hit:11 https://r2u.stat.illinois.edu/ubuntu jammy InRelease\n",
            "Reading package lists... Done\n",
            "W: Skipping acquire of configured file 'main/source/Sources' as repository 'https://r2u.stat.illinois.edu/ubuntu jammy InRelease' does not seem to provide it (sources.list entry misspelt?)\n",
            "\u001b[1;34m2025-05-11 23:11:33 - Repository configured successfully.\u001b[0m\n",
            "\u001b[38;5;79m2025-05-11 23:11:33 - To install Node.js, run: apt-get install nodejs -y\u001b[0m\n",
            "\u001b[38;5;79m2025-05-11 23:11:33 - You can use N|solid Runtime as a node.js alternative\u001b[0m\n",
            "\u001b[1;32m2025-05-11 23:11:33 - To install N|solid Runtime, run: apt-get install nsolid -y \n",
            "\u001b[0m\n",
            "Reading package lists... Done\n",
            "Building dependency tree... Done\n",
            "Reading state information... Done\n",
            "nodejs is already the newest version (21.7.3-1nodesource1).\n",
            "0 upgraded, 0 newly installed, 0 to remove and 35 not upgraded.\n"
          ]
        }
      ]
    },
    {
      "cell_type": "markdown",
      "source": [
        "### Imports"
      ],
      "metadata": {
        "id": "hNVUKq4ThcR6"
      }
    },
    {
      "cell_type": "markdown",
      "source": [
        "**Important Note**: Sometimes numpy fails to use the specified version (v1.26.4) after being imported, which causes an error when importing the rest of the libraries due to dependency conflicts.  If the following doesn't print '1.26.4', then restart session via: 'Runtime' --> 'Restart Session' to fix the issue."
      ],
      "metadata": {
        "id": "_Z17QlSDhjlu"
      }
    },
    {
      "cell_type": "code",
      "source": [
        "import numpy as np\n",
        "print(np.__version__) # Should be 1.26.4\n",
        "assert np.__version__ == '1.26.4'"
      ],
      "metadata": {
        "colab": {
          "base_uri": "https://localhost:8080/"
        },
        "id": "PYgkjnmbgqcr",
        "outputId": "2a574ce4-4be0-4966-949d-5a84323b2811"
      },
      "execution_count": 3,
      "outputs": [
        {
          "output_type": "stream",
          "name": "stdout",
          "text": [
            "1.26.4\n"
          ]
        }
      ]
    },
    {
      "cell_type": "markdown",
      "source": [
        "The above block should have printed '1.26.4'.  If not, then restart session via 'Runtime' --> 'Restart Session'.  Else, continue.\n"
      ],
      "metadata": {
        "id": "yZJxD3_Thl2w"
      }
    },
    {
      "cell_type": "code",
      "source": [
        "import torch\n",
        "import scipy\n",
        "import matplotlib.pyplot as plt\n",
        "import pandas as pd\n",
        "from tqdm.auto import tqdm\n",
        "from datasets import load_dataset\n",
        "import transformer_lens.utils as utils\n",
        "from transformer_lens import ActivationCache, HookedTransformer\n",
        "from sae_lens import SAE"
      ],
      "metadata": {
        "id": "YNN9VxWohdLM"
      },
      "execution_count": 4,
      "outputs": []
    },
    {
      "cell_type": "markdown",
      "source": [
        "### PyTorch Setup"
      ],
      "metadata": {
        "id": "DIEGbK9lht5Q"
      }
    },
    {
      "cell_type": "code",
      "source": [
        "torch.set_grad_enabled(False)\n",
        "print(\"Disabled automatic differentiation\")"
      ],
      "metadata": {
        "colab": {
          "base_uri": "https://localhost:8080/"
        },
        "id": "5qyu6NjAhuaW",
        "outputId": "fe222859-6f9f-44ed-ac8a-e8b0bd86763c"
      },
      "execution_count": 5,
      "outputs": [
        {
          "output_type": "stream",
          "name": "stdout",
          "text": [
            "Disabled automatic differentiation\n"
          ]
        }
      ]
    },
    {
      "cell_type": "markdown",
      "source": [
        "### Model and Dataset Import"
      ],
      "metadata": {
        "id": "t14vcStQiBE0"
      }
    },
    {
      "cell_type": "code",
      "source": [
        "# NBVAL_IGNORE_OUTPUT\n",
        "model = HookedTransformer.from_pretrained(\"gpt2-small\")\n",
        "model.eval()\n",
        "\n",
        "# Get the default device used\n",
        "device: torch.device = utils.get_device()\n",
        "model.to(device)"
      ],
      "metadata": {
        "colab": {
          "base_uri": "https://localhost:8080/",
          "height": 1000,
          "referenced_widgets": [
            "e4c9ce73edcc4050b5aba445041fa30b",
            "e85e92675eb749b79844ca5a1f11da11",
            "03f48794c7044d6cb497455bae31900f",
            "8fc5dcaadd6240f09256cd1f6e56100b",
            "d4ae0a9dd8f54aa5afe803460dfe2229",
            "984c2564f9a342e0baefe0d7a2f39aeb",
            "842d21de26fc4fd385d6ad5c2e977247",
            "8acd62448b5a4da4b7ae6e109a17510c",
            "41181cd99f5f482b8ced5ee090388a8d",
            "36ea49e6140647ff9b38e524ea099a87",
            "7e09ffc39cf54efebca1ec0fad56a15f",
            "dc0c0c2ce30b44b0b4015b2976cf04df",
            "23242de7f40647a68dfa3d8b20ff205a",
            "31b417a5727b4752a288eb7494eab76e",
            "0434065618b3469ea9b64f01282631b7",
            "8781591366a34321bfd5ec5d9e2892cf",
            "adb3eb9a309a44a694073f4ed830faf5",
            "88a283f6252a4613953ea273bd8110ed",
            "a11e1c712caf43cf894eafd32703a8f1",
            "b99de53fdfd64db8941280cbf9f1ccbd",
            "b1d33e09b71348749e83aecc670f92bd",
            "ae7fedcfd9fd407e9e4a6239480f34c8",
            "97c63003504a48f8b65d991720a79c53",
            "198cae544f654e02bc2572846ecbf43f",
            "208bcf9f504d4956b820bbd58ff8b416",
            "9ccc6046d06b4b8991282150853ecf74",
            "299b7bfa910f45e39afe1f9f49d9d772",
            "34c8381133b8428b90874deb52eca7f2",
            "392d94fb50654ba88c8de74a4725094d",
            "66dc3be2f940456a9ce5c1400469e9f8",
            "ff380dfb2cca418b93f7c91aaa01d620",
            "847b6985560949e0867a315df8296afd",
            "c29caac31c44440ab7c9d4ed5a723e28",
            "3db9dd14e66d42d5b1286567f3156c8c",
            "60fcc165492e4b329976d55a182dbcc2",
            "394446378dfc473bbff9629ded8c21e3",
            "0fbfe573aa054ccd8ecc43e1c89ed0bf",
            "b861d2c2c70a410b9f537106fc8039c6",
            "30ec6795854d4d249b25ed7216899407",
            "af5d4acdacc748ebb2249e587d9e8541",
            "5e9c07201ae84e6c9b111f0d07b43491",
            "b566e20353a3475198102da9c16fd183",
            "967bc47dc2264f9eb21fe5870714bd9c",
            "d9da9aeb54144d5ea607e6be78ab2ee3",
            "f96fd166c19745359fec9934fba22775",
            "ef66d52ad305484085c5085daf6f63f5",
            "2038e77658954e1f98ce84d6c378e074",
            "7d14ce87dbfc49d38eceb19a3d018678",
            "68db0892f6694abd8737006e6cd287f2",
            "149f15a81bf84f29b6ccde936dfa24e1",
            "c0d54844ee0c4aafb7de0023341d46ba",
            "41ed614631604eb18cb8591097d9ef10",
            "15a32635a170464a9720d25f0ad16bac",
            "b4e5949b6d504a03bc9cebf27ecbc866",
            "8c0ad19b068d4631a867216879ab58b7",
            "c57b65c5362446b096f6acd1d114bcd7",
            "e4e33a15d8ef421183370c2d83256ea4",
            "757a078c1c69420d854047b72562b47a",
            "d20afeb48f0b477a9c4d22cb55c6e89a",
            "326943782c1c48ac8f0d97f5124a6e0a",
            "2846c0ea5d224ff3bb1bf2d8973e31cb",
            "7a4aa46389dc469caaaca20cd653442d",
            "30930001db874242af947527bf172899",
            "fc80e19ceff444c3aa55352d8c7fa838",
            "a5f2f0169bd54a73af8700f90b47c798",
            "f8a0d0e6dd66484bac1d0761a56cf997",
            "ba94726c9d494ad0a8df3e9a258b15af",
            "c1724deff69f4e26a4529618fc974451",
            "2936d0896eed46f39f3c7dda67ffb531",
            "75edbef6f36247e6a5592e37f4dc04e0",
            "ad8ade16ad4447b394bae940138984a5",
            "d0d5c4d44fd14481abf8c5c2940dae6c",
            "f3ac50b4b28548a09e4a7fe161707d1d",
            "f24aad5dc41c4d7ab65baf27f9d3555d",
            "08ae8eac60884212bdb607e10b8fc390",
            "39da9d000f8148e2845098155095e46b",
            "75bd4de10ce641328b0b30faaf71192f"
          ]
        },
        "id": "ih3gLqsMiBMe",
        "outputId": "24ac9ec1-6a40-4c84-cb1f-155679750d2d"
      },
      "execution_count": 6,
      "outputs": [
        {
          "output_type": "stream",
          "name": "stderr",
          "text": [
            "/usr/local/lib/python3.11/dist-packages/huggingface_hub/utils/_auth.py:94: UserWarning: \n",
            "The secret `HF_TOKEN` does not exist in your Colab secrets.\n",
            "To authenticate with the Hugging Face Hub, create a token in your settings tab (https://huggingface.co/settings/tokens), set it as secret in your Google Colab and restart your session.\n",
            "You will be able to reuse this secret in all of your notebooks.\n",
            "Please note that authentication is recommended but still optional to access public models or datasets.\n",
            "  warnings.warn(\n"
          ]
        },
        {
          "output_type": "display_data",
          "data": {
            "text/plain": [
              "config.json:   0%|          | 0.00/665 [00:00<?, ?B/s]"
            ],
            "application/vnd.jupyter.widget-view+json": {
              "version_major": 2,
              "version_minor": 0,
              "model_id": "e4c9ce73edcc4050b5aba445041fa30b"
            }
          },
          "metadata": {}
        },
        {
          "output_type": "stream",
          "name": "stderr",
          "text": [
            "Xet Storage is enabled for this repo, but the 'hf_xet' package is not installed. Falling back to regular HTTP download. For better performance, install the package with: `pip install huggingface_hub[hf_xet]` or `pip install hf_xet`\n",
            "WARNING:huggingface_hub.file_download:Xet Storage is enabled for this repo, but the 'hf_xet' package is not installed. Falling back to regular HTTP download. For better performance, install the package with: `pip install huggingface_hub[hf_xet]` or `pip install hf_xet`\n"
          ]
        },
        {
          "output_type": "display_data",
          "data": {
            "text/plain": [
              "model.safetensors:   0%|          | 0.00/548M [00:00<?, ?B/s]"
            ],
            "application/vnd.jupyter.widget-view+json": {
              "version_major": 2,
              "version_minor": 0,
              "model_id": "dc0c0c2ce30b44b0b4015b2976cf04df"
            }
          },
          "metadata": {}
        },
        {
          "output_type": "display_data",
          "data": {
            "text/plain": [
              "generation_config.json:   0%|          | 0.00/124 [00:00<?, ?B/s]"
            ],
            "application/vnd.jupyter.widget-view+json": {
              "version_major": 2,
              "version_minor": 0,
              "model_id": "97c63003504a48f8b65d991720a79c53"
            }
          },
          "metadata": {}
        },
        {
          "output_type": "display_data",
          "data": {
            "text/plain": [
              "tokenizer_config.json:   0%|          | 0.00/26.0 [00:00<?, ?B/s]"
            ],
            "application/vnd.jupyter.widget-view+json": {
              "version_major": 2,
              "version_minor": 0,
              "model_id": "3db9dd14e66d42d5b1286567f3156c8c"
            }
          },
          "metadata": {}
        },
        {
          "output_type": "display_data",
          "data": {
            "text/plain": [
              "vocab.json:   0%|          | 0.00/1.04M [00:00<?, ?B/s]"
            ],
            "application/vnd.jupyter.widget-view+json": {
              "version_major": 2,
              "version_minor": 0,
              "model_id": "f96fd166c19745359fec9934fba22775"
            }
          },
          "metadata": {}
        },
        {
          "output_type": "display_data",
          "data": {
            "text/plain": [
              "merges.txt:   0%|          | 0.00/456k [00:00<?, ?B/s]"
            ],
            "application/vnd.jupyter.widget-view+json": {
              "version_major": 2,
              "version_minor": 0,
              "model_id": "c57b65c5362446b096f6acd1d114bcd7"
            }
          },
          "metadata": {}
        },
        {
          "output_type": "display_data",
          "data": {
            "text/plain": [
              "tokenizer.json:   0%|          | 0.00/1.36M [00:00<?, ?B/s]"
            ],
            "application/vnd.jupyter.widget-view+json": {
              "version_major": 2,
              "version_minor": 0,
              "model_id": "ba94726c9d494ad0a8df3e9a258b15af"
            }
          },
          "metadata": {}
        },
        {
          "output_type": "stream",
          "name": "stdout",
          "text": [
            "Loaded pretrained model gpt2-small into HookedTransformer\n",
            "Moving model to device:  cuda\n"
          ]
        },
        {
          "output_type": "execute_result",
          "data": {
            "text/plain": [
              "HookedTransformer(\n",
              "  (embed): Embed()\n",
              "  (hook_embed): HookPoint()\n",
              "  (pos_embed): PosEmbed()\n",
              "  (hook_pos_embed): HookPoint()\n",
              "  (blocks): ModuleList(\n",
              "    (0-11): 12 x TransformerBlock(\n",
              "      (ln1): LayerNormPre(\n",
              "        (hook_scale): HookPoint()\n",
              "        (hook_normalized): HookPoint()\n",
              "      )\n",
              "      (ln2): LayerNormPre(\n",
              "        (hook_scale): HookPoint()\n",
              "        (hook_normalized): HookPoint()\n",
              "      )\n",
              "      (attn): Attention(\n",
              "        (hook_k): HookPoint()\n",
              "        (hook_q): HookPoint()\n",
              "        (hook_v): HookPoint()\n",
              "        (hook_z): HookPoint()\n",
              "        (hook_attn_scores): HookPoint()\n",
              "        (hook_pattern): HookPoint()\n",
              "        (hook_result): HookPoint()\n",
              "      )\n",
              "      (mlp): MLP(\n",
              "        (hook_pre): HookPoint()\n",
              "        (hook_post): HookPoint()\n",
              "      )\n",
              "      (hook_attn_in): HookPoint()\n",
              "      (hook_q_input): HookPoint()\n",
              "      (hook_k_input): HookPoint()\n",
              "      (hook_v_input): HookPoint()\n",
              "      (hook_mlp_in): HookPoint()\n",
              "      (hook_attn_out): HookPoint()\n",
              "      (hook_mlp_out): HookPoint()\n",
              "      (hook_resid_pre): HookPoint()\n",
              "      (hook_resid_mid): HookPoint()\n",
              "      (hook_resid_post): HookPoint()\n",
              "    )\n",
              "  )\n",
              "  (ln_final): LayerNormPre(\n",
              "    (hook_scale): HookPoint()\n",
              "    (hook_normalized): HookPoint()\n",
              "  )\n",
              "  (unembed): Unembed()\n",
              ")"
            ]
          },
          "metadata": {},
          "execution_count": 6
        }
      ]
    },
    {
      "cell_type": "code",
      "source": [
        "lambada = load_dataset(\"lambada\", split=\"test\")\n",
        "\n",
        "# Inspect a sample problem\n",
        "example_prompt, example_answer = lambada[0]['text'].rsplit(' ', 1)\n",
        "print('Question: ' + example_prompt + '\\n')\n",
        "print('Answer: ' + example_answer)"
      ],
      "metadata": {
        "colab": {
          "base_uri": "https://localhost:8080/",
          "height": 342,
          "referenced_widgets": [
            "b28de5c610ce42cd9c488ab226172794",
            "79ef6df537014789ae0e3e40078836c4",
            "c21a98d031ad47f9849c9c5b824863a5",
            "2793dc97c48d424386e57bcfc4ca7455",
            "93fedb2b9c294b0c95dddfcfe4fc8dd7",
            "08ca33d583524365ba2139ed5010a24b",
            "ad260589f9954e69be5c4c7ddc185821",
            "fbdbe622ffd348b09f616692a3b9cd73",
            "13be4e3e671946b0a7cd93f921b272fc",
            "d87daea7ce854840bb1b439bbcdd59c1",
            "2d8251f427484094ac3cfd02dfb0bdd6",
            "231df8cad73d41edbe527c59c0f5e983",
            "4a2ce210d376429582cd4ad7477df401",
            "3205aa70f65848fd9e31d986deb5e2c7",
            "e1390b3e3e344177bef1369f685dfd20",
            "626bf7967ec74f3c859f3548fc3771a8",
            "3316b96cd30340979b4a2f1f76f2fa5b",
            "1701ca90bd964bda91cd53ae50cab12c",
            "dc0f4ecb75544221964fd2502aba1edd",
            "69d310d4eb32428e9b4b65d9c547170f",
            "21fe870f381f47eebb1a65e98c4c0455",
            "d2be3c86b07c47f1beacf14f884f96c4",
            "65651d51ed764d488f680d3fb6452128",
            "6054026a8130495390edc6e6aefa0f02",
            "d3b234b234424dcdbe14a55785df757c",
            "eb3638e5b49a4cf498d21b5edaad6ed6",
            "6854effddd674f608aeee2cfc7e82c98",
            "4d1ecbd716554635950788111b5116f6",
            "4e40b2a63d47464798f49c0cbf3aebb1",
            "cbc965fe34524a38b54fe17ae493cec2",
            "6c9deeabd539472aa865c4dbb2a5b693",
            "22afea7d736f409bb119f936362d85ae",
            "13df75ae3732492fb89bcf8e1c80a3c5",
            "463a043846f44a80a6440b9c8d242ddc",
            "5523ec8d162148fc9a8ac052dd2916c4",
            "9c28fb9993d4496fb6cec5ea1cb7e817",
            "88bbd94cb86a4d809385531b1de98212",
            "85121b004c0f44b58ae3fb78092db690",
            "7f82f48abd204afebd0d8409d622049e",
            "1ff696a623074ce096544a2383230828",
            "bd3e256cf10b425cbe9c168c34daa085",
            "6e772ee974db43b59924db7d1e14657e",
            "ddb2d6ecc63c471ba44d66ee0aa173fc",
            "5fe0d2c3ed734bacb33b86cb8d34c3d5",
            "8f0039e16756409f84e976043e0e323c",
            "edc91e477dd04d0d933c78eb51656de8",
            "b94db35458c24c0891657916b5a770ee",
            "6b1517c9522d463cb95624867e0d76e6",
            "1fc160205cd24364bc4bb1e26fe69e35",
            "4485d2b93aac4bc281ade6e5cf18845f",
            "6fa681dac0714ba3a85b026df8a503dc",
            "6715bf0a104c4e9aae61e2ebf9084fed",
            "982ad69ea79c41eea7f4bedcc475d139",
            "f7eb12302f574a1a95654ba0b94daa17",
            "f28d7ac120534e6ca3799ec08e7c0ffd",
            "5c37458e9893433698a4d9c11b76c235",
            "e638dbd0d4c24db7886a5aa38d47305d",
            "1544bff7f85b4323aab07242c4989f5d",
            "a037832ca5c645188dc0fa7433f0a078",
            "0eed9b3600ea499ca0e07192fc91e0cd",
            "d1545c16720c4fec92dd7592a6cbe184",
            "bae9d259b6d346a782b316a9b9227d3c",
            "35bc6853fe724dc8b5a0cbfb6c85fd26",
            "50caf9ef91a54036812b46e376647e00",
            "68d74d76fd2e40abb27bd14491b24b67",
            "a93caed24c74414c9692bb4c492e067c",
            "e9f1c32f1650433d8a53b67a12c75fd6",
            "b5183e00375e4ca1b99decc71918d314",
            "2a73afce5ced4c1385bc1390c1e8c73c",
            "4d0c5b7a76ad4531aa876a935f52d770",
            "19900d60222d42cc98ae3e4688bc69d8",
            "26db655d9b144478aa6fe1143e642735",
            "f3858486cac7488d913937dda30a7cb8",
            "ee448bdc5da34f968637ff0163b35e2e",
            "2cd49c197fdc4ca096bac0848edaea6e",
            "cf1075bd77c84f98b2950c82fd0dea24",
            "676f7a870a324af780830c52ee47788c",
            "b1e8cb9e01e14c6895dc88ff625fde6c",
            "555223a4487b4f86b3fe08a6f835ec1f",
            "ee3a4f5c12ba489889ebacb7a4201374",
            "e369c335fd9c473bb3c564c51a63da96",
            "d01d4c58dfa84760b11e0385b188a402",
            "91967df72f0e4c0f82152136497752a2",
            "4e18c0abef97455fab29473534a279fe",
            "f128d01213e9439187ce3aefaed59341",
            "9d4ec4f88ad442d38bd0e547412c8bd0",
            "02c98dc6b8e64616a081cd8eb24a7978",
            "b256908de9904e299405fe88deb53ffc"
          ]
        },
        "id": "UCZxYWd7iDvq",
        "outputId": "83b66b8c-2bc5-4b90-e856-d917eafbedf8"
      },
      "execution_count": 7,
      "outputs": [
        {
          "output_type": "display_data",
          "data": {
            "text/plain": [
              "Downloading readme:   0%|          | 0.00/7.32k [00:00<?, ?B/s]"
            ],
            "application/vnd.jupyter.widget-view+json": {
              "version_major": 2,
              "version_minor": 0,
              "model_id": "b28de5c610ce42cd9c488ab226172794"
            }
          },
          "metadata": {}
        },
        {
          "output_type": "display_data",
          "data": {
            "text/plain": [
              "Downloading data:   0%|          | 0.00/269M [00:00<?, ?B/s]"
            ],
            "application/vnd.jupyter.widget-view+json": {
              "version_major": 2,
              "version_minor": 0,
              "model_id": "231df8cad73d41edbe527c59c0f5e983"
            }
          },
          "metadata": {}
        },
        {
          "output_type": "display_data",
          "data": {
            "text/plain": [
              "Downloading data:   0%|          | 0.00/281M [00:00<?, ?B/s]"
            ],
            "application/vnd.jupyter.widget-view+json": {
              "version_major": 2,
              "version_minor": 0,
              "model_id": "65651d51ed764d488f680d3fb6452128"
            }
          },
          "metadata": {}
        },
        {
          "output_type": "display_data",
          "data": {
            "text/plain": [
              "Downloading data:   0%|          | 0.00/1.14M [00:00<?, ?B/s]"
            ],
            "application/vnd.jupyter.widget-view+json": {
              "version_major": 2,
              "version_minor": 0,
              "model_id": "463a043846f44a80a6440b9c8d242ddc"
            }
          },
          "metadata": {}
        },
        {
          "output_type": "display_data",
          "data": {
            "text/plain": [
              "Downloading data:   0%|          | 0.00/1.08M [00:00<?, ?B/s]"
            ],
            "application/vnd.jupyter.widget-view+json": {
              "version_major": 2,
              "version_minor": 0,
              "model_id": "8f0039e16756409f84e976043e0e323c"
            }
          },
          "metadata": {}
        },
        {
          "output_type": "display_data",
          "data": {
            "text/plain": [
              "Generating train split:   0%|          | 0/2662 [00:00<?, ? examples/s]"
            ],
            "application/vnd.jupyter.widget-view+json": {
              "version_major": 2,
              "version_minor": 0,
              "model_id": "5c37458e9893433698a4d9c11b76c235"
            }
          },
          "metadata": {}
        },
        {
          "output_type": "display_data",
          "data": {
            "text/plain": [
              "Generating test split:   0%|          | 0/5153 [00:00<?, ? examples/s]"
            ],
            "application/vnd.jupyter.widget-view+json": {
              "version_major": 2,
              "version_minor": 0,
              "model_id": "e9f1c32f1650433d8a53b67a12c75fd6"
            }
          },
          "metadata": {}
        },
        {
          "output_type": "display_data",
          "data": {
            "text/plain": [
              "Generating validation split:   0%|          | 0/4869 [00:00<?, ? examples/s]"
            ],
            "application/vnd.jupyter.widget-view+json": {
              "version_major": 2,
              "version_minor": 0,
              "model_id": "b1e8cb9e01e14c6895dc88ff625fde6c"
            }
          },
          "metadata": {}
        },
        {
          "output_type": "stream",
          "name": "stdout",
          "text": [
            "Question: in my palm is a clear stone , and inside it is a small ivory statuette . a guardian angel . `` figured if you 're going to be out at night getting hit by cars , you might as well have some backup . '' i look at him , feeling stunned . like this is some sort of sign . but as i stare at harlin , his mouth curved in a confident grin , i do n't care about\n",
            "\n",
            "Answer: signs\n"
          ]
        }
      ]
    },
    {
      "cell_type": "markdown",
      "source": [
        "We verify that our model can 'do' a task from this (LAMBADA) dataset (note that not all tasks may pass; we just want to verify that the model can do at least one of the tasks):"
      ],
      "metadata": {
        "id": "2cIUQKoAiJx0"
      }
    },
    {
      "cell_type": "code",
      "source": [
        "example_prompt, example_answer = lambada[8]['text'].rsplit(' ', 1)\n",
        "utils.test_prompt(example_prompt, example_answer, model, print_details=True, prepend_bos=True)"
      ],
      "metadata": {
        "colab": {
          "base_uri": "https://localhost:8080/",
          "height": 678
        },
        "id": "cj6P1bpZiF4j",
        "outputId": "5f0774c2-f2bb-405c-9185-274816514003"
      },
      "execution_count": 8,
      "outputs": [
        {
          "output_type": "stream",
          "name": "stdout",
          "text": [
            "Tokenized prompt: ['<|endoftext|>', '``', ' why', ' ?', \" ''\", ' ``', ' i', ' would', ' have', ' thought', ' you', \" '\", 'd', ' find', ' him', ' rather', ' dry', ' ,', \" ''\", ' she', ' said', ' .', ' ``', ' i', ' do', ' n', \"'t\", ' know', ' about', ' that', ' ,', \" ''\", ' said', ' g', 'ab', 'riel', ' .', ' ``', ' he', ' was', ' a', ' great', ' crafts', 'man', ' ,', \" ''\", ' said', ' he', 'ather', ' .', ' ``', ' that', ' he', ' was', ' ,', \" ''\", ' said', ' fl', 'an', 'nery', ' .', ' ``', ' and', ' polish', ' ,', ' to', ' boot', ' ,', \" ''\", ' said']\n",
            "Tokenized answer: [' g', 'ab', 'riel']\n"
          ]
        },
        {
          "output_type": "display_data",
          "data": {
            "text/plain": [
              "Performance on answer token:\n",
              "\u001b[1mRank: \u001b[0m\u001b[1;36m0\u001b[0m\u001b[1m        Logit: \u001b[0m\u001b[1;36m12.41\u001b[0m\u001b[1m Prob:  \u001b[0m\u001b[1;36m6.08\u001b[0m\u001b[1m% Token: | g|\u001b[0m\n"
            ],
            "text/html": [
              "<pre style=\"white-space:pre;overflow-x:auto;line-height:normal;font-family:Menlo,'DejaVu Sans Mono',consolas,'Courier New',monospace\">Performance on answer token:\n",
              "<span style=\"font-weight: bold\">Rank: </span><span style=\"color: #008080; text-decoration-color: #008080; font-weight: bold\">0</span><span style=\"font-weight: bold\">        Logit: </span><span style=\"color: #008080; text-decoration-color: #008080; font-weight: bold\">12.41</span><span style=\"font-weight: bold\"> Prob:  </span><span style=\"color: #008080; text-decoration-color: #008080; font-weight: bold\">6.08</span><span style=\"font-weight: bold\">% Token: | g|</span>\n",
              "</pre>\n"
            ]
          },
          "metadata": {}
        },
        {
          "output_type": "stream",
          "name": "stdout",
          "text": [
            "Top 0th token. Logit: 12.41 Prob:  6.08% Token: | g|\n",
            "Top 1th token. Logit: 12.26 Prob:  5.24% Token: | he|\n",
            "Top 2th token. Logit: 11.55 Prob:  2.57% Token: | j|\n",
            "Top 3th token. Logit: 11.44 Prob:  2.31% Token: | m|\n",
            "Top 4th token. Logit: 11.37 Prob:  2.16% Token: | l|\n",
            "Top 5th token. Logit: 11.22 Prob:  1.86% Token: | the|\n",
            "Top 6th token. Logit: 11.17 Prob:  1.77% Token: | she|\n",
            "Top 7th token. Logit: 11.07 Prob:  1.60% Token: | b|\n",
            "Top 8th token. Logit: 11.04 Prob:  1.55% Token: | d|\n",
            "Top 9th token. Logit: 11.00 Prob:  1.50% Token: | t|\n"
          ]
        },
        {
          "output_type": "display_data",
          "data": {
            "text/plain": [
              "Performance on answer token:\n",
              "\u001b[1mRank: \u001b[0m\u001b[1;36m0\u001b[0m\u001b[1m        Logit: \u001b[0m\u001b[1;36m20.36\u001b[0m\u001b[1m Prob: \u001b[0m\u001b[1;36m89.14\u001b[0m\u001b[1m% Token: |ab|\u001b[0m\n"
            ],
            "text/html": [
              "<pre style=\"white-space:pre;overflow-x:auto;line-height:normal;font-family:Menlo,'DejaVu Sans Mono',consolas,'Courier New',monospace\">Performance on answer token:\n",
              "<span style=\"font-weight: bold\">Rank: </span><span style=\"color: #008080; text-decoration-color: #008080; font-weight: bold\">0</span><span style=\"font-weight: bold\">        Logit: </span><span style=\"color: #008080; text-decoration-color: #008080; font-weight: bold\">20.36</span><span style=\"font-weight: bold\"> Prob: </span><span style=\"color: #008080; text-decoration-color: #008080; font-weight: bold\">89.14</span><span style=\"font-weight: bold\">% Token: |ab|</span>\n",
              "</pre>\n"
            ]
          },
          "metadata": {}
        },
        {
          "output_type": "stream",
          "name": "stdout",
          "text": [
            "Top 0th token. Logit: 20.36 Prob: 89.14% Token: |ab|\n",
            "Top 1th token. Logit: 15.36 Prob:  0.60% Token: |abby|\n",
            "Top 2th token. Logit: 14.62 Prob:  0.29% Token: |az|\n",
            "Top 3th token. Logit: 14.30 Prob:  0.21% Token: |ordon|\n",
            "Top 4th token. Logit: 14.19 Prob:  0.19% Token: |ib|\n",
            "Top 5th token. Logit: 14.15 Prob:  0.18% Token: |im|\n",
            "Top 6th token. Logit: 14.10 Prob:  0.17% Token: |har|\n",
            "Top 7th token. Logit: 14.00 Prob:  0.15% Token: |abe|\n",
            "Top 8th token. Logit: 13.89 Prob:  0.14% Token: |abb|\n",
            "Top 9th token. Logit: 13.86 Prob:  0.13% Token: |ag|\n"
          ]
        },
        {
          "output_type": "display_data",
          "data": {
            "text/plain": [
              "Performance on answer token:\n",
              "\u001b[1mRank: \u001b[0m\u001b[1;36m0\u001b[0m\u001b[1m        Logit: \u001b[0m\u001b[1;36m21.65\u001b[0m\u001b[1m Prob: \u001b[0m\u001b[1;36m99.19\u001b[0m\u001b[1m% Token: |riel|\u001b[0m\n"
            ],
            "text/html": [
              "<pre style=\"white-space:pre;overflow-x:auto;line-height:normal;font-family:Menlo,'DejaVu Sans Mono',consolas,'Courier New',monospace\">Performance on answer token:\n",
              "<span style=\"font-weight: bold\">Rank: </span><span style=\"color: #008080; text-decoration-color: #008080; font-weight: bold\">0</span><span style=\"font-weight: bold\">        Logit: </span><span style=\"color: #008080; text-decoration-color: #008080; font-weight: bold\">21.65</span><span style=\"font-weight: bold\"> Prob: </span><span style=\"color: #008080; text-decoration-color: #008080; font-weight: bold\">99.19</span><span style=\"font-weight: bold\">% Token: |riel|</span>\n",
              "</pre>\n"
            ]
          },
          "metadata": {}
        },
        {
          "output_type": "stream",
          "name": "stdout",
          "text": [
            "Top 0th token. Logit: 21.65 Prob: 99.19% Token: |riel|\n",
            "Top 1th token. Logit: 14.42 Prob:  0.07% Token: |ri|\n",
            "Top 2th token. Logit: 14.08 Prob:  0.05% Token: |ry|\n",
            "Top 3th token. Logit: 13.78 Prob:  0.04% Token: |rie|\n",
            "Top 4th token. Logit: 13.73 Prob:  0.04% Token: |rin|\n",
            "Top 5th token. Logit: 13.61 Prob:  0.03% Token: |rier|\n",
            "Top 6th token. Logit: 13.60 Prob:  0.03% Token: |rian|\n",
            "Top 7th token. Logit: 13.31 Prob:  0.02% Token: |ric|\n",
            "Top 8th token. Logit: 13.03 Prob:  0.02% Token: |rius|\n",
            "Top 9th token. Logit: 12.98 Prob:  0.02% Token: |ril|\n"
          ]
        },
        {
          "output_type": "display_data",
          "data": {
            "text/plain": [
              "\u001b[1mRanks of the answer tokens:\u001b[0m \u001b[1m[\u001b[0m\u001b[1m(\u001b[0m\u001b[32m' g'\u001b[0m, \u001b[1;36m0\u001b[0m\u001b[1m)\u001b[0m, \u001b[1m(\u001b[0m\u001b[32m'ab'\u001b[0m, \u001b[1;36m0\u001b[0m\u001b[1m)\u001b[0m, \u001b[1m(\u001b[0m\u001b[32m'riel'\u001b[0m, \u001b[1;36m0\u001b[0m\u001b[1m)\u001b[0m\u001b[1m]\u001b[0m\n"
            ],
            "text/html": [
              "<pre style=\"white-space:pre;overflow-x:auto;line-height:normal;font-family:Menlo,'DejaVu Sans Mono',consolas,'Courier New',monospace\"><span style=\"font-weight: bold\">Ranks of the answer tokens:</span> <span style=\"font-weight: bold\">[(</span><span style=\"color: #008000; text-decoration-color: #008000\">' g'</span>, <span style=\"color: #008080; text-decoration-color: #008080; font-weight: bold\">0</span><span style=\"font-weight: bold\">)</span>, <span style=\"font-weight: bold\">(</span><span style=\"color: #008000; text-decoration-color: #008000\">'ab'</span>, <span style=\"color: #008080; text-decoration-color: #008080; font-weight: bold\">0</span><span style=\"font-weight: bold\">)</span>, <span style=\"font-weight: bold\">(</span><span style=\"color: #008000; text-decoration-color: #008000\">'riel'</span>, <span style=\"color: #008080; text-decoration-color: #008080; font-weight: bold\">0</span><span style=\"font-weight: bold\">)]</span>\n",
              "</pre>\n"
            ]
          },
          "metadata": {}
        }
      ]
    },
    {
      "cell_type": "markdown",
      "source": [
        "### Model Accuracy Calculation"
      ],
      "metadata": {
        "id": "4046OGrCmX7X"
      }
    },
    {
      "cell_type": "code",
      "source": [
        "# Note: Code from function test_prompt() in the\n",
        "# [TransformerLens Library](https://github.com/TransformerLensOrg/TransformerLens/blob/main/transformer_lens/utils.py)\n",
        "def get_out_tokens(prompt, answer, model):\n",
        "\n",
        "  answers = [answer] if isinstance(answer, str) else answer\n",
        "  n_answers = len(answers)\n",
        "  using_multiple_answers = n_answers > 1\n",
        "\n",
        "  answers = [answer if answer.startswith(\" \") else \" \" + answer for answer in answers]\n",
        "\n",
        "  # GPT-2 often treats the first token weirdly, so lets give it a resting position\n",
        "  prompt_tokens = model.to_tokens(prompt, prepend_bos=True)\n",
        "  answer_tokens = model.to_tokens(answers, prepend_bos=False)\n",
        "\n",
        "  # If we have multiple answers, we're only allowed a single token generation\n",
        "  if using_multiple_answers:\n",
        "    answer_tokens = answer_tokens[:, :1]\n",
        "\n",
        "  # Deal with case where answers is a list of strings\n",
        "  prompt_tokens = prompt_tokens.repeat(answer_tokens.shape[0], 1)\n",
        "  tokens = torch.cat((prompt_tokens, answer_tokens), dim=1)\n",
        "\n",
        "  prompt_str_tokens = model.to_str_tokens(prompt, prepend_bos=True)\n",
        "  answer_str_tokens_list = [model.to_str_tokens(answer, prepend_bos=False) for answer in answers]\n",
        "\n",
        "  prompt_length = len(prompt_str_tokens)\n",
        "  answer_length = 1 if using_multiple_answers else len(answer_str_tokens_list[0])\n",
        "\n",
        "  logits = model(tokens)\n",
        "  probs = logits.softmax(dim=-1)\n",
        "  answer_ranks = []\n",
        "\n",
        "  for index in range(prompt_length, prompt_length + answer_length):\n",
        "    # Get answer tokens for this sequence position\n",
        "    answer_tokens = tokens[:, index]\n",
        "    answer_str_tokens = [a[index - prompt_length] for a in answer_str_tokens_list]\n",
        "\n",
        "    # Offset by 1 because models predict the NEXT token\n",
        "    token_probs = probs[:, index - 1]\n",
        "    sorted_token_probs, sorted_token_positions = token_probs.sort(descending=True)\n",
        "    answer_token_ranks = sorted_token_positions.argsort(-1)[\n",
        "      range(n_answers), answer_tokens.cpu()\n",
        "    ].tolist()\n",
        "    answer_ranks.append(\n",
        "      [\n",
        "        (answer_str_token, answer_token_rank)\n",
        "          for answer_str_token, answer_token_rank in zip(\n",
        "            answer_str_tokens, answer_token_ranks\n",
        "          )\n",
        "      ]\n",
        "    )\n",
        "\n",
        "  # If n_answers = 1 then unwrap answer ranks, so printed output matches original version of function\n",
        "  if not using_multiple_answers:\n",
        "    single_answer_ranks = [r[0] for r in answer_ranks]\n",
        "    return single_answer_ranks\n",
        "  else:\n",
        "    return answer_ranks\n",
        "\n",
        "\n",
        "def is_correct(out_tokens):\n",
        "  for pair in out_tokens:\n",
        "    if pair[1] != 0:\n",
        "      return False, pair[1]\n",
        "  return True, pair[1]\n",
        "\n",
        "\n",
        "def is_prediction_correct(prompt, answer, model):\n",
        "  out_tokens = get_out_tokens(prompt, answer, model)\n",
        "  return is_correct(out_tokens)\n",
        "\n",
        "\n",
        "def calc_accuracy(data, model, dataset_name='lambada'):\n",
        "  correct = 0\n",
        "  results = []\n",
        "\n",
        "  for entry in tqdm(data, 'Calculating Accuracy'):\n",
        "\n",
        "    if dataset_name == 'lambada':\n",
        "      prompt, answer = entry['text'].rsplit(' ', 1)\n",
        "    elif dataset_name == 'writingprompts':\n",
        "      prompt, answer = entry['prompt'], entry['answer']\n",
        "    elif dataset_name == 'piqa':\n",
        "      prompt, answer = entry['prompt'], entry['answer']\n",
        "    else:\n",
        "      raise NotImplementedError\n",
        "\n",
        "    pred_corr, token_rank = is_prediction_correct(prompt, answer, model)\n",
        "    if pred_corr:\n",
        "      correct += 1\n",
        "\n",
        "    results.append((prompt, answer, token_rank))\n",
        "\n",
        "  return correct / len(data), results"
      ],
      "metadata": {
        "id": "KZPkF8pImW1-"
      },
      "execution_count": 9,
      "outputs": []
    },
    {
      "cell_type": "markdown",
      "source": [
        "## SAEs"
      ],
      "metadata": {
        "id": "VM144JPaiPKb"
      }
    },
    {
      "cell_type": "markdown",
      "source": [
        "### SAE Import"
      ],
      "metadata": {
        "id": "EUfN5H2oiXad"
      }
    },
    {
      "cell_type": "code",
      "source": [
        "if torch.backends.mps.is_available():\n",
        "    device = \"mps\"\n",
        "else:\n",
        "    device = \"cuda\" if torch.cuda.is_available() else \"cpu\"\n",
        "\n",
        "print(f\"Device: {device}\")\n",
        "\n",
        "hook_point = \"blocks.8.hook_resid_post\"\n",
        "# hook_point = \"blocks.8.hook_attn_out\"\n",
        "\n",
        "# Load SAE and model\n",
        "sae, cfg_dict, sparsity = SAE.from_pretrained(\n",
        "  release=\"gpt2-small-resid-post-v5-32k\",\n",
        "  # release=\"gpt2-small-attn-out-v5-32k\",\n",
        "  sae_id=hook_point,\n",
        "  device=device\n",
        ")\n",
        "sae.hook_point = hook_point\n",
        "\n",
        "sae.to(device)"
      ],
      "metadata": {
        "colab": {
          "base_uri": "https://localhost:8080/",
          "height": 310,
          "referenced_widgets": [
            "405f20187a7a47399af2f5aa20a1fe19",
            "2a814a885f484467aaa4506f2ed07c2b",
            "a7486294f8ec4a7eae1a1049d02d3a5c",
            "d6cdae0479694ee3b6b5047d04dfffe8",
            "fe026ea79c57443d9ed0f598aee921ca",
            "46ae7212a9b94324a6d3641daa10dc9c",
            "63468c1103f04ddf924d6a38727342b3",
            "dda751e9da4d4b7aa9e3d7d5c71a475e",
            "397da8e68a364dd28d528c96324e1227",
            "ba9a01f5c49f414ea4cf53adaeafcc40",
            "fe37909441f242ec8af5381e3164e631",
            "f8a6abf1d0e342ccaead30bb02b5e513",
            "913919dd41d548cf877c7dee39520661",
            "17d893ead50241c88136ea2bad676d03",
            "f0bbc4f911e94e12bb7025653b675adc",
            "7387383a4b6a4cada2a50aab2d68b312",
            "6d3a08dbb8b34ec1ad2d1466106d3532",
            "3416ec2a0db94528b24d8e767e544faf",
            "bd9587027976450d944ca60a595ba600",
            "cbad67dcb123417c8a4c4ea855860e21",
            "964986b4d722421ba38504da95e346e3",
            "e87ba1c97d6f4e4287b3fac5294e9f99",
            "faa9e2e89c744f3285f2b08252d8a670",
            "7d9b348e672944e9831b6fd6894e6571",
            "cc16511cdeb74234b9700e6548bda921",
            "3e49267962574d6199369b18093e42f6",
            "879e844c8f8140aaa1ca38e0b7d57547",
            "b331c9e280524e5cb7e459bd0a654c29",
            "9475265de8d34935ab8187315b49b318",
            "53a666c4f0674d5791b9036e474ade9c",
            "3b6cc5f69f7b4607be18c9754a8283a2",
            "ee23cd078b8f4accbc6b9cb1c0c8bed6",
            "f7a0da6dd87a43d097ee00b5fa433ee1"
          ]
        },
        "id": "ABmr2cEJiOj5",
        "outputId": "aeb92cdc-5bf6-4845-d73d-67793d52104f"
      },
      "execution_count": 10,
      "outputs": [
        {
          "output_type": "stream",
          "name": "stdout",
          "text": [
            "Device: cuda\n"
          ]
        },
        {
          "output_type": "display_data",
          "data": {
            "text/plain": [
              "cfg.json:   0%|          | 0.00/535 [00:00<?, ?B/s]"
            ],
            "application/vnd.jupyter.widget-view+json": {
              "version_major": 2,
              "version_minor": 0,
              "model_id": "405f20187a7a47399af2f5aa20a1fe19"
            }
          },
          "metadata": {}
        },
        {
          "output_type": "display_data",
          "data": {
            "text/plain": [
              "sae_weights.safetensors:   0%|          | 0.00/201M [00:00<?, ?B/s]"
            ],
            "application/vnd.jupyter.widget-view+json": {
              "version_major": 2,
              "version_minor": 0,
              "model_id": "f8a6abf1d0e342ccaead30bb02b5e513"
            }
          },
          "metadata": {}
        },
        {
          "output_type": "display_data",
          "data": {
            "text/plain": [
              "sparsity.safetensors:   0%|          | 0.00/131k [00:00<?, ?B/s]"
            ],
            "application/vnd.jupyter.widget-view+json": {
              "version_major": 2,
              "version_minor": 0,
              "model_id": "faa9e2e89c744f3285f2b08252d8a670"
            }
          },
          "metadata": {}
        },
        {
          "output_type": "execute_result",
          "data": {
            "text/plain": [
              "SAE(\n",
              "  (activation_fn): TopK(\n",
              "    (postact_fn): ReLU()\n",
              "  )\n",
              "  (hook_sae_input): HookPoint()\n",
              "  (hook_sae_acts_pre): HookPoint()\n",
              "  (hook_sae_acts_post): HookPoint()\n",
              "  (hook_sae_output): HookPoint()\n",
              "  (hook_sae_recons): HookPoint()\n",
              "  (hook_sae_error): HookPoint()\n",
              ")"
            ]
          },
          "metadata": {},
          "execution_count": 10
        }
      ]
    },
    {
      "cell_type": "markdown",
      "source": [
        "### Top Feature Definition"
      ],
      "metadata": {
        "id": "d85dacI1iY8b"
      }
    },
    {
      "cell_type": "markdown",
      "source": [
        "**Important**: Paste the top_feature_indices outputted/used in SAE_Hallucination_Interpretability.ipynb.  This can be found in the code block just before the 'Results' section (equivalently, in the last block of the 'Feature Steering' subsection of the 'SAEs' section).  The top_feature_indices outputted should match the below array already; if for some reason they do not, then change the below variable definition to match the output in SAE_Hallucination_Interpretability.ipynb"
      ],
      "metadata": {
        "id": "ct1oaNT3ioIG"
      }
    },
    {
      "cell_type": "code",
      "source": [
        "top_feature_indices = [4231, 16569, 2971, 24292, 3733, 6346, 23203, 9951, 5205, 24232, 13786, 16586, 1312, 25104, 29836, 23314, 25246, 17401, 3423, 14647]"
      ],
      "metadata": {
        "id": "WmZbv0tsiW3D"
      },
      "execution_count": 11,
      "outputs": []
    },
    {
      "cell_type": "markdown",
      "source": [
        "### Feature Steering Logic"
      ],
      "metadata": {
        "id": "FLc_QREhmCM3"
      }
    },
    {
      "cell_type": "code",
      "source": [
        "def setup_steering(feature_idx, factor):\n",
        "    \"\"\"Steer multiple SAE features with scaled vector\"\"\"\n",
        "\n",
        "    with torch.no_grad():\n",
        "        steering_vec = sae.W_dec[feature_idx].clone()  # [d_model]\n",
        "\n",
        "    def steering_hook(activations, hook):\n",
        "        if factor == 0.0:\n",
        "            return activations\n",
        "        steering_vec_local = steering_vec.to(activations.device)\n",
        "        steered = activations.clone()\n",
        "        steered[:, -2, :] += steering_vec_local * factor  # steer only final token\n",
        "        return steered\n",
        "\n",
        "    return steering_hook"
      ],
      "metadata": {
        "id": "eaM2nxnrmD-0"
      },
      "execution_count": 12,
      "outputs": []
    },
    {
      "cell_type": "markdown",
      "source": [
        "## Prompt/Answer Experiments"
      ],
      "metadata": {
        "id": "C9ZBCKZljQBl"
      }
    },
    {
      "cell_type": "markdown",
      "source": [
        "First, define the number of features you wish to steer and with what steering coefficient.  It is recommended to run SAE_Hallucination_Interpretability.ipynb to its completion to generate a steering accuracy vs steering coefficient plot to gain an understanding of the relationship between these variables and model steering.  An image of this output is provided below; your printouts from SAE_Hallucination_Interpretability.ipynb should match these plots:"
      ],
      "metadata": {
        "id": "b-NFbqKnkEIb"
      }
    },
    {
      "cell_type": "markdown",
      "source": [
        "![Unknown-2.png](data:image/png;base64,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)![Unknown.png](data:image/png;base64,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)"
      ],
      "metadata": {
        "id": "6JoHeNaTkiNb"
      }
    },
    {
      "cell_type": "markdown",
      "source": [
        "### Data Preparation"
      ],
      "metadata": {
        "id": "4DOBXtKv2PCg"
      }
    },
    {
      "cell_type": "code",
      "source": [
        "features_steered = 10\n",
        "steer_coeff = 15.0"
      ],
      "metadata": {
        "id": "77HF464jj_k7"
      },
      "execution_count": 13,
      "outputs": []
    },
    {
      "cell_type": "code",
      "source": [
        "gpt2_accuracy, unsteered_data = calc_accuracy(lambada, model)\n",
        "print('\\n' + 'Accuracy: ' + str(gpt2_accuracy))"
      ],
      "metadata": {
        "colab": {
          "base_uri": "https://localhost:8080/",
          "height": 82,
          "referenced_widgets": [
            "5c49d6647def42b28b0a88ca5bbe68d1",
            "ee3b2f3b9b724c0cb5dcd0647ea65a23",
            "8fcb945ad5144562993c4e068fde4dac",
            "6fbb3c0a6d694a02bfb02b3f94dfc3b6",
            "80c9ec7cedc649d597cd492e99e89ee6",
            "a9163471525b400891766669b124e6c7",
            "15d6dc251ee84108a83b01f95194ec1d",
            "5865883f3db745d5ab5d99e1fec96437",
            "d8fba316695f465fae39a695571f7ae3",
            "2f99c06070564707ba17afe68e785921",
            "673efadc3eb847e7beb1165077524642"
          ]
        },
        "id": "0DZFnAkqsm6y",
        "outputId": "cbf2b80c-6362-4d5d-cd75-d4a7506a58b0"
      },
      "execution_count": 14,
      "outputs": [
        {
          "output_type": "display_data",
          "data": {
            "text/plain": [
              "Calculating Accuracy:   0%|          | 0/5153 [00:00<?, ?it/s]"
            ],
            "application/vnd.jupyter.widget-view+json": {
              "version_major": 2,
              "version_minor": 0,
              "model_id": "5c49d6647def42b28b0a88ca5bbe68d1"
            }
          },
          "metadata": {}
        },
        {
          "output_type": "stream",
          "name": "stdout",
          "text": [
            "\n",
            "Accuracy: 0.2699398408693965\n"
          ]
        }
      ]
    },
    {
      "cell_type": "code",
      "source": [
        "hooks = [(sae.hook_point, setup_steering(feature_idx = idx, factor = steer_coeff)) for idx in top_feature_indices[:features_steered]]\n",
        "\n",
        "with model.hooks(hooks):\n",
        "  gpt2_accuracy, steered_data = calc_accuracy(lambada, model)\n",
        "print('\\n' + 'Accuracy: ' + str(gpt2_accuracy))"
      ],
      "metadata": {
        "colab": {
          "base_uri": "https://localhost:8080/",
          "height": 82,
          "referenced_widgets": [
            "5eb59f933e6345419543226578ca97ae",
            "a0068c07e5e54d26b9aa5b4e8bf90de6",
            "fbd532694bcd45a9a9814f9c88d92f6a",
            "99ec924376b5438bb1bbe73d023afa48",
            "28455796a1eb45de97053ff2dd409a10",
            "1082a44433844cd99b409d145b8182a6",
            "00493b5a29b94abab0ed58a50aa1fe15",
            "f2cbafdb9c7b4ecbb003d44473bd36a5",
            "0ebfaa82cecc4c62a49975e538056b94",
            "efbfaaf02bd94869a3c4bc94656ed379",
            "cd91271724b649cf96da79e36b1ddaac"
          ]
        },
        "id": "R8eLxJk4suYV",
        "outputId": "0a6c2a0f-9d40-4669-dbba-d84fbc9a5cb0"
      },
      "execution_count": 15,
      "outputs": [
        {
          "output_type": "display_data",
          "data": {
            "text/plain": [
              "Calculating Accuracy:   0%|          | 0/5153 [00:00<?, ?it/s]"
            ],
            "application/vnd.jupyter.widget-view+json": {
              "version_major": 2,
              "version_minor": 0,
              "model_id": "5eb59f933e6345419543226578ca97ae"
            }
          },
          "metadata": {}
        },
        {
          "output_type": "stream",
          "name": "stdout",
          "text": [
            "\n",
            "Accuracy: 0.2062875994566272\n"
          ]
        }
      ]
    },
    {
      "cell_type": "code",
      "source": [
        "# Sort the unsteered and steered data with 2 metrics: (1) unsteered must succeed while steered failed, (2) sort based on failure severity\n",
        "def sort_data(unsteered_data, steered_data):\n",
        "\n",
        "  data = []\n",
        "  for i in range(len(unsteered_data)):\n",
        "    data.append({\n",
        "        'unsteered': unsteered_data[i],\n",
        "        'steered': steered_data[i]\n",
        "    })\n",
        "\n",
        "  differences = []\n",
        "  for i in range(len(data)):\n",
        "    item = data[i]\n",
        "\n",
        "    if item['unsteered'][2] != 0 or item['steered'][2] == 0:\n",
        "      diff = float('-inf')\n",
        "    else:\n",
        "      diff = item['steered'][2]\n",
        "\n",
        "    differences.append((diff, i))\n",
        "\n",
        "  # Sort in decreasing order of differences\n",
        "  differences.sort(key=lambda x: -1 * x[0])\n",
        "\n",
        "  sorted_data = []\n",
        "  for i in range(len(differences)):\n",
        "    sorted_data.append(steered_data[differences[i][1]])\n",
        "\n",
        "  return sorted_data"
      ],
      "metadata": {
        "id": "WCYODh1msuhs"
      },
      "execution_count": 16,
      "outputs": []
    },
    {
      "cell_type": "code",
      "source": [
        "data = sort_data(unsteered_data, steered_data)"
      ],
      "metadata": {
        "id": "EQG9YXg8t7w-"
      },
      "execution_count": 17,
      "outputs": []
    },
    {
      "cell_type": "markdown",
      "source": [
        "### Single-Prompt Results"
      ],
      "metadata": {
        "id": "Pta7AsQl2ZXR"
      }
    },
    {
      "cell_type": "markdown",
      "source": [
        "We now sample a prompt then run the base and steered model on it."
      ],
      "metadata": {
        "id": "_tq_Q3EZs6kF"
      }
    },
    {
      "cell_type": "markdown",
      "source": [
        "**Note**: The output will follow the following general form:\n",
        "\n",
        "(1) Tokenized Prompt\n",
        "\n",
        "(2) Tokenized Answer\n",
        "\n",
        "(3) Top Ranking Tokens\n",
        "\n",
        "(4) Ranks of the *correct* answer tokens\n",
        "\n",
        "The model's intended output can thus be observed by looking at the top ranked token(s).  Note that if the answer has more than 1 token, then subsequent tokens may be influenced by the actual 1st answer token. Alternatively, you can observe how poorly the model performed by looking at the ranks of each of the actual/correct answer tokens the model assigns them."
      ],
      "metadata": {
        "id": "tUfnltRklICl"
      }
    },
    {
      "cell_type": "code",
      "source": [
        "chosen_index = 20\n",
        "assert chosen_index >= 0 and chosen_index < len(lambada)\n",
        "\n",
        "prompt, answer, _ = data[chosen_index]\n",
        "\n",
        "print('Question: ' + prompt + '\\n')\n",
        "print('Answer: ' + answer)"
      ],
      "metadata": {
        "colab": {
          "base_uri": "https://localhost:8080/"
        },
        "id": "HW9BT5b1j4FO",
        "outputId": "c18f4ae8-8a02-47e2-e6bf-5fa06707c35e"
      },
      "execution_count": 18,
      "outputs": [
        {
          "output_type": "stream",
          "name": "stdout",
          "text": [
            "Question: he flipped the calendar to november before muttering to himself , `` november has thanksgiving , and then december is christmas . no one wants to have to go to a wedding during the holidays . i think we should wait until after new year 's . what do you think about a january wedding ? '' he glanced over , his hand still holding the\n",
            "\n",
            "Answer: calendar\n"
          ]
        }
      ]
    },
    {
      "cell_type": "markdown",
      "source": [
        "**Base Model Output**:"
      ],
      "metadata": {
        "id": "WbZrBRbmjqpq"
      }
    },
    {
      "cell_type": "code",
      "source": [
        "utils.test_prompt(prompt, answer, model, print_details=True, prepend_bos=True)"
      ],
      "metadata": {
        "colab": {
          "base_uri": "https://localhost:8080/",
          "height": 283
        },
        "id": "Ypx5e0DnjiQf",
        "outputId": "c4d2250e-6027-4e2e-928e-8b3c685ff2db"
      },
      "execution_count": 19,
      "outputs": [
        {
          "output_type": "stream",
          "name": "stdout",
          "text": [
            "Tokenized prompt: ['<|endoftext|>', 'he', ' flipped', ' the', ' calendar', ' to', ' no', 've', 'mber', ' before', ' mut', 'tering', ' to', ' himself', ' ,', ' ``', ' no', 've', 'mber', ' has', ' thanks', 'giving', ' ,', ' and', ' then', ' de', 'cember', ' is', ' christ', 'mas', ' .', ' no', ' one', ' wants', ' to', ' have', ' to', ' go', ' to', ' a', ' wedding', ' during', ' the', ' holidays', ' .', ' i', ' think', ' we', ' should', ' wait', ' until', ' after', ' new', ' year', \" '\", 's', ' .', ' what', ' do', ' you', ' think', ' about', ' a', ' jan', 'uary', ' wedding', ' ?', \" ''\", ' he', ' glanced', ' over', ' ,', ' his', ' hand', ' still', ' holding', ' the']\n",
            "Tokenized answer: [' calendar']\n"
          ]
        },
        {
          "output_type": "display_data",
          "data": {
            "text/plain": [
              "Performance on answer token:\n",
              "\u001b[1mRank: \u001b[0m\u001b[1;36m0\u001b[0m\u001b[1m        Logit: \u001b[0m\u001b[1;36m13.88\u001b[0m\u001b[1m Prob: \u001b[0m\u001b[1;36m12.24\u001b[0m\u001b[1m% Token: | calendar|\u001b[0m\n"
            ],
            "text/html": [
              "<pre style=\"white-space:pre;overflow-x:auto;line-height:normal;font-family:Menlo,'DejaVu Sans Mono',consolas,'Courier New',monospace\">Performance on answer token:\n",
              "<span style=\"font-weight: bold\">Rank: </span><span style=\"color: #008080; text-decoration-color: #008080; font-weight: bold\">0</span><span style=\"font-weight: bold\">        Logit: </span><span style=\"color: #008080; text-decoration-color: #008080; font-weight: bold\">13.88</span><span style=\"font-weight: bold\"> Prob: </span><span style=\"color: #008080; text-decoration-color: #008080; font-weight: bold\">12.24</span><span style=\"font-weight: bold\">% Token: | calendar|</span>\n",
              "</pre>\n"
            ]
          },
          "metadata": {}
        },
        {
          "output_type": "stream",
          "name": "stdout",
          "text": [
            "Top 0th token. Logit: 13.88 Prob: 12.24% Token: | calendar|\n",
            "Top 1th token. Logit: 12.08 Prob:  2.03% Token: | scroll|\n",
            "Top 2th token. Logit: 11.76 Prob:  1.47% Token: | clock|\n",
            "Top 3th token. Logit: 11.55 Prob:  1.20% Token: | book|\n",
            "Top 4th token. Logit: 11.51 Prob:  1.15% Token: | ring|\n",
            "Top 5th token. Logit: 11.46 Prob:  1.10% Token: | door|\n",
            "Top 6th token. Logit: 11.37 Prob:  1.00% Token: | paper|\n",
            "Top 7th token. Logit: 11.37 Prob:  1.00% Token: | phone|\n",
            "Top 8th token. Logit: 11.34 Prob:  0.97% Token: | knife|\n",
            "Top 9th token. Logit: 11.17 Prob:  0.82% Token: | key|\n"
          ]
        },
        {
          "output_type": "display_data",
          "data": {
            "text/plain": [
              "\u001b[1mRanks of the answer tokens:\u001b[0m \u001b[1m[\u001b[0m\u001b[1m(\u001b[0m\u001b[32m' calendar'\u001b[0m, \u001b[1;36m0\u001b[0m\u001b[1m)\u001b[0m\u001b[1m]\u001b[0m\n"
            ],
            "text/html": [
              "<pre style=\"white-space:pre;overflow-x:auto;line-height:normal;font-family:Menlo,'DejaVu Sans Mono',consolas,'Courier New',monospace\"><span style=\"font-weight: bold\">Ranks of the answer tokens:</span> <span style=\"font-weight: bold\">[(</span><span style=\"color: #008000; text-decoration-color: #008000\">' calendar'</span>, <span style=\"color: #008080; text-decoration-color: #008080; font-weight: bold\">0</span><span style=\"font-weight: bold\">)]</span>\n",
              "</pre>\n"
            ]
          },
          "metadata": {}
        }
      ]
    },
    {
      "cell_type": "markdown",
      "source": [
        "**Hooked/Steered Model Output**:"
      ],
      "metadata": {
        "id": "gLFUn8Rijtf0"
      }
    },
    {
      "cell_type": "code",
      "source": [
        "hooks = [(sae.hook_point, setup_steering(feature_idx = idx, factor = steer_coeff)) for idx in top_feature_indices[:features_steered]]\n",
        "with model.hooks(hooks):\n",
        "  utils.test_prompt(prompt, answer, model, print_details=True, prepend_bos=True)"
      ],
      "metadata": {
        "colab": {
          "base_uri": "https://localhost:8080/",
          "height": 283
        },
        "id": "m4wbgWfZjSud",
        "outputId": "e46b2b02-5f34-476e-ee14-dc8340c20169"
      },
      "execution_count": 20,
      "outputs": [
        {
          "output_type": "stream",
          "name": "stdout",
          "text": [
            "Tokenized prompt: ['<|endoftext|>', 'he', ' flipped', ' the', ' calendar', ' to', ' no', 've', 'mber', ' before', ' mut', 'tering', ' to', ' himself', ' ,', ' ``', ' no', 've', 'mber', ' has', ' thanks', 'giving', ' ,', ' and', ' then', ' de', 'cember', ' is', ' christ', 'mas', ' .', ' no', ' one', ' wants', ' to', ' have', ' to', ' go', ' to', ' a', ' wedding', ' during', ' the', ' holidays', ' .', ' i', ' think', ' we', ' should', ' wait', ' until', ' after', ' new', ' year', \" '\", 's', ' .', ' what', ' do', ' you', ' think', ' about', ' a', ' jan', 'uary', ' wedding', ' ?', \" ''\", ' he', ' glanced', ' over', ' ,', ' his', ' hand', ' still', ' holding', ' the']\n",
            "Tokenized answer: [' calendar']\n"
          ]
        },
        {
          "output_type": "display_data",
          "data": {
            "text/plain": [
              "Performance on answer token:\n",
              "\u001b[1mRank: \u001b[0m\u001b[1;36m41\u001b[0m\u001b[1m       Logit: \u001b[0m\u001b[1;36m11.27\u001b[0m\u001b[1m Prob:  \u001b[0m\u001b[1;36m0.42\u001b[0m\u001b[1m% Token: | calendar|\u001b[0m\n"
            ],
            "text/html": [
              "<pre style=\"white-space:pre;overflow-x:auto;line-height:normal;font-family:Menlo,'DejaVu Sans Mono',consolas,'Courier New',monospace\">Performance on answer token:\n",
              "<span style=\"font-weight: bold\">Rank: </span><span style=\"color: #008080; text-decoration-color: #008080; font-weight: bold\">41</span><span style=\"font-weight: bold\">       Logit: </span><span style=\"color: #008080; text-decoration-color: #008080; font-weight: bold\">11.27</span><span style=\"font-weight: bold\"> Prob:  </span><span style=\"color: #008080; text-decoration-color: #008080; font-weight: bold\">0.42</span><span style=\"font-weight: bold\">% Token: | calendar|</span>\n",
              "</pre>\n"
            ]
          },
          "metadata": {}
        },
        {
          "output_type": "stream",
          "name": "stdout",
          "text": [
            "Top 0th token. Logit: 13.93 Prob:  5.99% Token: | blanket|\n",
            "Top 1th token. Logit: 12.95 Prob:  2.25% Token: | dress|\n",
            "Top 2th token. Logit: 12.89 Prob:  2.12% Token: | door|\n",
            "Top 3th token. Logit: 12.76 Prob:  1.86% Token: | knife|\n",
            "Top 4th token. Logit: 12.60 Prob:  1.59% Token: | phone|\n",
            "Top 5th token. Logit: 12.39 Prob:  1.29% Token: | last|\n",
            "Top 6th token. Logit: 12.35 Prob:  1.23% Token: | necklace|\n",
            "Top 7th token. Logit: 12.25 Prob:  1.12% Token: | ring|\n",
            "Top 8th token. Logit: 12.21 Prob:  1.07% Token: | hand|\n",
            "Top 9th token. Logit: 12.20 Prob:  1.06% Token: | back|\n"
          ]
        },
        {
          "output_type": "display_data",
          "data": {
            "text/plain": [
              "\u001b[1mRanks of the answer tokens:\u001b[0m \u001b[1m[\u001b[0m\u001b[1m(\u001b[0m\u001b[32m' calendar'\u001b[0m, \u001b[1;36m41\u001b[0m\u001b[1m)\u001b[0m\u001b[1m]\u001b[0m\n"
            ],
            "text/html": [
              "<pre style=\"white-space:pre;overflow-x:auto;line-height:normal;font-family:Menlo,'DejaVu Sans Mono',consolas,'Courier New',monospace\"><span style=\"font-weight: bold\">Ranks of the answer tokens:</span> <span style=\"font-weight: bold\">[(</span><span style=\"color: #008000; text-decoration-color: #008000\">' calendar'</span>, <span style=\"color: #008080; text-decoration-color: #008080; font-weight: bold\">41</span><span style=\"font-weight: bold\">)]</span>\n",
              "</pre>\n"
            ]
          },
          "metadata": {}
        }
      ]
    },
    {
      "cell_type": "markdown",
      "source": [
        "### Top-k Prompt Results"
      ],
      "metadata": {
        "id": "gK638nfo9ccK"
      }
    },
    {
      "cell_type": "code",
      "source": [
        "top_k = 10"
      ],
      "metadata": {
        "id": "-I4iHFeb9h0Y"
      },
      "execution_count": 21,
      "outputs": []
    },
    {
      "cell_type": "code",
      "source": [
        "for idx in range(top_k):\n",
        "  prompt, answer, _ = data[idx]\n",
        "\n",
        "  line = '---------------------------------------------------------------------'\n",
        "\n",
        "  print('\\n' + 3 * line + '\\n')\n",
        "  print('Question: ' + prompt)\n",
        "  print('Answer: ' + answer + '\\n')\n",
        "\n",
        "  print('Base Model...')\n",
        "  utils.test_prompt(prompt, answer, model, print_details=True, prepend_bos=True)\n",
        "\n",
        "\n",
        "  print('\\nSteered Model...')\n",
        "  hooks = [(sae.hook_point, setup_steering(feature_idx = idx, factor = steer_coeff)) for idx in top_feature_indices[:features_steered]]\n",
        "  with model.hooks(hooks):\n",
        "    utils.test_prompt(prompt, answer, model, print_details=True, prepend_bos=True)"
      ],
      "metadata": {
        "colab": {
          "base_uri": "https://localhost:8080/",
          "height": 1000
        },
        "id": "UCgpzc5S9e6V",
        "outputId": "9330bf09-dc5a-44b1-baac-c59a2079d26a"
      },
      "execution_count": 22,
      "outputs": [
        {
          "output_type": "stream",
          "name": "stdout",
          "text": [
            "\n",
            "---------------------------------------------------------------------------------------------------------------------------------------------------------------------------------------------------------------\n",
            "\n",
            "Question: my eyes fly open , and i feel they 're engulfed in the ult l-e as i recite a poem as if someone else is controlling me , `` though the clouds darken the sun , and the rain becomes tainted , always know there will be a love that will not die . though hope seems a distant memory , and human machines walk the land , know no one can destroy a love that will not die . '' `` what are you babbling about ? '' the rogue asks . i surface from my unconscious state , and i sit up , stand , walk to the ppk , pick up the gun , and aim it for the\n",
            "Answer: rogue\n",
            "\n",
            "Base Model...\n",
            "Tokenized prompt: ['<|endoftext|>', 'my', ' eyes', ' fly', ' open', ' ,', ' and', ' i', ' feel', ' they', \" '\", 're', ' engulfed', ' in', ' the', ' ult', ' l', '-', 'e', ' as', ' i', ' recite', ' a', ' poem', ' as', ' if', ' someone', ' else', ' is', ' controlling', ' me', ' ,', ' ``', ' though', ' the', ' clouds', ' dark', 'en', ' the', ' sun', ' ,', ' and', ' the', ' rain', ' becomes', ' tainted', ' ,', ' always', ' know', ' there', ' will', ' be', ' a', ' love', ' that', ' will', ' not', ' die', ' .', ' though', ' hope', ' seems', ' a', ' distant', ' memory', ' ,', ' and', ' human', ' machines', ' walk', ' the', ' land', ' ,', ' know', ' no', ' one', ' can', ' destroy', ' a', ' love', ' that', ' will', ' not', ' die', ' .', \" ''\", ' ``', ' what', ' are', ' you', ' b', 'abbling', ' about', ' ?', \" ''\", ' the', ' rogue', ' asks', ' .', ' i', ' surface', ' from', ' my', ' unconscious', ' state', ' ,', ' and', ' i', ' sit', ' up', ' ,', ' stand', ' ,', ' walk', ' to', ' the', ' pp', 'k', ' ,', ' pick', ' up', ' the', ' gun', ' ,', ' and', ' aim', ' it', ' for', ' the']\n",
            "Tokenized answer: [' rogue']\n"
          ]
        },
        {
          "output_type": "display_data",
          "data": {
            "text/plain": [
              "Performance on answer token:\n",
              "\u001b[1mRank: \u001b[0m\u001b[1;36m0\u001b[0m\u001b[1m        Logit: \u001b[0m\u001b[1;36m10.92\u001b[0m\u001b[1m Prob:  \u001b[0m\u001b[1;36m1.68\u001b[0m\u001b[1m% Token: | rogue|\u001b[0m\n"
            ],
            "text/html": [
              "<pre style=\"white-space:pre;overflow-x:auto;line-height:normal;font-family:Menlo,'DejaVu Sans Mono',consolas,'Courier New',monospace\">Performance on answer token:\n",
              "<span style=\"font-weight: bold\">Rank: </span><span style=\"color: #008080; text-decoration-color: #008080; font-weight: bold\">0</span><span style=\"font-weight: bold\">        Logit: </span><span style=\"color: #008080; text-decoration-color: #008080; font-weight: bold\">10.92</span><span style=\"font-weight: bold\"> Prob:  </span><span style=\"color: #008080; text-decoration-color: #008080; font-weight: bold\">1.68</span><span style=\"font-weight: bold\">% Token: | rogue|</span>\n",
              "</pre>\n"
            ]
          },
          "metadata": {}
        },
        {
          "output_type": "stream",
          "name": "stdout",
          "text": [
            "Top 0th token. Logit: 10.92 Prob:  1.68% Token: | rogue|\n",
            "Top 1th token. Logit: 10.75 Prob:  1.42% Token: | enemy|\n",
            "Top 2th token. Logit: 10.49 Prob:  1.09% Token: | target|\n",
            "Top 3th token. Logit: 10.40 Prob:  1.00% Token: | assassin|\n",
            "Top 4th token. Logit: 10.36 Prob:  0.96% Token: | man|\n",
            "Top 5th token. Logit: 10.31 Prob:  0.91% Token: | sniper|\n",
            "Top 6th token. Logit: 10.31 Prob:  0.91% Token: | killer|\n",
            "Top 7th token. Logit: 10.23 Prob:  0.85% Token: | other|\n",
            "Top 8th token. Logit: 10.21 Prob:  0.82% Token: | next|\n",
            "Top 9th token. Logit: 10.09 Prob:  0.73% Token: | first|\n"
          ]
        },
        {
          "output_type": "display_data",
          "data": {
            "text/plain": [
              "\u001b[1mRanks of the answer tokens:\u001b[0m \u001b[1m[\u001b[0m\u001b[1m(\u001b[0m\u001b[32m' rogue'\u001b[0m, \u001b[1;36m0\u001b[0m\u001b[1m)\u001b[0m\u001b[1m]\u001b[0m\n"
            ],
            "text/html": [
              "<pre style=\"white-space:pre;overflow-x:auto;line-height:normal;font-family:Menlo,'DejaVu Sans Mono',consolas,'Courier New',monospace\"><span style=\"font-weight: bold\">Ranks of the answer tokens:</span> <span style=\"font-weight: bold\">[(</span><span style=\"color: #008000; text-decoration-color: #008000\">' rogue'</span>, <span style=\"color: #008080; text-decoration-color: #008080; font-weight: bold\">0</span><span style=\"font-weight: bold\">)]</span>\n",
              "</pre>\n"
            ]
          },
          "metadata": {}
        },
        {
          "output_type": "stream",
          "name": "stdout",
          "text": [
            "\n",
            "Steered Model...\n",
            "Tokenized prompt: ['<|endoftext|>', 'my', ' eyes', ' fly', ' open', ' ,', ' and', ' i', ' feel', ' they', \" '\", 're', ' engulfed', ' in', ' the', ' ult', ' l', '-', 'e', ' as', ' i', ' recite', ' a', ' poem', ' as', ' if', ' someone', ' else', ' is', ' controlling', ' me', ' ,', ' ``', ' though', ' the', ' clouds', ' dark', 'en', ' the', ' sun', ' ,', ' and', ' the', ' rain', ' becomes', ' tainted', ' ,', ' always', ' know', ' there', ' will', ' be', ' a', ' love', ' that', ' will', ' not', ' die', ' .', ' though', ' hope', ' seems', ' a', ' distant', ' memory', ' ,', ' and', ' human', ' machines', ' walk', ' the', ' land', ' ,', ' know', ' no', ' one', ' can', ' destroy', ' a', ' love', ' that', ' will', ' not', ' die', ' .', \" ''\", ' ``', ' what', ' are', ' you', ' b', 'abbling', ' about', ' ?', \" ''\", ' the', ' rogue', ' asks', ' .', ' i', ' surface', ' from', ' my', ' unconscious', ' state', ' ,', ' and', ' i', ' sit', ' up', ' ,', ' stand', ' ,', ' walk', ' to', ' the', ' pp', 'k', ' ,', ' pick', ' up', ' the', ' gun', ' ,', ' and', ' aim', ' it', ' for', ' the']\n",
            "Tokenized answer: [' rogue']\n"
          ]
        },
        {
          "output_type": "display_data",
          "data": {
            "text/plain": [
              "Performance on answer token:\n",
              "\u001b[1mRank: \u001b[0m\u001b[1;36m499\u001b[0m\u001b[1m      Logit:  \u001b[0m\u001b[1;36m7.73\u001b[0m\u001b[1m Prob:  \u001b[0m\u001b[1;36m0.04\u001b[0m\u001b[1m% Token: | rogue|\u001b[0m\n"
            ],
            "text/html": [
              "<pre style=\"white-space:pre;overflow-x:auto;line-height:normal;font-family:Menlo,'DejaVu Sans Mono',consolas,'Courier New',monospace\">Performance on answer token:\n",
              "<span style=\"font-weight: bold\">Rank: </span><span style=\"color: #008080; text-decoration-color: #008080; font-weight: bold\">499</span><span style=\"font-weight: bold\">      Logit:  </span><span style=\"color: #008080; text-decoration-color: #008080; font-weight: bold\">7.73</span><span style=\"font-weight: bold\"> Prob:  </span><span style=\"color: #008080; text-decoration-color: #008080; font-weight: bold\">0.04</span><span style=\"font-weight: bold\">% Token: | rogue|</span>\n",
              "</pre>\n"
            ]
          },
          "metadata": {}
        },
        {
          "output_type": "stream",
          "name": "stdout",
          "text": [
            "Top 0th token. Logit: 11.88 Prob:  2.23% Token: | eyes|\n",
            "Top 1th token. Logit: 11.58 Prob:  1.65% Token: | killer|\n",
            "Top 2th token. Logit: 11.38 Prob:  1.36% Token: | last|\n",
            "Top 3th token. Logit: 11.05 Prob:  0.98% Token: | red|\n",
            "Top 4th token. Logit: 11.03 Prob:  0.96% Token: | white|\n",
            "Top 5th token. Logit: 11.01 Prob:  0.94% Token: | girl|\n",
            "Top 6th token. Logit: 10.96 Prob:  0.90% Token: | p|\n",
            "Top 7th token. Logit: 10.87 Prob:  0.81% Token: | sky|\n",
            "Top 8th token. Logit: 10.83 Prob:  0.79% Token: | other|\n",
            "Top 9th token. Logit: 10.70 Prob:  0.69% Token: | man|\n"
          ]
        },
        {
          "output_type": "display_data",
          "data": {
            "text/plain": [
              "\u001b[1mRanks of the answer tokens:\u001b[0m \u001b[1m[\u001b[0m\u001b[1m(\u001b[0m\u001b[32m' rogue'\u001b[0m, \u001b[1;36m499\u001b[0m\u001b[1m)\u001b[0m\u001b[1m]\u001b[0m\n"
            ],
            "text/html": [
              "<pre style=\"white-space:pre;overflow-x:auto;line-height:normal;font-family:Menlo,'DejaVu Sans Mono',consolas,'Courier New',monospace\"><span style=\"font-weight: bold\">Ranks of the answer tokens:</span> <span style=\"font-weight: bold\">[(</span><span style=\"color: #008000; text-decoration-color: #008000\">' rogue'</span>, <span style=\"color: #008080; text-decoration-color: #008080; font-weight: bold\">499</span><span style=\"font-weight: bold\">)]</span>\n",
              "</pre>\n"
            ]
          },
          "metadata": {}
        },
        {
          "output_type": "stream",
          "name": "stdout",
          "text": [
            "\n",
            "---------------------------------------------------------------------------------------------------------------------------------------------------------------------------------------------------------------\n",
            "\n",
            "Question: the director jumped up , went to a counter , handed over a ten , and brought back a plate of red velvet cakes . he put them in front of rusty , whose eyes widened with pleasure . she grabbed one in a napkin and began dunking it into her bowl of coffee . danish shook his head and grinned at the\n",
            "Answer: director\n",
            "\n",
            "Base Model...\n",
            "Tokenized prompt: ['<|endoftext|>', 'the', ' director', ' jumped', ' up', ' ,', ' went', ' to', ' a', ' counter', ' ,', ' handed', ' over', ' a', ' ten', ' ,', ' and', ' brought', ' back', ' a', ' plate', ' of', ' red', ' velvet', ' cakes', ' .', ' he', ' put', ' them', ' in', ' front', ' of', ' rusty', ' ,', ' whose', ' eyes', ' widened', ' with', ' pleasure', ' .', ' she', ' grabbed', ' one', ' in', ' a', ' nap', 'kin', ' and', ' began', ' dunk', 'ing', ' it', ' into', ' her', ' bowl', ' of', ' coffee', ' .', ' d', 'anish', ' shook', ' his', ' head', ' and', ' grinned', ' at', ' the']\n",
            "Tokenized answer: [' director']\n"
          ]
        },
        {
          "output_type": "display_data",
          "data": {
            "text/plain": [
              "Performance on answer token:\n",
              "\u001b[1mRank: \u001b[0m\u001b[1;36m0\u001b[0m\u001b[1m        Logit: \u001b[0m\u001b[1;36m13.11\u001b[0m\u001b[1m Prob:  \u001b[0m\u001b[1;36m6.67\u001b[0m\u001b[1m% Token: | director|\u001b[0m\n"
            ],
            "text/html": [
              "<pre style=\"white-space:pre;overflow-x:auto;line-height:normal;font-family:Menlo,'DejaVu Sans Mono',consolas,'Courier New',monospace\">Performance on answer token:\n",
              "<span style=\"font-weight: bold\">Rank: </span><span style=\"color: #008080; text-decoration-color: #008080; font-weight: bold\">0</span><span style=\"font-weight: bold\">        Logit: </span><span style=\"color: #008080; text-decoration-color: #008080; font-weight: bold\">13.11</span><span style=\"font-weight: bold\"> Prob:  </span><span style=\"color: #008080; text-decoration-color: #008080; font-weight: bold\">6.67</span><span style=\"font-weight: bold\">% Token: | director|</span>\n",
              "</pre>\n"
            ]
          },
          "metadata": {}
        },
        {
          "output_type": "stream",
          "name": "stdout",
          "text": [
            "Top 0th token. Logit: 13.11 Prob:  6.67% Token: | director|\n",
            "Top 1th token. Logit: 12.17 Prob:  2.60% Token: | man|\n",
            "Top 2th token. Logit: 12.02 Prob:  2.24% Token: | waitress|\n",
            "Top 3th token. Logit: 11.93 Prob:  2.03% Token: | woman|\n",
            "Top 4th token. Logit: 11.79 Prob:  1.78% Token: | two|\n",
            "Top 5th token. Logit: 11.74 Prob:  1.69% Token: | chef|\n",
            "Top 6th token. Logit: 11.74 Prob:  1.69% Token: | girl|\n",
            "Top 7th token. Logit: 11.29 Prob:  1.08% Token: | waiter|\n",
            "Top 8th token. Logit: 11.13 Prob:  0.91% Token: | other|\n",
            "Top 9th token. Logit: 11.09 Prob:  0.88% Token: | scene|\n"
          ]
        },
        {
          "output_type": "display_data",
          "data": {
            "text/plain": [
              "\u001b[1mRanks of the answer tokens:\u001b[0m \u001b[1m[\u001b[0m\u001b[1m(\u001b[0m\u001b[32m' director'\u001b[0m, \u001b[1;36m0\u001b[0m\u001b[1m)\u001b[0m\u001b[1m]\u001b[0m\n"
            ],
            "text/html": [
              "<pre style=\"white-space:pre;overflow-x:auto;line-height:normal;font-family:Menlo,'DejaVu Sans Mono',consolas,'Courier New',monospace\"><span style=\"font-weight: bold\">Ranks of the answer tokens:</span> <span style=\"font-weight: bold\">[(</span><span style=\"color: #008000; text-decoration-color: #008000\">' director'</span>, <span style=\"color: #008080; text-decoration-color: #008080; font-weight: bold\">0</span><span style=\"font-weight: bold\">)]</span>\n",
              "</pre>\n"
            ]
          },
          "metadata": {}
        },
        {
          "output_type": "stream",
          "name": "stdout",
          "text": [
            "\n",
            "Steered Model...\n",
            "Tokenized prompt: ['<|endoftext|>', 'the', ' director', ' jumped', ' up', ' ,', ' went', ' to', ' a', ' counter', ' ,', ' handed', ' over', ' a', ' ten', ' ,', ' and', ' brought', ' back', ' a', ' plate', ' of', ' red', ' velvet', ' cakes', ' .', ' he', ' put', ' them', ' in', ' front', ' of', ' rusty', ' ,', ' whose', ' eyes', ' widened', ' with', ' pleasure', ' .', ' she', ' grabbed', ' one', ' in', ' a', ' nap', 'kin', ' and', ' began', ' dunk', 'ing', ' it', ' into', ' her', ' bowl', ' of', ' coffee', ' .', ' d', 'anish', ' shook', ' his', ' head', ' and', ' grinned', ' at', ' the']\n",
            "Tokenized answer: [' director']\n"
          ]
        },
        {
          "output_type": "display_data",
          "data": {
            "text/plain": [
              "Performance on answer token:\n",
              "\u001b[1mRank: \u001b[0m\u001b[1;36m388\u001b[0m\u001b[1m      Logit:  \u001b[0m\u001b[1;36m8.91\u001b[0m\u001b[1m Prob:  \u001b[0m\u001b[1;36m0.04\u001b[0m\u001b[1m% Token: | director|\u001b[0m\n"
            ],
            "text/html": [
              "<pre style=\"white-space:pre;overflow-x:auto;line-height:normal;font-family:Menlo,'DejaVu Sans Mono',consolas,'Courier New',monospace\">Performance on answer token:\n",
              "<span style=\"font-weight: bold\">Rank: </span><span style=\"color: #008080; text-decoration-color: #008080; font-weight: bold\">388</span><span style=\"font-weight: bold\">      Logit:  </span><span style=\"color: #008080; text-decoration-color: #008080; font-weight: bold\">8.91</span><span style=\"font-weight: bold\"> Prob:  </span><span style=\"color: #008080; text-decoration-color: #008080; font-weight: bold\">0.04</span><span style=\"font-weight: bold\">% Token: | director|</span>\n",
              "</pre>\n"
            ]
          },
          "metadata": {}
        },
        {
          "output_type": "stream",
          "name": "stdout",
          "text": [
            "Top 0th token. Logit: 13.53 Prob:  3.67% Token: | sight|\n",
            "Top 1th token. Logit: 13.41 Prob:  3.24% Token: | red|\n",
            "Top 2th token. Logit: 13.25 Prob:  2.76% Token: | look|\n",
            "Top 3th token. Logit: 13.14 Prob:  2.48% Token: | girl|\n",
            "Top 4th token. Logit: 13.00 Prob:  2.15% Token: | way|\n",
            "Top 5th token. Logit: 12.70 Prob:  1.60% Token: | blonde|\n",
            "Top 6th token. Logit: 12.66 Prob:  1.53% Token: | man|\n",
            "Top 7th token. Logit: 12.64 Prob:  1.50% Token: | beautiful|\n",
            "Top 8th token. Logit: 12.40 Prob:  1.19% Token: | woman|\n",
            "Top 9th token. Logit: 12.36 Prob:  1.14% Token: | thought|\n"
          ]
        },
        {
          "output_type": "display_data",
          "data": {
            "text/plain": [
              "\u001b[1mRanks of the answer tokens:\u001b[0m \u001b[1m[\u001b[0m\u001b[1m(\u001b[0m\u001b[32m' director'\u001b[0m, \u001b[1;36m388\u001b[0m\u001b[1m)\u001b[0m\u001b[1m]\u001b[0m\n"
            ],
            "text/html": [
              "<pre style=\"white-space:pre;overflow-x:auto;line-height:normal;font-family:Menlo,'DejaVu Sans Mono',consolas,'Courier New',monospace\"><span style=\"font-weight: bold\">Ranks of the answer tokens:</span> <span style=\"font-weight: bold\">[(</span><span style=\"color: #008000; text-decoration-color: #008000\">' director'</span>, <span style=\"color: #008080; text-decoration-color: #008080; font-weight: bold\">388</span><span style=\"font-weight: bold\">)]</span>\n",
              "</pre>\n"
            ]
          },
          "metadata": {}
        },
        {
          "output_type": "stream",
          "name": "stdout",
          "text": [
            "\n",
            "---------------------------------------------------------------------------------------------------------------------------------------------------------------------------------------------------------------\n",
            "\n",
            "Question: most of his audience was none too distant in age from the speaker himself , the youngest of them easily in his fifties . there was , of course , one exception : a young man standing near the back who scarcely could have been more than thirty , neatly dressed in a navy blue suit with a crimson tie . his thin spectacles sat below his eyes , balanced on the tip of his nose , and he peered over them directly at the\n",
            "Answer: speaker\n",
            "\n",
            "Base Model...\n",
            "Tokenized prompt: ['<|endoftext|>', 'most', ' of', ' his', ' audience', ' was', ' none', ' too', ' distant', ' in', ' age', ' from', ' the', ' speaker', ' himself', ' ,', ' the', ' youngest', ' of', ' them', ' easily', ' in', ' his', ' f', 'ift', 'ies', ' .', ' there', ' was', ' ,', ' of', ' course', ' ,', ' one', ' exception', ' :', ' a', ' young', ' man', ' standing', ' near', ' the', ' back', ' who', ' scarcely', ' could', ' have', ' been', ' more', ' than', ' thirty', ' ,', ' neatly', ' dressed', ' in', ' a', ' navy', ' blue', ' suit', ' with', ' a', ' crimson', ' tie', ' .', ' his', ' thin', ' spect', 'acles', ' sat', ' below', ' his', ' eyes', ' ,', ' balanced', ' on', ' the', ' tip', ' of', ' his', ' nose', ' ,', ' and', ' he', ' pe', 'ered', ' over', ' them', ' directly', ' at', ' the']\n",
            "Tokenized answer: [' speaker']\n"
          ]
        },
        {
          "output_type": "display_data",
          "data": {
            "text/plain": [
              "Performance on answer token:\n",
              "\u001b[1mRank: \u001b[0m\u001b[1;36m0\u001b[0m\u001b[1m        Logit: \u001b[0m\u001b[1;36m13.40\u001b[0m\u001b[1m Prob: \u001b[0m\u001b[1;36m12.78\u001b[0m\u001b[1m% Token: | speaker|\u001b[0m\n"
            ],
            "text/html": [
              "<pre style=\"white-space:pre;overflow-x:auto;line-height:normal;font-family:Menlo,'DejaVu Sans Mono',consolas,'Courier New',monospace\">Performance on answer token:\n",
              "<span style=\"font-weight: bold\">Rank: </span><span style=\"color: #008080; text-decoration-color: #008080; font-weight: bold\">0</span><span style=\"font-weight: bold\">        Logit: </span><span style=\"color: #008080; text-decoration-color: #008080; font-weight: bold\">13.40</span><span style=\"font-weight: bold\"> Prob: </span><span style=\"color: #008080; text-decoration-color: #008080; font-weight: bold\">12.78</span><span style=\"font-weight: bold\">% Token: | speaker|</span>\n",
              "</pre>\n"
            ]
          },
          "metadata": {}
        },
        {
          "output_type": "stream",
          "name": "stdout",
          "text": [
            "Top 0th token. Logit: 13.40 Prob: 12.78% Token: | speaker|\n",
            "Top 1th token. Logit: 13.22 Prob: 10.67% Token: | audience|\n",
            "Top 2th token. Logit: 12.13 Prob:  3.60% Token: | crowd|\n",
            "Top 3th token. Logit: 11.97 Prob:  3.08% Token: | young|\n",
            "Top 4th token. Logit: 11.68 Prob:  2.30% Token: | man|\n",
            "Top 5th token. Logit: 10.97 Prob:  1.12% Token: | speakers|\n",
            "Top 6th token. Logit: 10.89 Prob:  1.04% Token: | room|\n",
            "Top 7th token. Logit: 10.63 Prob:  0.81% Token: | two|\n",
            "Top 8th token. Logit: 10.57 Prob:  0.76% Token: | other|\n",
            "Top 9th token. Logit: 10.29 Prob:  0.57% Token: | people|\n"
          ]
        },
        {
          "output_type": "display_data",
          "data": {
            "text/plain": [
              "\u001b[1mRanks of the answer tokens:\u001b[0m \u001b[1m[\u001b[0m\u001b[1m(\u001b[0m\u001b[32m' speaker'\u001b[0m, \u001b[1;36m0\u001b[0m\u001b[1m)\u001b[0m\u001b[1m]\u001b[0m\n"
            ],
            "text/html": [
              "<pre style=\"white-space:pre;overflow-x:auto;line-height:normal;font-family:Menlo,'DejaVu Sans Mono',consolas,'Courier New',monospace\"><span style=\"font-weight: bold\">Ranks of the answer tokens:</span> <span style=\"font-weight: bold\">[(</span><span style=\"color: #008000; text-decoration-color: #008000\">' speaker'</span>, <span style=\"color: #008080; text-decoration-color: #008080; font-weight: bold\">0</span><span style=\"font-weight: bold\">)]</span>\n",
              "</pre>\n"
            ]
          },
          "metadata": {}
        },
        {
          "output_type": "stream",
          "name": "stdout",
          "text": [
            "\n",
            "Steered Model...\n",
            "Tokenized prompt: ['<|endoftext|>', 'most', ' of', ' his', ' audience', ' was', ' none', ' too', ' distant', ' in', ' age', ' from', ' the', ' speaker', ' himself', ' ,', ' the', ' youngest', ' of', ' them', ' easily', ' in', ' his', ' f', 'ift', 'ies', ' .', ' there', ' was', ' ,', ' of', ' course', ' ,', ' one', ' exception', ' :', ' a', ' young', ' man', ' standing', ' near', ' the', ' back', ' who', ' scarcely', ' could', ' have', ' been', ' more', ' than', ' thirty', ' ,', ' neatly', ' dressed', ' in', ' a', ' navy', ' blue', ' suit', ' with', ' a', ' crimson', ' tie', ' .', ' his', ' thin', ' spect', 'acles', ' sat', ' below', ' his', ' eyes', ' ,', ' balanced', ' on', ' the', ' tip', ' of', ' his', ' nose', ' ,', ' and', ' he', ' pe', 'ered', ' over', ' them', ' directly', ' at', ' the']\n",
            "Tokenized answer: [' speaker']\n"
          ]
        },
        {
          "output_type": "display_data",
          "data": {
            "text/plain": [
              "Performance on answer token:\n",
              "\u001b[1mRank: \u001b[0m\u001b[1;36m200\u001b[0m\u001b[1m      Logit:  \u001b[0m\u001b[1;36m8.82\u001b[0m\u001b[1m Prob:  \u001b[0m\u001b[1;36m0.08\u001b[0m\u001b[1m% Token: | speaker|\u001b[0m\n"
            ],
            "text/html": [
              "<pre style=\"white-space:pre;overflow-x:auto;line-height:normal;font-family:Menlo,'DejaVu Sans Mono',consolas,'Courier New',monospace\">Performance on answer token:\n",
              "<span style=\"font-weight: bold\">Rank: </span><span style=\"color: #008080; text-decoration-color: #008080; font-weight: bold\">200</span><span style=\"font-weight: bold\">      Logit:  </span><span style=\"color: #008080; text-decoration-color: #008080; font-weight: bold\">8.82</span><span style=\"font-weight: bold\"> Prob:  </span><span style=\"color: #008080; text-decoration-color: #008080; font-weight: bold\">0.08</span><span style=\"font-weight: bold\">% Token: | speaker|</span>\n",
              "</pre>\n"
            ]
          },
          "metadata": {}
        },
        {
          "output_type": "stream",
          "name": "stdout",
          "text": [
            "Top 0th token. Logit: 12.20 Prob:  2.35% Token: | young|\n",
            "Top 1th token. Logit: 12.04 Prob:  1.99% Token: | white|\n",
            "Top 2th token. Logit: 11.90 Prob:  1.73% Token: | man|\n",
            "Top 3th token. Logit: 11.79 Prob:  1.55% Token: | girl|\n",
            "Top 4th token. Logit: 11.65 Prob:  1.35% Token: | woman|\n",
            "Top 5th token. Logit: 11.64 Prob:  1.34% Token: | pale|\n",
            "Top 6th token. Logit: 11.51 Prob:  1.17% Token: | ground|\n",
            "Top 7th token. Logit: 11.34 Prob:  1.00% Token: | red|\n",
            "Top 8th token. Logit: 11.31 Prob:  0.97% Token: | way|\n",
            "Top 9th token. Logit: 11.24 Prob:  0.89% Token: | room|\n"
          ]
        },
        {
          "output_type": "display_data",
          "data": {
            "text/plain": [
              "\u001b[1mRanks of the answer tokens:\u001b[0m \u001b[1m[\u001b[0m\u001b[1m(\u001b[0m\u001b[32m' speaker'\u001b[0m, \u001b[1;36m200\u001b[0m\u001b[1m)\u001b[0m\u001b[1m]\u001b[0m\n"
            ],
            "text/html": [
              "<pre style=\"white-space:pre;overflow-x:auto;line-height:normal;font-family:Menlo,'DejaVu Sans Mono',consolas,'Courier New',monospace\"><span style=\"font-weight: bold\">Ranks of the answer tokens:</span> <span style=\"font-weight: bold\">[(</span><span style=\"color: #008000; text-decoration-color: #008000\">' speaker'</span>, <span style=\"color: #008080; text-decoration-color: #008080; font-weight: bold\">200</span><span style=\"font-weight: bold\">)]</span>\n",
              "</pre>\n"
            ]
          },
          "metadata": {}
        },
        {
          "output_type": "stream",
          "name": "stdout",
          "text": [
            "\n",
            "---------------------------------------------------------------------------------------------------------------------------------------------------------------------------------------------------------------\n",
            "\n",
            "Question: chrissy was fully aware , however , that in the blink of an eye , the tripping of a small , red switch , she might suddenly cease to exist . si could see that awareness , that awful dilemma that her own end might be near , on her strained face . what would she decide ? he wondered . steeping closer towards him , chrissy moved his hand away from the\n",
            "Answer: switch\n",
            "\n",
            "Base Model...\n",
            "Tokenized prompt: ['<|endoftext|>', 'ch', 'r', 'issy', ' was', ' fully', ' aware', ' ,', ' however', ' ,', ' that', ' in', ' the', ' blink', ' of', ' an', ' eye', ' ,', ' the', ' tri', 'pping', ' of', ' a', ' small', ' ,', ' red', ' switch', ' ,', ' she', ' might', ' suddenly', ' cease', ' to', ' exist', ' .', ' si', ' could', ' see', ' that', ' awareness', ' ,', ' that', ' awful', ' dilemma', ' that', ' her', ' own', ' end', ' might', ' be', ' near', ' ,', ' on', ' her', ' strained', ' face', ' .', ' what', ' would', ' she', ' decide', ' ?', ' he', ' wondered', ' .', ' ste', 'eping', ' closer', ' towards', ' him', ' ,', ' ch', 'r', 'issy', ' moved', ' his', ' hand', ' away', ' from', ' the']\n",
            "Tokenized answer: [' switch']\n"
          ]
        },
        {
          "output_type": "display_data",
          "data": {
            "text/plain": [
              "Performance on answer token:\n",
              "\u001b[1mRank: \u001b[0m\u001b[1;36m0\u001b[0m\u001b[1m        Logit: \u001b[0m\u001b[1;36m13.71\u001b[0m\u001b[1m Prob: \u001b[0m\u001b[1;36m12.66\u001b[0m\u001b[1m% Token: | switch|\u001b[0m\n"
            ],
            "text/html": [
              "<pre style=\"white-space:pre;overflow-x:auto;line-height:normal;font-family:Menlo,'DejaVu Sans Mono',consolas,'Courier New',monospace\">Performance on answer token:\n",
              "<span style=\"font-weight: bold\">Rank: </span><span style=\"color: #008080; text-decoration-color: #008080; font-weight: bold\">0</span><span style=\"font-weight: bold\">        Logit: </span><span style=\"color: #008080; text-decoration-color: #008080; font-weight: bold\">13.71</span><span style=\"font-weight: bold\"> Prob: </span><span style=\"color: #008080; text-decoration-color: #008080; font-weight: bold\">12.66</span><span style=\"font-weight: bold\">% Token: | switch|</span>\n",
              "</pre>\n"
            ]
          },
          "metadata": {}
        },
        {
          "output_type": "stream",
          "name": "stdout",
          "text": [
            "Top 0th token. Logit: 13.71 Prob: 12.66% Token: | switch|\n",
            "Top 1th token. Logit: 11.74 Prob:  1.77% Token: | small|\n",
            "Top 2th token. Logit: 11.74 Prob:  1.76% Token: | edge|\n",
            "Top 3th token. Logit: 11.31 Prob:  1.15% Token: | red|\n",
            "Top 4th token. Logit: 11.10 Prob:  0.93% Token: | corner|\n",
            "Top 5th token. Logit: 11.08 Prob:  0.91% Token: | door|\n",
            "Top 6th token. Logit: 11.07 Prob:  0.91% Token: | handle|\n",
            "Top 7th token. Logit: 11.01 Prob:  0.85% Token: | button|\n",
            "Top 8th token. Logit: 11.00 Prob:  0.84% Token: | knob|\n",
            "Top 9th token. Logit: 10.96 Prob:  0.81% Token: | end|\n"
          ]
        },
        {
          "output_type": "display_data",
          "data": {
            "text/plain": [
              "\u001b[1mRanks of the answer tokens:\u001b[0m \u001b[1m[\u001b[0m\u001b[1m(\u001b[0m\u001b[32m' switch'\u001b[0m, \u001b[1;36m0\u001b[0m\u001b[1m)\u001b[0m\u001b[1m]\u001b[0m\n"
            ],
            "text/html": [
              "<pre style=\"white-space:pre;overflow-x:auto;line-height:normal;font-family:Menlo,'DejaVu Sans Mono',consolas,'Courier New',monospace\"><span style=\"font-weight: bold\">Ranks of the answer tokens:</span> <span style=\"font-weight: bold\">[(</span><span style=\"color: #008000; text-decoration-color: #008000\">' switch'</span>, <span style=\"color: #008080; text-decoration-color: #008080; font-weight: bold\">0</span><span style=\"font-weight: bold\">)]</span>\n",
              "</pre>\n"
            ]
          },
          "metadata": {}
        },
        {
          "output_type": "stream",
          "name": "stdout",
          "text": [
            "\n",
            "Steered Model...\n",
            "Tokenized prompt: ['<|endoftext|>', 'ch', 'r', 'issy', ' was', ' fully', ' aware', ' ,', ' however', ' ,', ' that', ' in', ' the', ' blink', ' of', ' an', ' eye', ' ,', ' the', ' tri', 'pping', ' of', ' a', ' small', ' ,', ' red', ' switch', ' ,', ' she', ' might', ' suddenly', ' cease', ' to', ' exist', ' .', ' si', ' could', ' see', ' that', ' awareness', ' ,', ' that', ' awful', ' dilemma', ' that', ' her', ' own', ' end', ' might', ' be', ' near', ' ,', ' on', ' her', ' strained', ' face', ' .', ' what', ' would', ' she', ' decide', ' ?', ' he', ' wondered', ' .', ' ste', 'eping', ' closer', ' towards', ' him', ' ,', ' ch', 'r', 'issy', ' moved', ' his', ' hand', ' away', ' from', ' the']\n",
            "Tokenized answer: [' switch']\n"
          ]
        },
        {
          "output_type": "display_data",
          "data": {
            "text/plain": [
              "Performance on answer token:\n",
              "\u001b[1mRank: \u001b[0m\u001b[1;36m159\u001b[0m\u001b[1m      Logit:  \u001b[0m\u001b[1;36m9.83\u001b[0m\u001b[1m Prob:  \u001b[0m\u001b[1;36m0.11\u001b[0m\u001b[1m% Token: | switch|\u001b[0m\n"
            ],
            "text/html": [
              "<pre style=\"white-space:pre;overflow-x:auto;line-height:normal;font-family:Menlo,'DejaVu Sans Mono',consolas,'Courier New',monospace\">Performance on answer token:\n",
              "<span style=\"font-weight: bold\">Rank: </span><span style=\"color: #008080; text-decoration-color: #008080; font-weight: bold\">159</span><span style=\"font-weight: bold\">      Logit:  </span><span style=\"color: #008080; text-decoration-color: #008080; font-weight: bold\">9.83</span><span style=\"font-weight: bold\"> Prob:  </span><span style=\"color: #008080; text-decoration-color: #008080; font-weight: bold\">0.11</span><span style=\"font-weight: bold\">% Token: | switch|</span>\n",
              "</pre>\n"
            ]
          },
          "metadata": {}
        },
        {
          "output_type": "stream",
          "name": "stdout",
          "text": [
            "Top 0th token. Logit: 12.89 Prob:  2.43% Token: | red|\n",
            "Top 1th token. Logit: 12.67 Prob:  1.96% Token: | kiss|\n",
            "Top 2th token. Logit: 12.66 Prob:  1.93% Token: | side|\n",
            "Top 3th token. Logit: 12.55 Prob:  1.73% Token: | corner|\n",
            "Top 4th token. Logit: 12.48 Prob:  1.61% Token: | small|\n",
            "Top 5th token. Logit: 12.37 Prob:  1.44% Token: | edge|\n",
            "Top 6th token. Logit: 12.06 Prob:  1.06% Token: | hug|\n",
            "Top 7th token. Logit: 12.04 Prob:  1.04% Token: | little|\n",
            "Top 8th token. Logit: 11.85 Prob:  0.85% Token: | wall|\n",
            "Top 9th token. Logit: 11.83 Prob:  0.84% Token: | soft|\n"
          ]
        },
        {
          "output_type": "display_data",
          "data": {
            "text/plain": [
              "\u001b[1mRanks of the answer tokens:\u001b[0m \u001b[1m[\u001b[0m\u001b[1m(\u001b[0m\u001b[32m' switch'\u001b[0m, \u001b[1;36m159\u001b[0m\u001b[1m)\u001b[0m\u001b[1m]\u001b[0m\n"
            ],
            "text/html": [
              "<pre style=\"white-space:pre;overflow-x:auto;line-height:normal;font-family:Menlo,'DejaVu Sans Mono',consolas,'Courier New',monospace\"><span style=\"font-weight: bold\">Ranks of the answer tokens:</span> <span style=\"font-weight: bold\">[(</span><span style=\"color: #008000; text-decoration-color: #008000\">' switch'</span>, <span style=\"color: #008080; text-decoration-color: #008080; font-weight: bold\">159</span><span style=\"font-weight: bold\">)]</span>\n",
              "</pre>\n"
            ]
          },
          "metadata": {}
        },
        {
          "output_type": "stream",
          "name": "stdout",
          "text": [
            "\n",
            "---------------------------------------------------------------------------------------------------------------------------------------------------------------------------------------------------------------\n",
            "\n",
            "Question: his voice was even less friendly than it had been the last time . `` i have every right to sit here should i choose to do so , '' she returned formally . she held out her bag of popcorn . `` here , '' she said . he frowned . `` i beg your pardon ? '' `` i 'm offering you some of my\n",
            "Answer: popcorn\n",
            "\n",
            "Base Model...\n",
            "Tokenized prompt: ['<|endoftext|>', 'his', ' voice', ' was', ' even', ' less', ' friendly', ' than', ' it', ' had', ' been', ' the', ' last', ' time', ' .', ' ``', ' i', ' have', ' every', ' right', ' to', ' sit', ' here', ' should', ' i', ' choose', ' to', ' do', ' so', ' ,', \" ''\", ' she', ' returned', ' formally', ' .', ' she', ' held', ' out', ' her', ' bag', ' of', ' popcorn', ' .', ' ``', ' here', ' ,', \" ''\", ' she', ' said', ' .', ' he', ' frowned', ' .', ' ``', ' i', ' beg', ' your', ' pardon', ' ?', \" ''\", ' ``', ' i', \" '\", 'm', ' offering', ' you', ' some', ' of', ' my']\n",
            "Tokenized answer: [' popcorn']\n"
          ]
        },
        {
          "output_type": "display_data",
          "data": {
            "text/plain": [
              "Performance on answer token:\n",
              "\u001b[1mRank: \u001b[0m\u001b[1;36m0\u001b[0m\u001b[1m        Logit: \u001b[0m\u001b[1;36m13.65\u001b[0m\u001b[1m Prob: \u001b[0m\u001b[1;36m10.78\u001b[0m\u001b[1m% Token: | popcorn|\u001b[0m\n"
            ],
            "text/html": [
              "<pre style=\"white-space:pre;overflow-x:auto;line-height:normal;font-family:Menlo,'DejaVu Sans Mono',consolas,'Courier New',monospace\">Performance on answer token:\n",
              "<span style=\"font-weight: bold\">Rank: </span><span style=\"color: #008080; text-decoration-color: #008080; font-weight: bold\">0</span><span style=\"font-weight: bold\">        Logit: </span><span style=\"color: #008080; text-decoration-color: #008080; font-weight: bold\">13.65</span><span style=\"font-weight: bold\"> Prob: </span><span style=\"color: #008080; text-decoration-color: #008080; font-weight: bold\">10.78</span><span style=\"font-weight: bold\">% Token: | popcorn|</span>\n",
              "</pre>\n"
            ]
          },
          "metadata": {}
        },
        {
          "output_type": "stream",
          "name": "stdout",
          "text": [
            "Top 0th token. Logit: 13.65 Prob: 10.78% Token: | popcorn|\n",
            "Top 1th token. Logit: 13.58 Prob: 10.00% Token: | favorite|\n",
            "Top 2th token. Logit: 13.19 Prob:  6.75% Token: | own|\n",
            "Top 3th token. Logit: 12.71 Prob:  4.19% Token: | best|\n",
            "Top 4th token. Logit: 12.12 Prob:  2.32% Token: | finest|\n",
            "Top 5th token. Logit: 11.98 Prob:  2.03% Token: | fav|\n",
            "Top 6th token. Logit: 11.73 Prob:  1.58% Token: | favourite|\n",
            "Top 7th token. Logit: 11.71 Prob:  1.55% Token: | stuff|\n",
            "Top 8th token. Logit: 11.65 Prob:  1.46% Token: | food|\n",
            "Top 9th token. Logit: 11.46 Prob:  1.20% Token: | old|\n"
          ]
        },
        {
          "output_type": "display_data",
          "data": {
            "text/plain": [
              "\u001b[1mRanks of the answer tokens:\u001b[0m \u001b[1m[\u001b[0m\u001b[1m(\u001b[0m\u001b[32m' popcorn'\u001b[0m, \u001b[1;36m0\u001b[0m\u001b[1m)\u001b[0m\u001b[1m]\u001b[0m\n"
            ],
            "text/html": [
              "<pre style=\"white-space:pre;overflow-x:auto;line-height:normal;font-family:Menlo,'DejaVu Sans Mono',consolas,'Courier New',monospace\"><span style=\"font-weight: bold\">Ranks of the answer tokens:</span> <span style=\"font-weight: bold\">[(</span><span style=\"color: #008000; text-decoration-color: #008000\">' popcorn'</span>, <span style=\"color: #008080; text-decoration-color: #008080; font-weight: bold\">0</span><span style=\"font-weight: bold\">)]</span>\n",
              "</pre>\n"
            ]
          },
          "metadata": {}
        },
        {
          "output_type": "stream",
          "name": "stdout",
          "text": [
            "\n",
            "Steered Model...\n",
            "Tokenized prompt: ['<|endoftext|>', 'his', ' voice', ' was', ' even', ' less', ' friendly', ' than', ' it', ' had', ' been', ' the', ' last', ' time', ' .', ' ``', ' i', ' have', ' every', ' right', ' to', ' sit', ' here', ' should', ' i', ' choose', ' to', ' do', ' so', ' ,', \" ''\", ' she', ' returned', ' formally', ' .', ' she', ' held', ' out', ' her', ' bag', ' of', ' popcorn', ' .', ' ``', ' here', ' ,', \" ''\", ' she', ' said', ' .', ' he', ' frowned', ' .', ' ``', ' i', ' beg', ' your', ' pardon', ' ?', \" ''\", ' ``', ' i', \" '\", 'm', ' offering', ' you', ' some', ' of', ' my']\n",
            "Tokenized answer: [' popcorn']\n"
          ]
        },
        {
          "output_type": "display_data",
          "data": {
            "text/plain": [
              "Performance on answer token:\n",
              "\u001b[1mRank: \u001b[0m\u001b[1;36m118\u001b[0m\u001b[1m      Logit: \u001b[0m\u001b[1;36m10.04\u001b[0m\u001b[1m Prob:  \u001b[0m\u001b[1;36m0.10\u001b[0m\u001b[1m% Token: | popcorn|\u001b[0m\n"
            ],
            "text/html": [
              "<pre style=\"white-space:pre;overflow-x:auto;line-height:normal;font-family:Menlo,'DejaVu Sans Mono',consolas,'Courier New',monospace\">Performance on answer token:\n",
              "<span style=\"font-weight: bold\">Rank: </span><span style=\"color: #008080; text-decoration-color: #008080; font-weight: bold\">118</span><span style=\"font-weight: bold\">      Logit: </span><span style=\"color: #008080; text-decoration-color: #008080; font-weight: bold\">10.04</span><span style=\"font-weight: bold\"> Prob:  </span><span style=\"color: #008080; text-decoration-color: #008080; font-weight: bold\">0.10</span><span style=\"font-weight: bold\">% Token: | popcorn|</span>\n",
              "</pre>\n"
            ]
          },
          "metadata": {}
        },
        {
          "output_type": "stream",
          "name": "stdout",
          "text": [
            "Top 0th token. Logit: 14.75 Prob: 10.76% Token: | favorite|\n",
            "Top 1th token. Logit: 14.50 Prob:  8.35% Token: | best|\n",
            "Top 2th token. Logit: 13.98 Prob:  4.98% Token: | fav|\n",
            "Top 3th token. Logit: 13.78 Prob:  4.05% Token: | love|\n",
            "Top 4th token. Logit: 13.50 Prob:  3.06% Token: | own|\n",
            "Top 5th token. Logit: 13.22 Prob:  2.32% Token: | favourite|\n",
            "Top 6th token. Logit: 12.88 Prob:  1.65% Token: | clothes|\n",
            "Top 7th token. Logit: 12.84 Prob:  1.59% Token: | stuff|\n",
            "Top 8th token. Logit: 12.73 Prob:  1.43% Token: | things|\n",
            "Top 9th token. Logit: 12.65 Prob:  1.32% Token: | finest|\n"
          ]
        },
        {
          "output_type": "display_data",
          "data": {
            "text/plain": [
              "\u001b[1mRanks of the answer tokens:\u001b[0m \u001b[1m[\u001b[0m\u001b[1m(\u001b[0m\u001b[32m' popcorn'\u001b[0m, \u001b[1;36m118\u001b[0m\u001b[1m)\u001b[0m\u001b[1m]\u001b[0m\n"
            ],
            "text/html": [
              "<pre style=\"white-space:pre;overflow-x:auto;line-height:normal;font-family:Menlo,'DejaVu Sans Mono',consolas,'Courier New',monospace\"><span style=\"font-weight: bold\">Ranks of the answer tokens:</span> <span style=\"font-weight: bold\">[(</span><span style=\"color: #008000; text-decoration-color: #008000\">' popcorn'</span>, <span style=\"color: #008080; text-decoration-color: #008080; font-weight: bold\">118</span><span style=\"font-weight: bold\">)]</span>\n",
              "</pre>\n"
            ]
          },
          "metadata": {}
        },
        {
          "output_type": "stream",
          "name": "stdout",
          "text": [
            "\n",
            "---------------------------------------------------------------------------------------------------------------------------------------------------------------------------------------------------------------\n",
            "\n",
            "Question: `` she 's always been fearless in her search for knowledge . '' alyssa explained , `` we 've read every book in the compound several times including the old set of encyclopedias we found in the attic . '' gabe 's smile vanished as he asked , `` i 'm surprised they allowed that . '' `` they did n't know , '' alyssa offered quietly , `` i was six years old when my parents brought me to the\n",
            "Answer: compound\n",
            "\n",
            "Base Model...\n",
            "Tokenized prompt: ['<|endoftext|>', '``', ' she', \" '\", 's', ' always', ' been', ' fearless', ' in', ' her', ' search', ' for', ' knowledge', ' .', \" ''\", ' a', 'lyss', 'a', ' explained', ' ,', ' ``', ' we', \" '\", 've', ' read', ' every', ' book', ' in', ' the', ' compound', ' several', ' times', ' including', ' the', ' old', ' set', ' of', ' en', 'cycl', 'oped', 'ias', ' we', ' found', ' in', ' the', ' attic', ' .', \" ''\", ' g', 'abe', \" '\", 's', ' smile', ' vanished', ' as', ' he', ' asked', ' ,', ' ``', ' i', \" '\", 'm', ' surprised', ' they', ' allowed', ' that', ' .', \" ''\", ' ``', ' they', ' did', ' n', \"'t\", ' know', ' ,', \" ''\", ' a', 'lyss', 'a', ' offered', ' quietly', ' ,', ' ``', ' i', ' was', ' six', ' years', ' old', ' when', ' my', ' parents', ' brought', ' me', ' to', ' the']\n",
            "Tokenized answer: [' compound']\n"
          ]
        },
        {
          "output_type": "display_data",
          "data": {
            "text/plain": [
              "Performance on answer token:\n",
              "\u001b[1mRank: \u001b[0m\u001b[1;36m0\u001b[0m\u001b[1m        Logit: \u001b[0m\u001b[1;36m13.75\u001b[0m\u001b[1m Prob: \u001b[0m\u001b[1;36m18.83\u001b[0m\u001b[1m% Token: | compound|\u001b[0m\n"
            ],
            "text/html": [
              "<pre style=\"white-space:pre;overflow-x:auto;line-height:normal;font-family:Menlo,'DejaVu Sans Mono',consolas,'Courier New',monospace\">Performance on answer token:\n",
              "<span style=\"font-weight: bold\">Rank: </span><span style=\"color: #008080; text-decoration-color: #008080; font-weight: bold\">0</span><span style=\"font-weight: bold\">        Logit: </span><span style=\"color: #008080; text-decoration-color: #008080; font-weight: bold\">13.75</span><span style=\"font-weight: bold\"> Prob: </span><span style=\"color: #008080; text-decoration-color: #008080; font-weight: bold\">18.83</span><span style=\"font-weight: bold\">% Token: | compound|</span>\n",
              "</pre>\n"
            ]
          },
          "metadata": {}
        },
        {
          "output_type": "stream",
          "name": "stdout",
          "text": [
            "Top 0th token. Logit: 13.75 Prob: 18.83% Token: | compound|\n",
            "Top 1th token. Logit: 12.55 Prob:  5.66% Token: | house|\n",
            "Top 2th token. Logit: 12.17 Prob:  3.85% Token: | school|\n",
            "Top 3th token. Logit: 12.09 Prob:  3.56% Token: | library|\n",
            "Top 4th token. Logit: 10.97 Prob:  1.16% Token: | place|\n",
            "Top 5th token. Logit: 10.85 Prob:  1.04% Token: | farm|\n",
            "Top 6th token. Logit: 10.84 Prob:  1.03% Token: | zoo|\n",
            "Top 7th token. Logit: 10.51 Prob:  0.74% Token: | family|\n",
            "Top 8th token. Logit: 10.51 Prob:  0.73% Token: | home|\n",
            "Top 9th token. Logit: 10.43 Prob:  0.68% Token: | nursery|\n"
          ]
        },
        {
          "output_type": "display_data",
          "data": {
            "text/plain": [
              "\u001b[1mRanks of the answer tokens:\u001b[0m \u001b[1m[\u001b[0m\u001b[1m(\u001b[0m\u001b[32m' compound'\u001b[0m, \u001b[1;36m0\u001b[0m\u001b[1m)\u001b[0m\u001b[1m]\u001b[0m\n"
            ],
            "text/html": [
              "<pre style=\"white-space:pre;overflow-x:auto;line-height:normal;font-family:Menlo,'DejaVu Sans Mono',consolas,'Courier New',monospace\"><span style=\"font-weight: bold\">Ranks of the answer tokens:</span> <span style=\"font-weight: bold\">[(</span><span style=\"color: #008000; text-decoration-color: #008000\">' compound'</span>, <span style=\"color: #008080; text-decoration-color: #008080; font-weight: bold\">0</span><span style=\"font-weight: bold\">)]</span>\n",
              "</pre>\n"
            ]
          },
          "metadata": {}
        },
        {
          "output_type": "stream",
          "name": "stdout",
          "text": [
            "\n",
            "Steered Model...\n",
            "Tokenized prompt: ['<|endoftext|>', '``', ' she', \" '\", 's', ' always', ' been', ' fearless', ' in', ' her', ' search', ' for', ' knowledge', ' .', \" ''\", ' a', 'lyss', 'a', ' explained', ' ,', ' ``', ' we', \" '\", 've', ' read', ' every', ' book', ' in', ' the', ' compound', ' several', ' times', ' including', ' the', ' old', ' set', ' of', ' en', 'cycl', 'oped', 'ias', ' we', ' found', ' in', ' the', ' attic', ' .', \" ''\", ' g', 'abe', \" '\", 's', ' smile', ' vanished', ' as', ' he', ' asked', ' ,', ' ``', ' i', \" '\", 'm', ' surprised', ' they', ' allowed', ' that', ' .', \" ''\", ' ``', ' they', ' did', ' n', \"'t\", ' know', ' ,', \" ''\", ' a', 'lyss', 'a', ' offered', ' quietly', ' ,', ' ``', ' i', ' was', ' six', ' years', ' old', ' when', ' my', ' parents', ' brought', ' me', ' to', ' the']\n",
            "Tokenized answer: [' compound']\n"
          ]
        },
        {
          "output_type": "display_data",
          "data": {
            "text/plain": [
              "Performance on answer token:\n",
              "\u001b[1mRank: \u001b[0m\u001b[1;36m116\u001b[0m\u001b[1m      Logit:  \u001b[0m\u001b[1;36m8.99\u001b[0m\u001b[1m Prob:  \u001b[0m\u001b[1;36m0.13\u001b[0m\u001b[1m% Token: | compound|\u001b[0m\n"
            ],
            "text/html": [
              "<pre style=\"white-space:pre;overflow-x:auto;line-height:normal;font-family:Menlo,'DejaVu Sans Mono',consolas,'Courier New',monospace\">Performance on answer token:\n",
              "<span style=\"font-weight: bold\">Rank: </span><span style=\"color: #008080; text-decoration-color: #008080; font-weight: bold\">116</span><span style=\"font-weight: bold\">      Logit:  </span><span style=\"color: #008080; text-decoration-color: #008080; font-weight: bold\">8.99</span><span style=\"font-weight: bold\"> Prob:  </span><span style=\"color: #008080; text-decoration-color: #008080; font-weight: bold\">0.13</span><span style=\"font-weight: bold\">% Token: | compound|</span>\n",
              "</pre>\n"
            ]
          },
          "metadata": {}
        },
        {
          "output_type": "stream",
          "name": "stdout",
          "text": [
            "Top 0th token. Logit: 12.89 Prob:  6.66% Token: | house|\n",
            "Top 1th token. Logit: 12.01 Prob:  2.77% Token: | library|\n",
            "Top 2th token. Logit: 11.91 Prob:  2.50% Token: | nursery|\n",
            "Top 3th token. Logit: 11.86 Prob:  2.39% Token: | place|\n",
            "Top 4th token. Logit: 11.81 Prob:  2.26% Token: | school|\n",
            "Top 5th token. Logit: 11.31 Prob:  1.37% Token: | little|\n",
            "Top 6th token. Logit: 11.27 Prob:  1.32% Token: | hospital|\n",
            "Top 7th token. Logit: 11.26 Prob:  1.30% Token: | world|\n",
            "Top 8th token. Logit: 11.20 Prob:  1.23% Token: | room|\n",
            "Top 9th token. Logit: 11.16 Prob:  1.19% Token: | door|\n"
          ]
        },
        {
          "output_type": "display_data",
          "data": {
            "text/plain": [
              "\u001b[1mRanks of the answer tokens:\u001b[0m \u001b[1m[\u001b[0m\u001b[1m(\u001b[0m\u001b[32m' compound'\u001b[0m, \u001b[1;36m116\u001b[0m\u001b[1m)\u001b[0m\u001b[1m]\u001b[0m\n"
            ],
            "text/html": [
              "<pre style=\"white-space:pre;overflow-x:auto;line-height:normal;font-family:Menlo,'DejaVu Sans Mono',consolas,'Courier New',monospace\"><span style=\"font-weight: bold\">Ranks of the answer tokens:</span> <span style=\"font-weight: bold\">[(</span><span style=\"color: #008000; text-decoration-color: #008000\">' compound'</span>, <span style=\"color: #008080; text-decoration-color: #008080; font-weight: bold\">116</span><span style=\"font-weight: bold\">)]</span>\n",
              "</pre>\n"
            ]
          },
          "metadata": {}
        },
        {
          "output_type": "stream",
          "name": "stdout",
          "text": [
            "\n",
            "---------------------------------------------------------------------------------------------------------------------------------------------------------------------------------------------------------------\n",
            "\n",
            "Question: `` the michalsons live a few houses down , and every summer they host a big backyard barbecue for the whole neighborhood . but i 'm sure everyone would understand if you 're too busy with the move , or just not interested . '' `` not interested ? '' marianne called out behind her . `` what kind of man is n't interested in a\n",
            "Answer: barbecue\n",
            "\n",
            "Base Model...\n",
            "Tokenized prompt: ['<|endoftext|>', '``', ' the', ' m', 'ich', 'als', 'ons', ' live', ' a', ' few', ' houses', ' down', ' ,', ' and', ' every', ' summer', ' they', ' host', ' a', ' big', ' backyard', ' barbecue', ' for', ' the', ' whole', ' neighborhood', ' .', ' but', ' i', \" '\", 'm', ' sure', ' everyone', ' would', ' understand', ' if', ' you', \" '\", 're', ' too', ' busy', ' with', ' the', ' move', ' ,', ' or', ' just', ' not', ' interested', ' .', \" ''\", ' ``', ' not', ' interested', ' ?', \" ''\", ' mar', 'ian', 'ne', ' called', ' out', ' behind', ' her', ' .', ' ``', ' what', ' kind', ' of', ' man', ' is', ' n', \"'t\", ' interested', ' in', ' a']\n",
            "Tokenized answer: [' barbecue']\n"
          ]
        },
        {
          "output_type": "display_data",
          "data": {
            "text/plain": [
              "Performance on answer token:\n",
              "\u001b[1mRank: \u001b[0m\u001b[1;36m0\u001b[0m\u001b[1m        Logit: \u001b[0m\u001b[1;36m12.99\u001b[0m\u001b[1m Prob:  \u001b[0m\u001b[1;36m5.99\u001b[0m\u001b[1m% Token: | barbecue|\u001b[0m\n"
            ],
            "text/html": [
              "<pre style=\"white-space:pre;overflow-x:auto;line-height:normal;font-family:Menlo,'DejaVu Sans Mono',consolas,'Courier New',monospace\">Performance on answer token:\n",
              "<span style=\"font-weight: bold\">Rank: </span><span style=\"color: #008080; text-decoration-color: #008080; font-weight: bold\">0</span><span style=\"font-weight: bold\">        Logit: </span><span style=\"color: #008080; text-decoration-color: #008080; font-weight: bold\">12.99</span><span style=\"font-weight: bold\"> Prob:  </span><span style=\"color: #008080; text-decoration-color: #008080; font-weight: bold\">5.99</span><span style=\"font-weight: bold\">% Token: | barbecue|</span>\n",
              "</pre>\n"
            ]
          },
          "metadata": {}
        },
        {
          "output_type": "stream",
          "name": "stdout",
          "text": [
            "Top 0th token. Logit: 12.99 Prob:  5.99% Token: | barbecue|\n",
            "Top 1th token. Logit: 12.86 Prob:  5.28% Token: | backyard|\n",
            "Top 2th token. Logit: 12.81 Prob:  5.02% Token: | house|\n",
            "Top 3th token. Logit: 12.65 Prob:  4.30% Token: | big|\n",
            "Top 4th token. Logit: 12.16 Prob:  2.61% Token: | little|\n",
            "Top 5th token. Logit: 12.10 Prob:  2.48% Token: | lot|\n",
            "Top 6th token. Logit: 11.93 Prob:  2.09% Token: | place|\n",
            "Top 7th token. Logit: 11.76 Prob:  1.75% Token: | family|\n",
            "Top 8th token. Logit: 11.75 Prob:  1.74% Token: | new|\n",
            "Top 9th token. Logit: 11.61 Prob:  1.52% Token: | move|\n"
          ]
        },
        {
          "output_type": "display_data",
          "data": {
            "text/plain": [
              "\u001b[1mRanks of the answer tokens:\u001b[0m \u001b[1m[\u001b[0m\u001b[1m(\u001b[0m\u001b[32m' barbecue'\u001b[0m, \u001b[1;36m0\u001b[0m\u001b[1m)\u001b[0m\u001b[1m]\u001b[0m\n"
            ],
            "text/html": [
              "<pre style=\"white-space:pre;overflow-x:auto;line-height:normal;font-family:Menlo,'DejaVu Sans Mono',consolas,'Courier New',monospace\"><span style=\"font-weight: bold\">Ranks of the answer tokens:</span> <span style=\"font-weight: bold\">[(</span><span style=\"color: #008000; text-decoration-color: #008000\">' barbecue'</span>, <span style=\"color: #008080; text-decoration-color: #008080; font-weight: bold\">0</span><span style=\"font-weight: bold\">)]</span>\n",
              "</pre>\n"
            ]
          },
          "metadata": {}
        },
        {
          "output_type": "stream",
          "name": "stdout",
          "text": [
            "\n",
            "Steered Model...\n",
            "Tokenized prompt: ['<|endoftext|>', '``', ' the', ' m', 'ich', 'als', 'ons', ' live', ' a', ' few', ' houses', ' down', ' ,', ' and', ' every', ' summer', ' they', ' host', ' a', ' big', ' backyard', ' barbecue', ' for', ' the', ' whole', ' neighborhood', ' .', ' but', ' i', \" '\", 'm', ' sure', ' everyone', ' would', ' understand', ' if', ' you', \" '\", 're', ' too', ' busy', ' with', ' the', ' move', ' ,', ' or', ' just', ' not', ' interested', ' .', \" ''\", ' ``', ' not', ' interested', ' ?', \" ''\", ' mar', 'ian', 'ne', ' called', ' out', ' behind', ' her', ' .', ' ``', ' what', ' kind', ' of', ' man', ' is', ' n', \"'t\", ' interested', ' in', ' a']\n",
            "Tokenized answer: [' barbecue']\n"
          ]
        },
        {
          "output_type": "display_data",
          "data": {
            "text/plain": [
              "Performance on answer token:\n",
              "\u001b[1mRank: \u001b[0m\u001b[1;36m107\u001b[0m\u001b[1m      Logit: \u001b[0m\u001b[1;36m10.02\u001b[0m\u001b[1m Prob:  \u001b[0m\u001b[1;36m0.15\u001b[0m\u001b[1m% Token: | barbecue|\u001b[0m\n"
            ],
            "text/html": [
              "<pre style=\"white-space:pre;overflow-x:auto;line-height:normal;font-family:Menlo,'DejaVu Sans Mono',consolas,'Courier New',monospace\">Performance on answer token:\n",
              "<span style=\"font-weight: bold\">Rank: </span><span style=\"color: #008080; text-decoration-color: #008080; font-weight: bold\">107</span><span style=\"font-weight: bold\">      Logit: </span><span style=\"color: #008080; text-decoration-color: #008080; font-weight: bold\">10.02</span><span style=\"font-weight: bold\"> Prob:  </span><span style=\"color: #008080; text-decoration-color: #008080; font-weight: bold\">0.15</span><span style=\"font-weight: bold\">% Token: | barbecue|</span>\n",
              "</pre>\n"
            ]
          },
          "metadata": {}
        },
        {
          "output_type": "stream",
          "name": "stdout",
          "text": [
            "Top 0th token. Logit: 13.83 Prob:  6.56% Token: | little|\n",
            "Top 1th token. Logit: 13.79 Prob:  6.29% Token: | big|\n",
            "Top 2th token. Logit: 12.88 Prob:  2.53% Token: | hug|\n",
            "Top 3th token. Logit: 12.79 Prob:  2.31% Token: | good|\n",
            "Top 4th token. Logit: 12.78 Prob:  2.30% Token: | new|\n",
            "Top 5th token. Logit: 12.49 Prob:  1.72% Token: | house|\n",
            "Top 6th token. Logit: 12.24 Prob:  1.34% Token: | lot|\n",
            "Top 7th token. Logit: 12.23 Prob:  1.33% Token: | place|\n",
            "Top 8th token. Logit: 12.09 Prob:  1.15% Token: | smile|\n",
            "Top 9th token. Logit: 11.91 Prob:  0.96% Token: | life|\n"
          ]
        },
        {
          "output_type": "display_data",
          "data": {
            "text/plain": [
              "\u001b[1mRanks of the answer tokens:\u001b[0m \u001b[1m[\u001b[0m\u001b[1m(\u001b[0m\u001b[32m' barbecue'\u001b[0m, \u001b[1;36m107\u001b[0m\u001b[1m)\u001b[0m\u001b[1m]\u001b[0m\n"
            ],
            "text/html": [
              "<pre style=\"white-space:pre;overflow-x:auto;line-height:normal;font-family:Menlo,'DejaVu Sans Mono',consolas,'Courier New',monospace\"><span style=\"font-weight: bold\">Ranks of the answer tokens:</span> <span style=\"font-weight: bold\">[(</span><span style=\"color: #008000; text-decoration-color: #008000\">' barbecue'</span>, <span style=\"color: #008080; text-decoration-color: #008080; font-weight: bold\">107</span><span style=\"font-weight: bold\">)]</span>\n",
              "</pre>\n"
            ]
          },
          "metadata": {}
        },
        {
          "output_type": "stream",
          "name": "stdout",
          "text": [
            "\n",
            "---------------------------------------------------------------------------------------------------------------------------------------------------------------------------------------------------------------\n",
            "\n",
            "Question: ms. d'miagmo was that teacher . trystan opened his mouth , but brie cut him off , `` ms. d'miagmo , i think it 's obvious that trystan feels uncomfortable answering this question because of his religion . is n't it against school policy to discuss faith issues in the classroom anyway ? '' she flipped her golden hair over her shoulder and blinked her big blue eyes at the\n",
            "Answer: teacher\n",
            "\n",
            "Base Model...\n",
            "Tokenized prompt: ['<|endoftext|>', 'ms', '.', ' d', \"'m\", 'i', 'ag', 'mo', ' was', ' that', ' teacher', ' .', ' try', 'stan', ' opened', ' his', ' mouth', ' ,', ' but', ' b', 'rie', ' cut', ' him', ' off', ' ,', ' ``', ' ms', '.', ' d', \"'m\", 'i', 'ag', 'mo', ' ,', ' i', ' think', ' it', \" '\", 's', ' obvious', ' that', ' try', 'stan', ' feels', ' uncomfortable', ' answering', ' this', ' question', ' because', ' of', ' his', ' religion', ' .', ' is', ' n', \"'t\", ' it', ' against', ' school', ' policy', ' to', ' discuss', ' faith', ' issues', ' in', ' the', ' classroom', ' anyway', ' ?', \" ''\", ' she', ' flipped', ' her', ' golden', ' hair', ' over', ' her', ' shoulder', ' and', ' blinked', ' her', ' big', ' blue', ' eyes', ' at', ' the']\n",
            "Tokenized answer: [' teacher']\n"
          ]
        },
        {
          "output_type": "display_data",
          "data": {
            "text/plain": [
              "Performance on answer token:\n",
              "\u001b[1mRank: \u001b[0m\u001b[1;36m0\u001b[0m\u001b[1m        Logit: \u001b[0m\u001b[1;36m13.43\u001b[0m\u001b[1m Prob: \u001b[0m\u001b[1;36m15.58\u001b[0m\u001b[1m% Token: | teacher|\u001b[0m\n"
            ],
            "text/html": [
              "<pre style=\"white-space:pre;overflow-x:auto;line-height:normal;font-family:Menlo,'DejaVu Sans Mono',consolas,'Courier New',monospace\">Performance on answer token:\n",
              "<span style=\"font-weight: bold\">Rank: </span><span style=\"color: #008080; text-decoration-color: #008080; font-weight: bold\">0</span><span style=\"font-weight: bold\">        Logit: </span><span style=\"color: #008080; text-decoration-color: #008080; font-weight: bold\">13.43</span><span style=\"font-weight: bold\"> Prob: </span><span style=\"color: #008080; text-decoration-color: #008080; font-weight: bold\">15.58</span><span style=\"font-weight: bold\">% Token: | teacher|</span>\n",
              "</pre>\n"
            ]
          },
          "metadata": {}
        },
        {
          "output_type": "stream",
          "name": "stdout",
          "text": [
            "Top 0th token. Logit: 13.43 Prob: 15.58% Token: | teacher|\n",
            "Top 1th token. Logit: 11.66 Prob:  2.64% Token: | question|\n",
            "Top 2th token. Logit: 11.59 Prob:  2.47% Token: | girl|\n",
            "Top 3th token. Logit: 11.45 Prob:  2.14% Token: | student|\n",
            "Top 4th token. Logit: 11.16 Prob:  1.61% Token: | students|\n",
            "Top 5th token. Logit: 11.08 Prob:  1.48% Token: | other|\n",
            "Top 6th token. Logit: 10.97 Prob:  1.34% Token: | two|\n",
            "Top 7th token. Logit: 10.96 Prob:  1.32% Token: | professor|\n",
            "Top 8th token. Logit: 10.89 Prob:  1.23% Token: | boy|\n",
            "Top 9th token. Logit: 10.83 Prob:  1.15% Token: | class|\n"
          ]
        },
        {
          "output_type": "display_data",
          "data": {
            "text/plain": [
              "\u001b[1mRanks of the answer tokens:\u001b[0m \u001b[1m[\u001b[0m\u001b[1m(\u001b[0m\u001b[32m' teacher'\u001b[0m, \u001b[1;36m0\u001b[0m\u001b[1m)\u001b[0m\u001b[1m]\u001b[0m\n"
            ],
            "text/html": [
              "<pre style=\"white-space:pre;overflow-x:auto;line-height:normal;font-family:Menlo,'DejaVu Sans Mono',consolas,'Courier New',monospace\"><span style=\"font-weight: bold\">Ranks of the answer tokens:</span> <span style=\"font-weight: bold\">[(</span><span style=\"color: #008000; text-decoration-color: #008000\">' teacher'</span>, <span style=\"color: #008080; text-decoration-color: #008080; font-weight: bold\">0</span><span style=\"font-weight: bold\">)]</span>\n",
              "</pre>\n"
            ]
          },
          "metadata": {}
        },
        {
          "output_type": "stream",
          "name": "stdout",
          "text": [
            "\n",
            "Steered Model...\n",
            "Tokenized prompt: ['<|endoftext|>', 'ms', '.', ' d', \"'m\", 'i', 'ag', 'mo', ' was', ' that', ' teacher', ' .', ' try', 'stan', ' opened', ' his', ' mouth', ' ,', ' but', ' b', 'rie', ' cut', ' him', ' off', ' ,', ' ``', ' ms', '.', ' d', \"'m\", 'i', 'ag', 'mo', ' ,', ' i', ' think', ' it', \" '\", 's', ' obvious', ' that', ' try', 'stan', ' feels', ' uncomfortable', ' answering', ' this', ' question', ' because', ' of', ' his', ' religion', ' .', ' is', ' n', \"'t\", ' it', ' against', ' school', ' policy', ' to', ' discuss', ' faith', ' issues', ' in', ' the', ' classroom', ' anyway', ' ?', \" ''\", ' she', ' flipped', ' her', ' golden', ' hair', ' over', ' her', ' shoulder', ' and', ' blinked', ' her', ' big', ' blue', ' eyes', ' at', ' the']\n",
            "Tokenized answer: [' teacher']\n"
          ]
        },
        {
          "output_type": "display_data",
          "data": {
            "text/plain": [
              "Performance on answer token:\n",
              "\u001b[1mRank: \u001b[0m\u001b[1;36m96\u001b[0m\u001b[1m       Logit: \u001b[0m\u001b[1;36m10.07\u001b[0m\u001b[1m Prob:  \u001b[0m\u001b[1;36m0.17\u001b[0m\u001b[1m% Token: | teacher|\u001b[0m\n"
            ],
            "text/html": [
              "<pre style=\"white-space:pre;overflow-x:auto;line-height:normal;font-family:Menlo,'DejaVu Sans Mono',consolas,'Courier New',monospace\">Performance on answer token:\n",
              "<span style=\"font-weight: bold\">Rank: </span><span style=\"color: #008080; text-decoration-color: #008080; font-weight: bold\">96</span><span style=\"font-weight: bold\">       Logit: </span><span style=\"color: #008080; text-decoration-color: #008080; font-weight: bold\">10.07</span><span style=\"font-weight: bold\"> Prob:  </span><span style=\"color: #008080; text-decoration-color: #008080; font-weight: bold\">0.17</span><span style=\"font-weight: bold\">% Token: | teacher|</span>\n",
              "</pre>\n"
            ]
          },
          "metadata": {}
        },
        {
          "output_type": "stream",
          "name": "stdout",
          "text": [
            "Top 0th token. Logit: 12.96 Prob:  3.01% Token: | red|\n",
            "Top 1th token. Logit: 12.90 Prob:  2.84% Token: | girl|\n",
            "Top 2th token. Logit: 12.89 Prob:  2.81% Token: | words|\n",
            "Top 3th token. Logit: 12.75 Prob:  2.45% Token: | thought|\n",
            "Top 4th token. Logit: 12.56 Prob:  2.02% Token: | way|\n",
            "Top 5th token. Logit: 12.47 Prob:  1.85% Token: | sight|\n",
            "Top 6th token. Logit: 12.45 Prob:  1.81% Token: | look|\n",
            "Top 7th token. Logit: 12.27 Prob:  1.51% Token: | sudden|\n",
            "Top 8th token. Logit: 12.13 Prob:  1.32% Token: | question|\n",
            "Top 9th token. Logit: 12.12 Prob:  1.30% Token: | white|\n"
          ]
        },
        {
          "output_type": "display_data",
          "data": {
            "text/plain": [
              "\u001b[1mRanks of the answer tokens:\u001b[0m \u001b[1m[\u001b[0m\u001b[1m(\u001b[0m\u001b[32m' teacher'\u001b[0m, \u001b[1;36m96\u001b[0m\u001b[1m)\u001b[0m\u001b[1m]\u001b[0m\n"
            ],
            "text/html": [
              "<pre style=\"white-space:pre;overflow-x:auto;line-height:normal;font-family:Menlo,'DejaVu Sans Mono',consolas,'Courier New',monospace\"><span style=\"font-weight: bold\">Ranks of the answer tokens:</span> <span style=\"font-weight: bold\">[(</span><span style=\"color: #008000; text-decoration-color: #008000\">' teacher'</span>, <span style=\"color: #008080; text-decoration-color: #008080; font-weight: bold\">96</span><span style=\"font-weight: bold\">)]</span>\n",
              "</pre>\n"
            ]
          },
          "metadata": {}
        },
        {
          "output_type": "stream",
          "name": "stdout",
          "text": [
            "\n",
            "---------------------------------------------------------------------------------------------------------------------------------------------------------------------------------------------------------------\n",
            "\n",
            "Question: unfortunately , it was a short walk and no sooner had they gotten into a good stride in their conversation then they had arrived at the doorway to her biology class . `` i 'll see you tonight . how about six o’clock ? '' he asked . `` sounds great , '' she said , her face a little blushed as well . they said their goodbyes and jennifer disappeared into one of the\n",
            "Answer: classrooms\n",
            "\n",
            "Base Model...\n",
            "Tokenized prompt: ['<|endoftext|>', 'un', 'fortunately', ' ,', ' it', ' was', ' a', ' short', ' walk', ' and', ' no', ' sooner', ' had', ' they', ' gotten', ' into', ' a', ' good', ' stride', ' in', ' their', ' conversation', ' then', ' they', ' had', ' arrived', ' at', ' the', ' doorway', ' to', ' her', ' biology', ' class', ' .', ' ``', ' i', \" '\", 'll', ' see', ' you', ' tonight', ' .', ' how', ' about', ' six', ' o', '�', '�', 'clock', ' ?', \" ''\", ' he', ' asked', ' .', ' ``', ' sounds', ' great', ' ,', \" ''\", ' she', ' said', ' ,', ' her', ' face', ' a', ' little', ' bl', 'ushed', ' as', ' well', ' .', ' they', ' said', ' their', ' good', 'by', 'es', ' and', ' j', 'enn', 'ifer', ' disappeared', ' into', ' one', ' of', ' the']\n",
            "Tokenized answer: [' classrooms']\n"
          ]
        },
        {
          "output_type": "display_data",
          "data": {
            "text/plain": [
              "Performance on answer token:\n",
              "\u001b[1mRank: \u001b[0m\u001b[1;36m0\u001b[0m\u001b[1m        Logit: \u001b[0m\u001b[1;36m14.01\u001b[0m\u001b[1m Prob:  \u001b[0m\u001b[1;36m7.17\u001b[0m\u001b[1m% Token: | classrooms|\u001b[0m\n"
            ],
            "text/html": [
              "<pre style=\"white-space:pre;overflow-x:auto;line-height:normal;font-family:Menlo,'DejaVu Sans Mono',consolas,'Courier New',monospace\">Performance on answer token:\n",
              "<span style=\"font-weight: bold\">Rank: </span><span style=\"color: #008080; text-decoration-color: #008080; font-weight: bold\">0</span><span style=\"font-weight: bold\">        Logit: </span><span style=\"color: #008080; text-decoration-color: #008080; font-weight: bold\">14.01</span><span style=\"font-weight: bold\"> Prob:  </span><span style=\"color: #008080; text-decoration-color: #008080; font-weight: bold\">7.17</span><span style=\"font-weight: bold\">% Token: | classrooms|</span>\n",
              "</pre>\n"
            ]
          },
          "metadata": {}
        },
        {
          "output_type": "stream",
          "name": "stdout",
          "text": [
            "Top 0th token. Logit: 14.01 Prob:  7.17% Token: | classrooms|\n",
            "Top 1th token. Logit: 13.60 Prob:  4.74% Token: | rooms|\n",
            "Top 2th token. Logit: 13.54 Prob:  4.48% Token: | hall|\n",
            "Top 3th token. Logit: 13.32 Prob:  3.58% Token: | dorm|\n",
            "Top 4th token. Logit: 13.15 Prob:  3.01% Token: | bedrooms|\n",
            "Top 5th token. Logit: 12.71 Prob:  1.94% Token: | halls|\n",
            "Top 6th token. Logit: 12.41 Prob:  1.43% Token: | back|\n",
            "Top 7th token. Logit: 12.40 Prob:  1.43% Token: | living|\n",
            "Top 8th token. Logit: 12.38 Prob:  1.39% Token: | hallway|\n",
            "Top 9th token. Logit: 12.36 Prob:  1.37% Token: | chairs|\n"
          ]
        },
        {
          "output_type": "display_data",
          "data": {
            "text/plain": [
              "\u001b[1mRanks of the answer tokens:\u001b[0m \u001b[1m[\u001b[0m\u001b[1m(\u001b[0m\u001b[32m' classrooms'\u001b[0m, \u001b[1;36m0\u001b[0m\u001b[1m)\u001b[0m\u001b[1m]\u001b[0m\n"
            ],
            "text/html": [
              "<pre style=\"white-space:pre;overflow-x:auto;line-height:normal;font-family:Menlo,'DejaVu Sans Mono',consolas,'Courier New',monospace\"><span style=\"font-weight: bold\">Ranks of the answer tokens:</span> <span style=\"font-weight: bold\">[(</span><span style=\"color: #008000; text-decoration-color: #008000\">' classrooms'</span>, <span style=\"color: #008080; text-decoration-color: #008080; font-weight: bold\">0</span><span style=\"font-weight: bold\">)]</span>\n",
              "</pre>\n"
            ]
          },
          "metadata": {}
        },
        {
          "output_type": "stream",
          "name": "stdout",
          "text": [
            "\n",
            "Steered Model...\n",
            "Tokenized prompt: ['<|endoftext|>', 'un', 'fortunately', ' ,', ' it', ' was', ' a', ' short', ' walk', ' and', ' no', ' sooner', ' had', ' they', ' gotten', ' into', ' a', ' good', ' stride', ' in', ' their', ' conversation', ' then', ' they', ' had', ' arrived', ' at', ' the', ' doorway', ' to', ' her', ' biology', ' class', ' .', ' ``', ' i', \" '\", 'll', ' see', ' you', ' tonight', ' .', ' how', ' about', ' six', ' o', '�', '�', 'clock', ' ?', \" ''\", ' he', ' asked', ' .', ' ``', ' sounds', ' great', ' ,', \" ''\", ' she', ' said', ' ,', ' her', ' face', ' a', ' little', ' bl', 'ushed', ' as', ' well', ' .', ' they', ' said', ' their', ' good', 'by', 'es', ' and', ' j', 'enn', 'ifer', ' disappeared', ' into', ' one', ' of', ' the']\n",
            "Tokenized answer: [' classrooms']\n"
          ]
        },
        {
          "output_type": "display_data",
          "data": {
            "text/plain": [
              "Performance on answer token:\n",
              "\u001b[1mRank: \u001b[0m\u001b[1;36m95\u001b[0m\u001b[1m       Logit: \u001b[0m\u001b[1;36m10.95\u001b[0m\u001b[1m Prob:  \u001b[0m\u001b[1;36m0.20\u001b[0m\u001b[1m% Token: | classrooms|\u001b[0m\n"
            ],
            "text/html": [
              "<pre style=\"white-space:pre;overflow-x:auto;line-height:normal;font-family:Menlo,'DejaVu Sans Mono',consolas,'Courier New',monospace\">Performance on answer token:\n",
              "<span style=\"font-weight: bold\">Rank: </span><span style=\"color: #008080; text-decoration-color: #008080; font-weight: bold\">95</span><span style=\"font-weight: bold\">       Logit: </span><span style=\"color: #008080; text-decoration-color: #008080; font-weight: bold\">10.95</span><span style=\"font-weight: bold\"> Prob:  </span><span style=\"color: #008080; text-decoration-color: #008080; font-weight: bold\">0.20</span><span style=\"font-weight: bold\">% Token: | classrooms|</span>\n",
              "</pre>\n"
            ]
          },
          "metadata": {}
        },
        {
          "output_type": "stream",
          "name": "stdout",
          "text": [
            "Top 0th token. Logit: 13.43 Prob:  2.43% Token: | small|\n",
            "Top 1th token. Logit: 13.19 Prob:  1.91% Token: | hall|\n",
            "Top 2th token. Logit: 13.04 Prob:  1.65% Token: | dorm|\n",
            "Top 3th token. Logit: 13.03 Prob:  1.63% Token: | many|\n",
            "Top 4th token. Logit: 12.99 Prob:  1.57% Token: | little|\n",
            "Top 5th token. Logit: 12.96 Prob:  1.53% Token: | room|\n",
            "Top 6th token. Logit: 12.93 Prob:  1.47% Token: | white|\n",
            "Top 7th token. Logit: 12.92 Prob:  1.47% Token: | rooms|\n",
            "Top 8th token. Logit: 12.83 Prob:  1.33% Token: | back|\n",
            "Top 9th token. Logit: 12.80 Prob:  1.30% Token: | corner|\n"
          ]
        },
        {
          "output_type": "display_data",
          "data": {
            "text/plain": [
              "\u001b[1mRanks of the answer tokens:\u001b[0m \u001b[1m[\u001b[0m\u001b[1m(\u001b[0m\u001b[32m' classrooms'\u001b[0m, \u001b[1;36m95\u001b[0m\u001b[1m)\u001b[0m\u001b[1m]\u001b[0m\n"
            ],
            "text/html": [
              "<pre style=\"white-space:pre;overflow-x:auto;line-height:normal;font-family:Menlo,'DejaVu Sans Mono',consolas,'Courier New',monospace\"><span style=\"font-weight: bold\">Ranks of the answer tokens:</span> <span style=\"font-weight: bold\">[(</span><span style=\"color: #008000; text-decoration-color: #008000\">' classrooms'</span>, <span style=\"color: #008080; text-decoration-color: #008080; font-weight: bold\">95</span><span style=\"font-weight: bold\">)]</span>\n",
              "</pre>\n"
            ]
          },
          "metadata": {}
        },
        {
          "output_type": "stream",
          "name": "stdout",
          "text": [
            "\n",
            "---------------------------------------------------------------------------------------------------------------------------------------------------------------------------------------------------------------\n",
            "\n",
            "Question: `` ah , ah , ah , mister , '' says madame pauline , her tone admonishing . `` off to the bathroom with you and change out of those clothes , right now ! '' i ca n't help but smirk at the treatment my uncle 's getting . `` it 's only a bit of mud , madame duguay , really . '' `` a bit of - you call that a bit of a\n",
            "Answer: mud\n",
            "\n",
            "Base Model...\n",
            "Tokenized prompt: ['<|endoftext|>', '``', ' ah', ' ,', ' ah', ' ,', ' ah', ' ,', ' m', 'ister', ' ,', \" ''\", ' says', ' mad', 'ame', ' p', 'aul', 'ine', ' ,', ' her', ' tone', ' admon', 'ishing', ' .', ' ``', ' off', ' to', ' the', ' bathroom', ' with', ' you', ' and', ' change', ' out', ' of', ' those', ' clothes', ' ,', ' right', ' now', ' !', \" ''\", ' i', ' ca', ' n', \"'t\", ' help', ' but', ' sm', 'irk', ' at', ' the', ' treatment', ' my', ' uncle', \" '\", 's', ' getting', ' .', ' ``', ' it', \" '\", 's', ' only', ' a', ' bit', ' of', ' mud', ' ,', ' mad', 'ame', ' dug', 'uay', ' ,', ' really', ' .', \" ''\", ' ``', ' a', ' bit', ' of', ' -', ' you', ' call', ' that', ' a', ' bit', ' of', ' a']\n",
            "Tokenized answer: [' mud']\n"
          ]
        },
        {
          "output_type": "display_data",
          "data": {
            "text/plain": [
              "Performance on answer token:\n",
              "\u001b[1mRank: \u001b[0m\u001b[1;36m0\u001b[0m\u001b[1m        Logit: \u001b[0m\u001b[1;36m12.17\u001b[0m\u001b[1m Prob:  \u001b[0m\u001b[1;36m2.92\u001b[0m\u001b[1m% Token: | mud|\u001b[0m\n"
            ],
            "text/html": [
              "<pre style=\"white-space:pre;overflow-x:auto;line-height:normal;font-family:Menlo,'DejaVu Sans Mono',consolas,'Courier New',monospace\">Performance on answer token:\n",
              "<span style=\"font-weight: bold\">Rank: </span><span style=\"color: #008080; text-decoration-color: #008080; font-weight: bold\">0</span><span style=\"font-weight: bold\">        Logit: </span><span style=\"color: #008080; text-decoration-color: #008080; font-weight: bold\">12.17</span><span style=\"font-weight: bold\"> Prob:  </span><span style=\"color: #008080; text-decoration-color: #008080; font-weight: bold\">2.92</span><span style=\"font-weight: bold\">% Token: | mud|</span>\n",
              "</pre>\n"
            ]
          },
          "metadata": {}
        },
        {
          "output_type": "stream",
          "name": "stdout",
          "text": [
            "Top 0th token. Logit: 12.17 Prob:  2.92% Token: | mud|\n",
            "Top 1th token. Logit: 11.59 Prob:  1.64% Token: | dirty|\n",
            "Top 2th token. Logit: 11.46 Prob:  1.44% Token: | joke|\n",
            "Top 3th token. Logit: 11.32 Prob:  1.26% Token: | m|\n",
            "Top 4th token. Logit: 11.23 Prob:  1.14% Token: | bad|\n",
            "Top 5th token. Logit: 11.03 Prob:  0.94% Token: | -|\n",
            "Top 6th token. Logit: 11.01 Prob:  0.92% Token: | compliment|\n",
            "Top 7th token. Logit: 10.99 Prob:  0.90% Token: | stink|\n",
            "Top 8th token. Logit: 10.96 Prob:  0.88% Token: | slap|\n",
            "Top 9th token. Logit: 10.95 Prob:  0.87% Token: | sm|\n"
          ]
        },
        {
          "output_type": "display_data",
          "data": {
            "text/plain": [
              "\u001b[1mRanks of the answer tokens:\u001b[0m \u001b[1m[\u001b[0m\u001b[1m(\u001b[0m\u001b[32m' mud'\u001b[0m, \u001b[1;36m0\u001b[0m\u001b[1m)\u001b[0m\u001b[1m]\u001b[0m\n"
            ],
            "text/html": [
              "<pre style=\"white-space:pre;overflow-x:auto;line-height:normal;font-family:Menlo,'DejaVu Sans Mono',consolas,'Courier New',monospace\"><span style=\"font-weight: bold\">Ranks of the answer tokens:</span> <span style=\"font-weight: bold\">[(</span><span style=\"color: #008000; text-decoration-color: #008000\">' mud'</span>, <span style=\"color: #008080; text-decoration-color: #008080; font-weight: bold\">0</span><span style=\"font-weight: bold\">)]</span>\n",
              "</pre>\n"
            ]
          },
          "metadata": {}
        },
        {
          "output_type": "stream",
          "name": "stdout",
          "text": [
            "\n",
            "Steered Model...\n",
            "Tokenized prompt: ['<|endoftext|>', '``', ' ah', ' ,', ' ah', ' ,', ' ah', ' ,', ' m', 'ister', ' ,', \" ''\", ' says', ' mad', 'ame', ' p', 'aul', 'ine', ' ,', ' her', ' tone', ' admon', 'ishing', ' .', ' ``', ' off', ' to', ' the', ' bathroom', ' with', ' you', ' and', ' change', ' out', ' of', ' those', ' clothes', ' ,', ' right', ' now', ' !', \" ''\", ' i', ' ca', ' n', \"'t\", ' help', ' but', ' sm', 'irk', ' at', ' the', ' treatment', ' my', ' uncle', \" '\", 's', ' getting', ' .', ' ``', ' it', \" '\", 's', ' only', ' a', ' bit', ' of', ' mud', ' ,', ' mad', 'ame', ' dug', 'uay', ' ,', ' really', ' .', \" ''\", ' ``', ' a', ' bit', ' of', ' -', ' you', ' call', ' that', ' a', ' bit', ' of', ' a']\n",
            "Tokenized answer: [' mud']\n"
          ]
        },
        {
          "output_type": "display_data",
          "data": {
            "text/plain": [
              "Performance on answer token:\n",
              "\u001b[1mRank: \u001b[0m\u001b[1;36m94\u001b[0m\u001b[1m       Logit: \u001b[0m\u001b[1;36m10.60\u001b[0m\u001b[1m Prob:  \u001b[0m\u001b[1;36m0.18\u001b[0m\u001b[1m% Token: | mud|\u001b[0m\n"
            ],
            "text/html": [
              "<pre style=\"white-space:pre;overflow-x:auto;line-height:normal;font-family:Menlo,'DejaVu Sans Mono',consolas,'Courier New',monospace\">Performance on answer token:\n",
              "<span style=\"font-weight: bold\">Rank: </span><span style=\"color: #008080; text-decoration-color: #008080; font-weight: bold\">94</span><span style=\"font-weight: bold\">       Logit: </span><span style=\"color: #008080; text-decoration-color: #008080; font-weight: bold\">10.60</span><span style=\"font-weight: bold\"> Prob:  </span><span style=\"color: #008080; text-decoration-color: #008080; font-weight: bold\">0.18</span><span style=\"font-weight: bold\">% Token: | mud|</span>\n",
              "</pre>\n"
            ]
          },
          "metadata": {}
        },
        {
          "output_type": "stream",
          "name": "stdout",
          "text": [
            "Top 0th token. Logit: 13.92 Prob:  5.11% Token: | tease|\n",
            "Top 1th token. Logit: 13.42 Prob:  3.11% Token: | smile|\n",
            "Top 2th token. Logit: 13.06 Prob:  2.17% Token: | blush|\n",
            "Top 3th token. Logit: 13.06 Prob:  2.16% Token: | kiss|\n",
            "Top 4th token. Logit: 12.79 Prob:  1.65% Token: | hug|\n",
            "Top 5th token. Logit: 12.65 Prob:  1.44% Token: | dirty|\n",
            "Top 6th token. Logit: 12.54 Prob:  1.28% Token: | bad|\n",
            "Top 7th token. Logit: 12.49 Prob:  1.22% Token: | curse|\n",
            "Top 8th token. Logit: 12.46 Prob:  1.19% Token: | slap|\n",
            "Top 9th token. Logit: 12.45 Prob:  1.18% Token: | -|\n"
          ]
        },
        {
          "output_type": "display_data",
          "data": {
            "text/plain": [
              "\u001b[1mRanks of the answer tokens:\u001b[0m \u001b[1m[\u001b[0m\u001b[1m(\u001b[0m\u001b[32m' mud'\u001b[0m, \u001b[1;36m94\u001b[0m\u001b[1m)\u001b[0m\u001b[1m]\u001b[0m\n"
            ],
            "text/html": [
              "<pre style=\"white-space:pre;overflow-x:auto;line-height:normal;font-family:Menlo,'DejaVu Sans Mono',consolas,'Courier New',monospace\"><span style=\"font-weight: bold\">Ranks of the answer tokens:</span> <span style=\"font-weight: bold\">[(</span><span style=\"color: #008000; text-decoration-color: #008000\">' mud'</span>, <span style=\"color: #008080; text-decoration-color: #008080; font-weight: bold\">94</span><span style=\"font-weight: bold\">)]</span>\n",
              "</pre>\n"
            ]
          },
          "metadata": {}
        }
      ]
    },
    {
      "cell_type": "markdown",
      "source": [
        "### Statistical Analysis"
      ],
      "metadata": {
        "id": "CRr1-V7kDxyC"
      }
    },
    {
      "cell_type": "markdown",
      "source": [
        "We first find the number of prompts that hallucinated (due to the structure of the cleaned data, once token_rank of data starts increasing that's indicative of reaching the end of hallucinating prompts)."
      ],
      "metadata": {
        "id": "Aal_CCLXFVZS"
      }
    },
    {
      "cell_type": "code",
      "source": [
        "num_hallucinated = 0\n",
        "curr_lowest = float('inf')\n",
        "for item in data:\n",
        "  if item[2] <= curr_lowest:\n",
        "    num_hallucinated += 1\n",
        "    curr_lowest = item[2]\n",
        "  else:\n",
        "    break\n",
        "\n",
        "print(num_hallucinated)"
      ],
      "metadata": {
        "colab": {
          "base_uri": "https://localhost:8080/"
        },
        "id": "V0inW7JLCs62",
        "outputId": "5105303e-1b9c-4c86-bbcb-443787d68997"
      },
      "execution_count": 23,
      "outputs": [
        {
          "output_type": "stream",
          "name": "stdout",
          "text": [
            "352\n"
          ]
        }
      ]
    },
    {
      "cell_type": "markdown",
      "source": [
        "We now display sentence structural data to aid in our analysis"
      ],
      "metadata": {
        "id": "NmrSRheUFi_F"
      }
    },
    {
      "cell_type": "code",
      "source": [
        "import string\n",
        "from random import sample\n",
        "from IPython.display import display\n",
        "\n",
        "top_k = 10\n",
        "\n",
        "def structural_stats(prompt):\n",
        "  chars = prompt\n",
        "  tokens = prompt.split()\n",
        "  ends_with_article = prompt.strip().split()[-1].lower() in {\"a\", \"an\", \"the\"}\n",
        "\n",
        "  return {\n",
        "    \"token_length\": len(tokens),\n",
        "    \"comma_count\": chars.count(\",\"),\n",
        "    \"quote_count\": chars.count(\"`\") + chars.count(\"'\"),\n",
        "    \"punct_ratio\": sum(c in string.punctuation for c in chars) / len(chars),\n",
        "    \"ends_with_article\": ends_with_article,\n",
        "  }\n",
        "\n",
        "# Top-k Hallucinations\n",
        "drops = [prompt for prompt, _, _ in data[:top_k]]\n",
        "drop_stats = [structural_stats(p) for p in drops]\n",
        "\n",
        "# All Hallucinations\n",
        "all_drops = [prompt for prompt, _, _ in data[:num_hallucinated]]\n",
        "all_drop_stats = [structural_stats(p) for p in all_drops]\n",
        "\n",
        "# Sample 100 random LAMBADA prompts\n",
        "baseline = [prompt for prompt, _, _ in data]\n",
        "base_stats = [structural_stats(p) for p in baseline]\n",
        "\n",
        "# Compute averages and display table\n",
        "df = pd.DataFrame(drop_stats + all_drop_stats + base_stats)\n",
        "df['prompt_type'] = [f'Top {top_k} Hallucinating Prompts'] * len(drop_stats) + ['All Hallucinating Prompts'] * len(all_drop_stats) + ['LAMBADA'] * len(base_stats)\n",
        "group_means = df.groupby('prompt_type').mean()\n",
        "\n",
        "desired_order = ['LAMBADA', f'Top {top_k} Hallucinating Prompts', 'All Hallucinating Prompts']\n",
        "group_means = group_means.reindex(desired_order)\n",
        "\n",
        "display(group_means)"
      ],
      "metadata": {
        "colab": {
          "base_uri": "https://localhost:8080/",
          "height": 170
        },
        "id": "ulUzn6Uu-SaL",
        "outputId": "463d9bae-f300-4f5c-be13-242c21e77fac"
      },
      "execution_count": 24,
      "outputs": [
        {
          "output_type": "display_data",
          "data": {
            "text/plain": [
              "                              token_length  comma_count  quote_count  \\\n",
              "prompt_type                                                            \n",
              "LAMBADA                          72.720745     3.635940     9.467495   \n",
              "Top 10 Hallucinating Prompts     77.900000     5.100000     9.400000   \n",
              "All Hallucinating Prompts        73.008523     3.542614     8.735795   \n",
              "\n",
              "                              punct_ratio  ends_with_article  \n",
              "prompt_type                                                   \n",
              "LAMBADA                          0.058767           0.273627  \n",
              "Top 10 Hallucinating Prompts     0.052846           0.900000  \n",
              "All Hallucinating Prompts        0.055464           0.605114  "
            ],
            "text/html": [
              "\n",
              "  <div id=\"df-8547e9a0-69ff-4680-b737-8b8fae82c463\" class=\"colab-df-container\">\n",
              "    <div>\n",
              "<style scoped>\n",
              "    .dataframe tbody tr th:only-of-type {\n",
              "        vertical-align: middle;\n",
              "    }\n",
              "\n",
              "    .dataframe tbody tr th {\n",
              "        vertical-align: top;\n",
              "    }\n",
              "\n",
              "    .dataframe thead th {\n",
              "        text-align: right;\n",
              "    }\n",
              "</style>\n",
              "<table border=\"1\" class=\"dataframe\">\n",
              "  <thead>\n",
              "    <tr style=\"text-align: right;\">\n",
              "      <th></th>\n",
              "      <th>token_length</th>\n",
              "      <th>comma_count</th>\n",
              "      <th>quote_count</th>\n",
              "      <th>punct_ratio</th>\n",
              "      <th>ends_with_article</th>\n",
              "    </tr>\n",
              "    <tr>\n",
              "      <th>prompt_type</th>\n",
              "      <th></th>\n",
              "      <th></th>\n",
              "      <th></th>\n",
              "      <th></th>\n",
              "      <th></th>\n",
              "    </tr>\n",
              "  </thead>\n",
              "  <tbody>\n",
              "    <tr>\n",
              "      <th>LAMBADA</th>\n",
              "      <td>72.720745</td>\n",
              "      <td>3.635940</td>\n",
              "      <td>9.467495</td>\n",
              "      <td>0.058767</td>\n",
              "      <td>0.273627</td>\n",
              "    </tr>\n",
              "    <tr>\n",
              "      <th>Top 10 Hallucinating Prompts</th>\n",
              "      <td>77.900000</td>\n",
              "      <td>5.100000</td>\n",
              "      <td>9.400000</td>\n",
              "      <td>0.052846</td>\n",
              "      <td>0.900000</td>\n",
              "    </tr>\n",
              "    <tr>\n",
              "      <th>All Hallucinating Prompts</th>\n",
              "      <td>73.008523</td>\n",
              "      <td>3.542614</td>\n",
              "      <td>8.735795</td>\n",
              "      <td>0.055464</td>\n",
              "      <td>0.605114</td>\n",
              "    </tr>\n",
              "  </tbody>\n",
              "</table>\n",
              "</div>\n",
              "    <div class=\"colab-df-buttons\">\n",
              "\n",
              "  <div class=\"colab-df-container\">\n",
              "    <button class=\"colab-df-convert\" onclick=\"convertToInteractive('df-8547e9a0-69ff-4680-b737-8b8fae82c463')\"\n",
              "            title=\"Convert this dataframe to an interactive table.\"\n",
              "            style=\"display:none;\">\n",
              "\n",
              "  <svg xmlns=\"http://www.w3.org/2000/svg\" height=\"24px\" viewBox=\"0 -960 960 960\">\n",
              "    <path d=\"M120-120v-720h720v720H120Zm60-500h600v-160H180v160Zm220 220h160v-160H400v160Zm0 220h160v-160H400v160ZM180-400h160v-160H180v160Zm440 0h160v-160H620v160ZM180-180h160v-160H180v160Zm440 0h160v-160H620v160Z\"/>\n",
              "  </svg>\n",
              "    </button>\n",
              "\n",
              "  <style>\n",
              "    .colab-df-container {\n",
              "      display:flex;\n",
              "      gap: 12px;\n",
              "    }\n",
              "\n",
              "    .colab-df-convert {\n",
              "      background-color: #E8F0FE;\n",
              "      border: none;\n",
              "      border-radius: 50%;\n",
              "      cursor: pointer;\n",
              "      display: none;\n",
              "      fill: #1967D2;\n",
              "      height: 32px;\n",
              "      padding: 0 0 0 0;\n",
              "      width: 32px;\n",
              "    }\n",
              "\n",
              "    .colab-df-convert:hover {\n",
              "      background-color: #E2EBFA;\n",
              "      box-shadow: 0px 1px 2px rgba(60, 64, 67, 0.3), 0px 1px 3px 1px rgba(60, 64, 67, 0.15);\n",
              "      fill: #174EA6;\n",
              "    }\n",
              "\n",
              "    .colab-df-buttons div {\n",
              "      margin-bottom: 4px;\n",
              "    }\n",
              "\n",
              "    [theme=dark] .colab-df-convert {\n",
              "      background-color: #3B4455;\n",
              "      fill: #D2E3FC;\n",
              "    }\n",
              "\n",
              "    [theme=dark] .colab-df-convert:hover {\n",
              "      background-color: #434B5C;\n",
              "      box-shadow: 0px 1px 3px 1px rgba(0, 0, 0, 0.15);\n",
              "      filter: drop-shadow(0px 1px 2px rgba(0, 0, 0, 0.3));\n",
              "      fill: #FFFFFF;\n",
              "    }\n",
              "  </style>\n",
              "\n",
              "    <script>\n",
              "      const buttonEl =\n",
              "        document.querySelector('#df-8547e9a0-69ff-4680-b737-8b8fae82c463 button.colab-df-convert');\n",
              "      buttonEl.style.display =\n",
              "        google.colab.kernel.accessAllowed ? 'block' : 'none';\n",
              "\n",
              "      async function convertToInteractive(key) {\n",
              "        const element = document.querySelector('#df-8547e9a0-69ff-4680-b737-8b8fae82c463');\n",
              "        const dataTable =\n",
              "          await google.colab.kernel.invokeFunction('convertToInteractive',\n",
              "                                                    [key], {});\n",
              "        if (!dataTable) return;\n",
              "\n",
              "        const docLinkHtml = 'Like what you see? Visit the ' +\n",
              "          '<a target=\"_blank\" href=https://colab.research.google.com/notebooks/data_table.ipynb>data table notebook</a>'\n",
              "          + ' to learn more about interactive tables.';\n",
              "        element.innerHTML = '';\n",
              "        dataTable['output_type'] = 'display_data';\n",
              "        await google.colab.output.renderOutput(dataTable, element);\n",
              "        const docLink = document.createElement('div');\n",
              "        docLink.innerHTML = docLinkHtml;\n",
              "        element.appendChild(docLink);\n",
              "      }\n",
              "    </script>\n",
              "  </div>\n",
              "\n",
              "\n",
              "    <div id=\"df-bddce65f-c1bc-485d-b612-4edba8f1478c\">\n",
              "      <button class=\"colab-df-quickchart\" onclick=\"quickchart('df-bddce65f-c1bc-485d-b612-4edba8f1478c')\"\n",
              "                title=\"Suggest charts\"\n",
              "                style=\"display:none;\">\n",
              "\n",
              "<svg xmlns=\"http://www.w3.org/2000/svg\" height=\"24px\"viewBox=\"0 0 24 24\"\n",
              "     width=\"24px\">\n",
              "    <g>\n",
              "        <path d=\"M19 3H5c-1.1 0-2 .9-2 2v14c0 1.1.9 2 2 2h14c1.1 0 2-.9 2-2V5c0-1.1-.9-2-2-2zM9 17H7v-7h2v7zm4 0h-2V7h2v10zm4 0h-2v-4h2v4z\"/>\n",
              "    </g>\n",
              "</svg>\n",
              "      </button>\n",
              "\n",
              "<style>\n",
              "  .colab-df-quickchart {\n",
              "      --bg-color: #E8F0FE;\n",
              "      --fill-color: #1967D2;\n",
              "      --hover-bg-color: #E2EBFA;\n",
              "      --hover-fill-color: #174EA6;\n",
              "      --disabled-fill-color: #AAA;\n",
              "      --disabled-bg-color: #DDD;\n",
              "  }\n",
              "\n",
              "  [theme=dark] .colab-df-quickchart {\n",
              "      --bg-color: #3B4455;\n",
              "      --fill-color: #D2E3FC;\n",
              "      --hover-bg-color: #434B5C;\n",
              "      --hover-fill-color: #FFFFFF;\n",
              "      --disabled-bg-color: #3B4455;\n",
              "      --disabled-fill-color: #666;\n",
              "  }\n",
              "\n",
              "  .colab-df-quickchart {\n",
              "    background-color: var(--bg-color);\n",
              "    border: none;\n",
              "    border-radius: 50%;\n",
              "    cursor: pointer;\n",
              "    display: none;\n",
              "    fill: var(--fill-color);\n",
              "    height: 32px;\n",
              "    padding: 0;\n",
              "    width: 32px;\n",
              "  }\n",
              "\n",
              "  .colab-df-quickchart:hover {\n",
              "    background-color: var(--hover-bg-color);\n",
              "    box-shadow: 0 1px 2px rgba(60, 64, 67, 0.3), 0 1px 3px 1px rgba(60, 64, 67, 0.15);\n",
              "    fill: var(--button-hover-fill-color);\n",
              "  }\n",
              "\n",
              "  .colab-df-quickchart-complete:disabled,\n",
              "  .colab-df-quickchart-complete:disabled:hover {\n",
              "    background-color: var(--disabled-bg-color);\n",
              "    fill: var(--disabled-fill-color);\n",
              "    box-shadow: none;\n",
              "  }\n",
              "\n",
              "  .colab-df-spinner {\n",
              "    border: 2px solid var(--fill-color);\n",
              "    border-color: transparent;\n",
              "    border-bottom-color: var(--fill-color);\n",
              "    animation:\n",
              "      spin 1s steps(1) infinite;\n",
              "  }\n",
              "\n",
              "  @keyframes spin {\n",
              "    0% {\n",
              "      border-color: transparent;\n",
              "      border-bottom-color: var(--fill-color);\n",
              "      border-left-color: var(--fill-color);\n",
              "    }\n",
              "    20% {\n",
              "      border-color: transparent;\n",
              "      border-left-color: var(--fill-color);\n",
              "      border-top-color: var(--fill-color);\n",
              "    }\n",
              "    30% {\n",
              "      border-color: transparent;\n",
              "      border-left-color: var(--fill-color);\n",
              "      border-top-color: var(--fill-color);\n",
              "      border-right-color: var(--fill-color);\n",
              "    }\n",
              "    40% {\n",
              "      border-color: transparent;\n",
              "      border-right-color: var(--fill-color);\n",
              "      border-top-color: var(--fill-color);\n",
              "    }\n",
              "    60% {\n",
              "      border-color: transparent;\n",
              "      border-right-color: var(--fill-color);\n",
              "    }\n",
              "    80% {\n",
              "      border-color: transparent;\n",
              "      border-right-color: var(--fill-color);\n",
              "      border-bottom-color: var(--fill-color);\n",
              "    }\n",
              "    90% {\n",
              "      border-color: transparent;\n",
              "      border-bottom-color: var(--fill-color);\n",
              "    }\n",
              "  }\n",
              "</style>\n",
              "\n",
              "      <script>\n",
              "        async function quickchart(key) {\n",
              "          const quickchartButtonEl =\n",
              "            document.querySelector('#' + key + ' button');\n",
              "          quickchartButtonEl.disabled = true;  // To prevent multiple clicks.\n",
              "          quickchartButtonEl.classList.add('colab-df-spinner');\n",
              "          try {\n",
              "            const charts = await google.colab.kernel.invokeFunction(\n",
              "                'suggestCharts', [key], {});\n",
              "          } catch (error) {\n",
              "            console.error('Error during call to suggestCharts:', error);\n",
              "          }\n",
              "          quickchartButtonEl.classList.remove('colab-df-spinner');\n",
              "          quickchartButtonEl.classList.add('colab-df-quickchart-complete');\n",
              "        }\n",
              "        (() => {\n",
              "          let quickchartButtonEl =\n",
              "            document.querySelector('#df-bddce65f-c1bc-485d-b612-4edba8f1478c button');\n",
              "          quickchartButtonEl.style.display =\n",
              "            google.colab.kernel.accessAllowed ? 'block' : 'none';\n",
              "        })();\n",
              "      </script>\n",
              "    </div>\n",
              "\n",
              "  <div id=\"id_31da5e1e-34bc-4d0b-b2c0-06d065434220\">\n",
              "    <style>\n",
              "      .colab-df-generate {\n",
              "        background-color: #E8F0FE;\n",
              "        border: none;\n",
              "        border-radius: 50%;\n",
              "        cursor: pointer;\n",
              "        display: none;\n",
              "        fill: #1967D2;\n",
              "        height: 32px;\n",
              "        padding: 0 0 0 0;\n",
              "        width: 32px;\n",
              "      }\n",
              "\n",
              "      .colab-df-generate:hover {\n",
              "        background-color: #E2EBFA;\n",
              "        box-shadow: 0px 1px 2px rgba(60, 64, 67, 0.3), 0px 1px 3px 1px rgba(60, 64, 67, 0.15);\n",
              "        fill: #174EA6;\n",
              "      }\n",
              "\n",
              "      [theme=dark] .colab-df-generate {\n",
              "        background-color: #3B4455;\n",
              "        fill: #D2E3FC;\n",
              "      }\n",
              "\n",
              "      [theme=dark] .colab-df-generate:hover {\n",
              "        background-color: #434B5C;\n",
              "        box-shadow: 0px 1px 3px 1px rgba(0, 0, 0, 0.15);\n",
              "        filter: drop-shadow(0px 1px 2px rgba(0, 0, 0, 0.3));\n",
              "        fill: #FFFFFF;\n",
              "      }\n",
              "    </style>\n",
              "    <button class=\"colab-df-generate\" onclick=\"generateWithVariable('group_means')\"\n",
              "            title=\"Generate code using this dataframe.\"\n",
              "            style=\"display:none;\">\n",
              "\n",
              "  <svg xmlns=\"http://www.w3.org/2000/svg\" height=\"24px\"viewBox=\"0 0 24 24\"\n",
              "       width=\"24px\">\n",
              "    <path d=\"M7,19H8.4L18.45,9,17,7.55,7,17.6ZM5,21V16.75L18.45,3.32a2,2,0,0,1,2.83,0l1.4,1.43a1.91,1.91,0,0,1,.58,1.4,1.91,1.91,0,0,1-.58,1.4L9.25,21ZM18.45,9,17,7.55Zm-12,3A5.31,5.31,0,0,0,4.9,8.1,5.31,5.31,0,0,0,1,6.5,5.31,5.31,0,0,0,4.9,4.9,5.31,5.31,0,0,0,6.5,1,5.31,5.31,0,0,0,8.1,4.9,5.31,5.31,0,0,0,12,6.5,5.46,5.46,0,0,0,6.5,12Z\"/>\n",
              "  </svg>\n",
              "    </button>\n",
              "    <script>\n",
              "      (() => {\n",
              "      const buttonEl =\n",
              "        document.querySelector('#id_31da5e1e-34bc-4d0b-b2c0-06d065434220 button.colab-df-generate');\n",
              "      buttonEl.style.display =\n",
              "        google.colab.kernel.accessAllowed ? 'block' : 'none';\n",
              "\n",
              "      buttonEl.onclick = () => {\n",
              "        google.colab.notebook.generateWithVariable('group_means');\n",
              "      }\n",
              "      })();\n",
              "    </script>\n",
              "  </div>\n",
              "\n",
              "    </div>\n",
              "  </div>\n"
            ],
            "application/vnd.google.colaboratory.intrinsic+json": {
              "type": "dataframe",
              "variable_name": "group_means",
              "summary": "{\n  \"name\": \"group_means\",\n  \"rows\": 3,\n  \"fields\": [\n    {\n      \"column\": \"prompt_type\",\n      \"properties\": {\n        \"dtype\": \"string\",\n        \"num_unique_values\": 3,\n        \"samples\": [\n          \"LAMBADA\",\n          \"Top 10 Hallucinating Prompts\",\n          \"All Hallucinating Prompts\"\n        ],\n        \"semantic_type\": \"\",\n        \"description\": \"\"\n      }\n    },\n    {\n      \"column\": \"token_length\",\n      \"properties\": {\n        \"dtype\": \"number\",\n        \"std\": 2.9107286067018525,\n        \"min\": 72.72074519697264,\n        \"max\": 77.9,\n        \"num_unique_values\": 3,\n        \"samples\": [\n          72.72074519697264,\n          77.9,\n          73.00852272727273\n        ],\n        \"semantic_type\": \"\",\n        \"description\": \"\"\n      }\n    },\n    {\n      \"column\": \"comma_count\",\n      \"properties\": {\n        \"dtype\": \"number\",\n        \"std\": 0.8734637133861434,\n        \"min\": 3.5426136363636362,\n        \"max\": 5.1,\n        \"num_unique_values\": 3,\n        \"samples\": [\n          3.6359402289928195,\n          5.1,\n          3.5426136363636362\n        ],\n        \"semantic_type\": \"\",\n        \"description\": \"\"\n      }\n    },\n    {\n      \"column\": \"quote_count\",\n      \"properties\": {\n        \"dtype\": \"number\",\n        \"std\": 0.404373371170995,\n        \"min\": 8.735795454545455,\n        \"max\": 9.467494663302931,\n        \"num_unique_values\": 3,\n        \"samples\": [\n          9.467494663302931,\n          9.4,\n          8.735795454545455\n        ],\n        \"semantic_type\": \"\",\n        \"description\": \"\"\n      }\n    },\n    {\n      \"column\": \"punct_ratio\",\n      \"properties\": {\n        \"dtype\": \"number\",\n        \"std\": 0.002966843170782042,\n        \"min\": 0.05284616988534814,\n        \"max\": 0.0587666687207646,\n        \"num_unique_values\": 3,\n        \"samples\": [\n          0.0587666687207646,\n          0.05284616988534814,\n          0.055464008212519914\n        ],\n        \"semantic_type\": \"\",\n        \"description\": \"\"\n      }\n    },\n    {\n      \"column\": \"ends_with_article\",\n      \"properties\": {\n        \"dtype\": \"number\",\n        \"std\": 0.31336466164927307,\n        \"min\": 0.2736270133902581,\n        \"max\": 0.9,\n        \"num_unique_values\": 3,\n        \"samples\": [\n          0.2736270133902581,\n          0.9,\n          0.6051136363636364\n        ],\n        \"semantic_type\": \"\",\n        \"description\": \"\"\n      }\n    }\n  ]\n}"
            }
          },
          "metadata": {}
        }
      ]
    }
  ]
}
